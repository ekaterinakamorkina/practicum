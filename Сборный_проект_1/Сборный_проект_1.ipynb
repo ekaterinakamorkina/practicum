{
 "cells": [
  {
   "cell_type": "markdown",
   "metadata": {},
   "source": [
    "# Сборный проект:   \n",
    "# Анализ факторов, определяющих успешность компьютерных игр"
   ]
  },
  {
   "cell_type": "markdown",
   "metadata": {},
   "source": [
    "Интернет-магазин «Стримчик» продаёт по всему миру компьютерные игры. Из открытых источников доступны исторические данные о продажах игр, оценки пользователей и экспертов, жанры и платформы. Нужно выявить закономерности, определяющие успешность игры. Это позволит сделать ставку на потенциально популярный продукт и спланировать рекламные кампании. Данные за 2016 год могут быть неполными."
   ]
  },
  {
   "cell_type": "markdown",
   "metadata": {},
   "source": [
    "Цель исследования:   \n",
    "Выявить и проанализировать ключевые факторы, влияющие на успешность компьютерных игр, используя исторические данные о продажах, оценках пользователей и экспертов, жанрах и платформах. На основе полученных результатов предложить рекомендации по выбору потенциально успешных продуктов и планированию рекламных кампаний для интернет-магазина «Стримчик» на 2017 год и последующие периоды."
   ]
  },
  {
   "cell_type": "markdown",
   "metadata": {},
   "source": [
    "План исследования\n",
    "\n",
    "1. Общее изучение данных\n",
    "2. Предобработка данных\n",
    "\n",
    "3. Исследовательский анализ данных\n",
    "- Сколько игр выпускалось в разные годы. Важны ли данные за все периоды?\n",
    "- Как менялись продажи по платформам.\n",
    "- Какие платформы лидируют по продажам, растут или падают?\n",
    "- График «ящик с усами» по глобальным продажам игр в разбивке по платформам\n",
    "- Как влияют на продажи внутри одной популярной платформы отзывы пользователей и критиков.\n",
    "- Выводы с продажами игр на других платформах.\n",
    "- Что можно сказать о самых прибыльных жанрах? Выделяются ли жанры с высокими и низкими продажами?\n",
    "\n",
    "5. Портрет пользователя каждого региона\n",
    "Самые популярные платформы (топ-5). Опишите различия в долях продаж.\n",
    "Самые популярные жанры (топ-5). Поясните разницу.\n",
    "Влияет ли рейтинг ESRB на продажи в отдельном регионе?\n",
    "\n",
    "6. Проверка гипотез\n",
    "Средние пользовательские рейтинги платформ Xbox One и PC одинаковые;\n",
    "Средние пользовательские рейтинги жанров Action\n",
    "\n",
    "7. Общий вывод"
   ]
  },
  {
   "cell_type": "markdown",
   "metadata": {},
   "source": [
    "Описание данных  \n",
    "Name — название игры  \n",
    "Platform — платформа  \n",
    "Year_of_Release — год выпуска  \n",
    "Genre — жанр игры  \n",
    "NA_sales — продажи в Северной Америке (миллионы проданных копий)  \n",
    "EU_sales — продажи в Европе (миллионы проданных копий)  \n",
    "JP_sales — продажи в Японии (миллионы проданных копий)  \n",
    "Other_sales — продажи в других странах (миллионы проданных копий)  \n",
    "Critic_Score — оценка критиков (максимум 100)  \n",
    "User_Score — оценка пользователей (максимум 10)  \n",
    "Rating — рейтинг от организации ESRB. Эта ассоциация определяет рейтинг компьютерных игр и присваивает им подходящую возрастную категорию.  "
   ]
  },
  {
   "cell_type": "markdown",
   "metadata": {},
   "source": [
    "Стандартные системы рейтинга ESRB  \n",
    "\n",
    "E (Everyone) - Для всех.  \n",
    "E10+ (Everyone 10 and Older) - Для всех старше 10 лет.  \n",
    "T (Teen) - Для подростков.  \n",
    "M (Mature) - Для взрослых.  \n",
    "AO (Adults Only) - Только для взрослых.  \n",
    "RP (Rating Pending) - Рейтинг пока не определен.  \n",
    "K-A' - \"Kids to Adults для всех возрастов.  \n",
    "EC' - \"Early Childhood\" для маленьких детей  "
   ]
  },
  {
   "cell_type": "markdown",
   "metadata": {},
   "source": [
    "## Общее изучение информации"
   ]
  },
  {
   "cell_type": "code",
   "execution_count": 1,
   "metadata": {},
   "outputs": [
    {
     "data": {
      "text/plain": [
       "<pandas._config.config.option_context at 0x7f1ab1180c40>"
      ]
     },
     "execution_count": 1,
     "metadata": {},
     "output_type": "execute_result"
    }
   ],
   "source": [
    "import pandas as pd  \n",
    "import matplotlib.pyplot as plt\n",
    "import numpy as np\n",
    "import seaborn as sns\n",
    "from scipy import stats as st\n",
    "from math import factorial\n",
    "import warnings\n",
    "warnings.filterwarnings(\"ignore\")\n",
    "#pd.set_option('display.max_rows', None) #добавили функции для отображения всех строк и столбцов при выводе\n",
    "pd.option_context('mode.use_inf_as_na', True)"
   ]
  },
  {
   "cell_type": "code",
   "execution_count": 2,
   "metadata": {},
   "outputs": [],
   "source": [
    "data = pd.read_csv('/datasets/games.csv')\n",
    "#data = pd.read_csv('/Users/ekaterinakamorkina/Downloads/games.csv')"
   ]
  },
  {
   "cell_type": "code",
   "execution_count": 3,
   "metadata": {},
   "outputs": [
    {
     "data": {
      "text/html": [
       "<div>\n",
       "<style scoped>\n",
       "    .dataframe tbody tr th:only-of-type {\n",
       "        vertical-align: middle;\n",
       "    }\n",
       "\n",
       "    .dataframe tbody tr th {\n",
       "        vertical-align: top;\n",
       "    }\n",
       "\n",
       "    .dataframe thead th {\n",
       "        text-align: right;\n",
       "    }\n",
       "</style>\n",
       "<table border=\"1\" class=\"dataframe\">\n",
       "  <thead>\n",
       "    <tr style=\"text-align: right;\">\n",
       "      <th></th>\n",
       "      <th>Name</th>\n",
       "      <th>Platform</th>\n",
       "      <th>Year_of_Release</th>\n",
       "      <th>Genre</th>\n",
       "      <th>NA_sales</th>\n",
       "      <th>EU_sales</th>\n",
       "      <th>JP_sales</th>\n",
       "      <th>Other_sales</th>\n",
       "      <th>Critic_Score</th>\n",
       "      <th>User_Score</th>\n",
       "      <th>Rating</th>\n",
       "    </tr>\n",
       "  </thead>\n",
       "  <tbody>\n",
       "    <tr>\n",
       "      <th>0</th>\n",
       "      <td>Wii Sports</td>\n",
       "      <td>Wii</td>\n",
       "      <td>2006.0</td>\n",
       "      <td>Sports</td>\n",
       "      <td>41.36</td>\n",
       "      <td>28.96</td>\n",
       "      <td>3.77</td>\n",
       "      <td>8.45</td>\n",
       "      <td>76.0</td>\n",
       "      <td>8</td>\n",
       "      <td>E</td>\n",
       "    </tr>\n",
       "    <tr>\n",
       "      <th>1</th>\n",
       "      <td>Super Mario Bros.</td>\n",
       "      <td>NES</td>\n",
       "      <td>1985.0</td>\n",
       "      <td>Platform</td>\n",
       "      <td>29.08</td>\n",
       "      <td>3.58</td>\n",
       "      <td>6.81</td>\n",
       "      <td>0.77</td>\n",
       "      <td>NaN</td>\n",
       "      <td>NaN</td>\n",
       "      <td>NaN</td>\n",
       "    </tr>\n",
       "    <tr>\n",
       "      <th>2</th>\n",
       "      <td>Mario Kart Wii</td>\n",
       "      <td>Wii</td>\n",
       "      <td>2008.0</td>\n",
       "      <td>Racing</td>\n",
       "      <td>15.68</td>\n",
       "      <td>12.76</td>\n",
       "      <td>3.79</td>\n",
       "      <td>3.29</td>\n",
       "      <td>82.0</td>\n",
       "      <td>8.3</td>\n",
       "      <td>E</td>\n",
       "    </tr>\n",
       "    <tr>\n",
       "      <th>3</th>\n",
       "      <td>Wii Sports Resort</td>\n",
       "      <td>Wii</td>\n",
       "      <td>2009.0</td>\n",
       "      <td>Sports</td>\n",
       "      <td>15.61</td>\n",
       "      <td>10.93</td>\n",
       "      <td>3.28</td>\n",
       "      <td>2.95</td>\n",
       "      <td>80.0</td>\n",
       "      <td>8</td>\n",
       "      <td>E</td>\n",
       "    </tr>\n",
       "    <tr>\n",
       "      <th>4</th>\n",
       "      <td>Pokemon Red/Pokemon Blue</td>\n",
       "      <td>GB</td>\n",
       "      <td>1996.0</td>\n",
       "      <td>Role-Playing</td>\n",
       "      <td>11.27</td>\n",
       "      <td>8.89</td>\n",
       "      <td>10.22</td>\n",
       "      <td>1.00</td>\n",
       "      <td>NaN</td>\n",
       "      <td>NaN</td>\n",
       "      <td>NaN</td>\n",
       "    </tr>\n",
       "    <tr>\n",
       "      <th>5</th>\n",
       "      <td>Tetris</td>\n",
       "      <td>GB</td>\n",
       "      <td>1989.0</td>\n",
       "      <td>Puzzle</td>\n",
       "      <td>23.20</td>\n",
       "      <td>2.26</td>\n",
       "      <td>4.22</td>\n",
       "      <td>0.58</td>\n",
       "      <td>NaN</td>\n",
       "      <td>NaN</td>\n",
       "      <td>NaN</td>\n",
       "    </tr>\n",
       "    <tr>\n",
       "      <th>6</th>\n",
       "      <td>New Super Mario Bros.</td>\n",
       "      <td>DS</td>\n",
       "      <td>2006.0</td>\n",
       "      <td>Platform</td>\n",
       "      <td>11.28</td>\n",
       "      <td>9.14</td>\n",
       "      <td>6.50</td>\n",
       "      <td>2.88</td>\n",
       "      <td>89.0</td>\n",
       "      <td>8.5</td>\n",
       "      <td>E</td>\n",
       "    </tr>\n",
       "    <tr>\n",
       "      <th>7</th>\n",
       "      <td>Wii Play</td>\n",
       "      <td>Wii</td>\n",
       "      <td>2006.0</td>\n",
       "      <td>Misc</td>\n",
       "      <td>13.96</td>\n",
       "      <td>9.18</td>\n",
       "      <td>2.93</td>\n",
       "      <td>2.84</td>\n",
       "      <td>58.0</td>\n",
       "      <td>6.6</td>\n",
       "      <td>E</td>\n",
       "    </tr>\n",
       "    <tr>\n",
       "      <th>8</th>\n",
       "      <td>New Super Mario Bros. Wii</td>\n",
       "      <td>Wii</td>\n",
       "      <td>2009.0</td>\n",
       "      <td>Platform</td>\n",
       "      <td>14.44</td>\n",
       "      <td>6.94</td>\n",
       "      <td>4.70</td>\n",
       "      <td>2.24</td>\n",
       "      <td>87.0</td>\n",
       "      <td>8.4</td>\n",
       "      <td>E</td>\n",
       "    </tr>\n",
       "    <tr>\n",
       "      <th>9</th>\n",
       "      <td>Duck Hunt</td>\n",
       "      <td>NES</td>\n",
       "      <td>1984.0</td>\n",
       "      <td>Shooter</td>\n",
       "      <td>26.93</td>\n",
       "      <td>0.63</td>\n",
       "      <td>0.28</td>\n",
       "      <td>0.47</td>\n",
       "      <td>NaN</td>\n",
       "      <td>NaN</td>\n",
       "      <td>NaN</td>\n",
       "    </tr>\n",
       "  </tbody>\n",
       "</table>\n",
       "</div>"
      ],
      "text/plain": [
       "                        Name Platform  Year_of_Release         Genre  \\\n",
       "0                 Wii Sports      Wii           2006.0        Sports   \n",
       "1          Super Mario Bros.      NES           1985.0      Platform   \n",
       "2             Mario Kart Wii      Wii           2008.0        Racing   \n",
       "3          Wii Sports Resort      Wii           2009.0        Sports   \n",
       "4   Pokemon Red/Pokemon Blue       GB           1996.0  Role-Playing   \n",
       "5                     Tetris       GB           1989.0        Puzzle   \n",
       "6      New Super Mario Bros.       DS           2006.0      Platform   \n",
       "7                   Wii Play      Wii           2006.0          Misc   \n",
       "8  New Super Mario Bros. Wii      Wii           2009.0      Platform   \n",
       "9                  Duck Hunt      NES           1984.0       Shooter   \n",
       "\n",
       "   NA_sales  EU_sales  JP_sales  Other_sales  Critic_Score User_Score Rating  \n",
       "0     41.36     28.96      3.77         8.45          76.0          8      E  \n",
       "1     29.08      3.58      6.81         0.77           NaN        NaN    NaN  \n",
       "2     15.68     12.76      3.79         3.29          82.0        8.3      E  \n",
       "3     15.61     10.93      3.28         2.95          80.0          8      E  \n",
       "4     11.27      8.89     10.22         1.00           NaN        NaN    NaN  \n",
       "5     23.20      2.26      4.22         0.58           NaN        NaN    NaN  \n",
       "6     11.28      9.14      6.50         2.88          89.0        8.5      E  \n",
       "7     13.96      9.18      2.93         2.84          58.0        6.6      E  \n",
       "8     14.44      6.94      4.70         2.24          87.0        8.4      E  \n",
       "9     26.93      0.63      0.28         0.47           NaN        NaN    NaN  "
      ]
     },
     "execution_count": 3,
     "metadata": {},
     "output_type": "execute_result"
    }
   ],
   "source": [
    "data.head(10)"
   ]
  },
  {
   "cell_type": "code",
   "execution_count": 4,
   "metadata": {},
   "outputs": [
    {
     "name": "stdout",
     "output_type": "stream",
     "text": [
      "<class 'pandas.core.frame.DataFrame'>\n",
      "RangeIndex: 16715 entries, 0 to 16714\n",
      "Data columns (total 11 columns):\n",
      " #   Column           Non-Null Count  Dtype  \n",
      "---  ------           --------------  -----  \n",
      " 0   Name             16713 non-null  object \n",
      " 1   Platform         16715 non-null  object \n",
      " 2   Year_of_Release  16446 non-null  float64\n",
      " 3   Genre            16713 non-null  object \n",
      " 4   NA_sales         16715 non-null  float64\n",
      " 5   EU_sales         16715 non-null  float64\n",
      " 6   JP_sales         16715 non-null  float64\n",
      " 7   Other_sales      16715 non-null  float64\n",
      " 8   Critic_Score     8137 non-null   float64\n",
      " 9   User_Score       10014 non-null  object \n",
      " 10  Rating           9949 non-null   object \n",
      "dtypes: float64(6), object(5)\n",
      "memory usage: 1.4+ MB\n"
     ]
    }
   ],
   "source": [
    "data.info()"
   ]
  },
  {
   "cell_type": "code",
   "execution_count": 5,
   "metadata": {},
   "outputs": [
    {
     "data": {
      "text/plain": [
       "6766"
      ]
     },
     "execution_count": 5,
     "metadata": {},
     "output_type": "execute_result"
    }
   ],
   "source": [
    "jp_sales = data[['JP_sales','Rating']]\n",
    "rows_with_nan_in_col2 = jp_sales['Rating'].isna().sum()\n",
    "rows_with_nan_in_col2"
   ]
  },
  {
   "cell_type": "code",
   "execution_count": 6,
   "metadata": {},
   "outputs": [
    {
     "data": {
      "text/html": [
       "<div>\n",
       "<style scoped>\n",
       "    .dataframe tbody tr th:only-of-type {\n",
       "        vertical-align: middle;\n",
       "    }\n",
       "\n",
       "    .dataframe tbody tr th {\n",
       "        vertical-align: top;\n",
       "    }\n",
       "\n",
       "    .dataframe thead th {\n",
       "        text-align: right;\n",
       "    }\n",
       "</style>\n",
       "<table border=\"1\" class=\"dataframe\">\n",
       "  <thead>\n",
       "    <tr style=\"text-align: right;\">\n",
       "      <th></th>\n",
       "      <th>Year_of_Release</th>\n",
       "      <th>NA_sales</th>\n",
       "      <th>EU_sales</th>\n",
       "      <th>JP_sales</th>\n",
       "      <th>Other_sales</th>\n",
       "      <th>Critic_Score</th>\n",
       "    </tr>\n",
       "  </thead>\n",
       "  <tbody>\n",
       "    <tr>\n",
       "      <th>count</th>\n",
       "      <td>16446.000000</td>\n",
       "      <td>16715.000000</td>\n",
       "      <td>16715.000000</td>\n",
       "      <td>16715.000000</td>\n",
       "      <td>16715.000000</td>\n",
       "      <td>8137.000000</td>\n",
       "    </tr>\n",
       "    <tr>\n",
       "      <th>mean</th>\n",
       "      <td>2006.484616</td>\n",
       "      <td>0.263377</td>\n",
       "      <td>0.145060</td>\n",
       "      <td>0.077617</td>\n",
       "      <td>0.047342</td>\n",
       "      <td>68.967679</td>\n",
       "    </tr>\n",
       "    <tr>\n",
       "      <th>std</th>\n",
       "      <td>5.877050</td>\n",
       "      <td>0.813604</td>\n",
       "      <td>0.503339</td>\n",
       "      <td>0.308853</td>\n",
       "      <td>0.186731</td>\n",
       "      <td>13.938165</td>\n",
       "    </tr>\n",
       "    <tr>\n",
       "      <th>min</th>\n",
       "      <td>1980.000000</td>\n",
       "      <td>0.000000</td>\n",
       "      <td>0.000000</td>\n",
       "      <td>0.000000</td>\n",
       "      <td>0.000000</td>\n",
       "      <td>13.000000</td>\n",
       "    </tr>\n",
       "    <tr>\n",
       "      <th>25%</th>\n",
       "      <td>2003.000000</td>\n",
       "      <td>0.000000</td>\n",
       "      <td>0.000000</td>\n",
       "      <td>0.000000</td>\n",
       "      <td>0.000000</td>\n",
       "      <td>60.000000</td>\n",
       "    </tr>\n",
       "    <tr>\n",
       "      <th>50%</th>\n",
       "      <td>2007.000000</td>\n",
       "      <td>0.080000</td>\n",
       "      <td>0.020000</td>\n",
       "      <td>0.000000</td>\n",
       "      <td>0.010000</td>\n",
       "      <td>71.000000</td>\n",
       "    </tr>\n",
       "    <tr>\n",
       "      <th>75%</th>\n",
       "      <td>2010.000000</td>\n",
       "      <td>0.240000</td>\n",
       "      <td>0.110000</td>\n",
       "      <td>0.040000</td>\n",
       "      <td>0.030000</td>\n",
       "      <td>79.000000</td>\n",
       "    </tr>\n",
       "    <tr>\n",
       "      <th>max</th>\n",
       "      <td>2016.000000</td>\n",
       "      <td>41.360000</td>\n",
       "      <td>28.960000</td>\n",
       "      <td>10.220000</td>\n",
       "      <td>10.570000</td>\n",
       "      <td>98.000000</td>\n",
       "    </tr>\n",
       "  </tbody>\n",
       "</table>\n",
       "</div>"
      ],
      "text/plain": [
       "       Year_of_Release      NA_sales      EU_sales      JP_sales  \\\n",
       "count     16446.000000  16715.000000  16715.000000  16715.000000   \n",
       "mean       2006.484616      0.263377      0.145060      0.077617   \n",
       "std           5.877050      0.813604      0.503339      0.308853   \n",
       "min        1980.000000      0.000000      0.000000      0.000000   \n",
       "25%        2003.000000      0.000000      0.000000      0.000000   \n",
       "50%        2007.000000      0.080000      0.020000      0.000000   \n",
       "75%        2010.000000      0.240000      0.110000      0.040000   \n",
       "max        2016.000000     41.360000     28.960000     10.220000   \n",
       "\n",
       "        Other_sales  Critic_Score  \n",
       "count  16715.000000   8137.000000  \n",
       "mean       0.047342     68.967679  \n",
       "std        0.186731     13.938165  \n",
       "min        0.000000     13.000000  \n",
       "25%        0.000000     60.000000  \n",
       "50%        0.010000     71.000000  \n",
       "75%        0.030000     79.000000  \n",
       "max       10.570000     98.000000  "
      ]
     },
     "execution_count": 6,
     "metadata": {},
     "output_type": "execute_result"
    }
   ],
   "source": [
    "data.describe()"
   ]
  },
  {
   "cell_type": "code",
   "execution_count": 7,
   "metadata": {
    "scrolled": true
   },
   "outputs": [
    {
     "data": {
      "image/png": "[encoded data removed]",
      "text/plain": [
       "<Figure size 720x720 with 6 Axes>"
      ]
     },
     "metadata": {
      "needs_background": "light"
     },
     "output_type": "display_data"
    }
   ],
   "source": [
    "data.hist(figsize=(10, 10)); #Гистограмма с исходными данными."
   ]
  },
  {
   "cell_type": "markdown",
   "metadata": {},
   "source": [
    "Вывод. В начале подключила все библиотеки для успешной работы.  \n",
    "Далее провела анализ общей информации  \n",
    "В таблице  — 16715 строк и 11 столбцов"
   ]
  },
  {
   "cell_type": "markdown",
   "metadata": {},
   "source": [
    "## Предобработка данных"
   ]
  },
  {
   "cell_type": "code",
   "execution_count": 8,
   "metadata": {},
   "outputs": [],
   "source": [
    "data.columns = map(str.lower, data.columns)"
   ]
  },
  {
   "cell_type": "markdown",
   "metadata": {},
   "source": [
    "Приведем к нижнему регистру названия столбцов "
   ]
  },
  {
   "cell_type": "markdown",
   "metadata": {},
   "source": [
    "### Обработка пропусков"
   ]
  },
  {
   "cell_type": "code",
   "execution_count": 9,
   "metadata": {},
   "outputs": [
    {
     "data": {
      "text/plain": [
       "name                  2\n",
       "platform              0\n",
       "year_of_release     269\n",
       "genre                 2\n",
       "na_sales              0\n",
       "eu_sales              0\n",
       "jp_sales              0\n",
       "other_sales           0\n",
       "critic_score       8578\n",
       "user_score         6701\n",
       "rating             6766\n",
       "dtype: int64"
      ]
     },
     "execution_count": 9,
     "metadata": {},
     "output_type": "execute_result"
    }
   ],
   "source": [
    "data.isna().sum()"
   ]
  },
  {
   "cell_type": "markdown",
   "metadata": {},
   "source": [
    "Пропуска в name и year,genre из-за колличества явно являются технической ошибкой. Их не так много, поэтому можно смело удалить"
   ]
  },
  {
   "cell_type": "code",
   "execution_count": 12,
   "metadata": {},
   "outputs": [
    {
     "data": {
      "text/plain": [
       "na_sales    60.93\n",
       "eu_sales    24.99\n",
       "jp_sales     6.73\n",
       "dtype: float64"
      ]
     },
     "execution_count": 12,
     "metadata": {},
     "output_type": "execute_result"
    }
   ],
   "source": [
    "data_missed = data[data[['name', 'year_of_release', 'genre']].isnull().any(axis=1)]\n",
    "sum_cmissed = data_missed[['na_sales', 'eu_sales', 'jp_sales']].sum() \n",
    "sum_cmissed "
   ]
  },
  {
   "cell_type": "code",
   "execution_count": 13,
   "metadata": {},
   "outputs": [],
   "source": [
    "data = data.dropna(subset=['name', 'year_of_release', 'genre'])"
   ]
  },
  {
   "cell_type": "code",
   "execution_count": 14,
   "metadata": {},
   "outputs": [
    {
     "data": {
      "text/plain": [
       "name                  0\n",
       "platform              0\n",
       "year_of_release       0\n",
       "genre                 0\n",
       "na_sales              0\n",
       "eu_sales              0\n",
       "jp_sales              0\n",
       "other_sales           0\n",
       "critic_score       8461\n",
       "user_score         6605\n",
       "rating             6676\n",
       "dtype: int64"
      ]
     },
     "execution_count": 14,
     "metadata": {},
     "output_type": "execute_result"
    }
   ],
   "source": [
    "data.isna().sum()"
   ]
  },
  {
   "cell_type": "markdown",
   "metadata": {},
   "source": [
    "**Рассмотрим подробнее critic_score, user_score, rating**. Так как здесь огромное колличество пропусков"
   ]
  },
  {
   "cell_type": "code",
   "execution_count": 15,
   "metadata": {},
   "outputs": [
    {
     "data": {
      "text/plain": [
       "array([76., nan, 82., 80., 89., 58., 87., 91., 61., 97., 95., 77., 88.,\n",
       "       83., 94., 93., 85., 86., 98., 96., 90., 84., 73., 74., 78., 92.,\n",
       "       71., 72., 68., 62., 49., 67., 81., 66., 56., 79., 70., 59., 64.,\n",
       "       75., 60., 63., 69., 50., 25., 42., 44., 55., 48., 57., 29., 47.,\n",
       "       65., 54., 20., 53., 37., 38., 33., 52., 30., 32., 43., 45., 51.,\n",
       "       40., 46., 39., 34., 41., 36., 31., 27., 35., 26., 19., 28., 23.,\n",
       "       24., 21., 17., 13.])"
      ]
     },
     "execution_count": 15,
     "metadata": {},
     "output_type": "execute_result"
    }
   ],
   "source": [
    "data['critic_score'].unique()"
   ]
  },
  {
   "cell_type": "markdown",
   "metadata": {},
   "source": [
    "Больше всего пропусков в critic_score. \n",
    "\n",
    "Возможные причины пропусков  \n",
    "- Игры, особенно независимые или малобюджетные, могут не привлекать внимания крупных игровых изданий. Также, критики могут просто не успеть или не захотеть писать рецензии на все выходящие игры.\n",
    "- Не все рейтинговые платформы используют рецензии критиков.\n",
    "\n",
    "Поэтому заполнять пропуски, даже медианным значеним по регионам не корректно.\n",
    "Заменим NAN на -1"
   ]
  },
  {
   "cell_type": "code",
   "execution_count": 16,
   "metadata": {},
   "outputs": [
    {
     "data": {
      "text/plain": [
       "array([76., -1., 82., 80., 89., 58., 87., 91., 61., 97., 95., 77., 88.,\n",
       "       83., 94., 93., 85., 86., 98., 96., 90., 84., 73., 74., 78., 92.,\n",
       "       71., 72., 68., 62., 49., 67., 81., 66., 56., 79., 70., 59., 64.,\n",
       "       75., 60., 63., 69., 50., 25., 42., 44., 55., 48., 57., 29., 47.,\n",
       "       65., 54., 20., 53., 37., 38., 33., 52., 30., 32., 43., 45., 51.,\n",
       "       40., 46., 39., 34., 41., 36., 31., 27., 35., 26., 19., 28., 23.,\n",
       "       24., 21., 17., 13.])"
      ]
     },
     "execution_count": 16,
     "metadata": {},
     "output_type": "execute_result"
    }
   ],
   "source": [
    "data['critic_score']= data['critic_score'].fillna(-1)\n",
    "data['critic_score'].unique()"
   ]
  },
  {
   "cell_type": "code",
   "execution_count": 17,
   "metadata": {},
   "outputs": [
    {
     "data": {
      "text/plain": [
       "array(['E', nan, 'M', 'T', 'E10+', 'K-A', 'AO', 'EC', 'RP'], dtype=object)"
      ]
     },
     "execution_count": 17,
     "metadata": {},
     "output_type": "execute_result"
    }
   ],
   "source": [
    "data['rating'].unique()"
   ]
  },
  {
   "cell_type": "markdown",
   "metadata": {},
   "source": [
    "\n",
    "\n",
    "Возможные причины пропусков:\n",
    "- Некоторые игры могут не иметь официального рейтинга ESRB, особенно если они не распространяются в регионах, где действует ESRB, или являются независимыми проектами.\n",
    "- Критерии присвоения рейтинга могут изменяться со временем, что может влиять на результаты.\n",
    "\n",
    "Использование медианного значения по регионам для заполнения пропусков может быть не лучшим решением. \n",
    "Заменим в категориальной переменной nan на unknown."
   ]
  },
  {
   "cell_type": "code",
   "execution_count": 18,
   "metadata": {},
   "outputs": [
    {
     "data": {
      "text/plain": [
       "array(['E', 'unknown', 'M', 'T', 'E10+', 'K-A', 'AO', 'EC', 'RP'],\n",
       "      dtype=object)"
      ]
     },
     "execution_count": 18,
     "metadata": {},
     "output_type": "execute_result"
    }
   ],
   "source": [
    "data['rating'] = data['rating'].fillna('unknown')\n",
    "data['rating'].unique()"
   ]
  },
  {
   "cell_type": "code",
   "execution_count": 19,
   "metadata": {},
   "outputs": [
    {
     "data": {
      "text/plain": [
       "array(['8', nan, '8.3', '8.5', '6.6', '8.4', '8.6', '7.7', '6.3', '7.4',\n",
       "       '8.2', '9', '7.9', '8.1', '8.7', '7.1', '3.4', '5.3', '4.8', '3.2',\n",
       "       '8.9', '6.4', '7.8', '7.5', '2.6', '7.2', '9.2', '7', '7.3', '4.3',\n",
       "       '7.6', '5.7', '5', '9.1', '6.5', 'tbd', '8.8', '6.9', '9.4', '6.8',\n",
       "       '6.1', '6.7', '5.4', '4', '4.9', '4.5', '9.3', '6.2', '4.2', '6',\n",
       "       '3.7', '4.1', '5.8', '5.6', '5.5', '4.4', '4.6', '5.9', '3.9',\n",
       "       '3.1', '2.9', '5.2', '3.3', '4.7', '5.1', '3.5', '2.5', '1.9', '3',\n",
       "       '2.7', '2.2', '2', '9.5', '2.1', '3.6', '2.8', '1.8', '3.8', '0',\n",
       "       '1.6', '9.6', '2.4', '1.7', '1.1', '0.3', '1.5', '0.7', '1.2',\n",
       "       '2.3', '0.5', '1.3', '0.2', '0.6', '1.4', '0.9', '1', '9.7'],\n",
       "      dtype=object)"
      ]
     },
     "execution_count": 19,
     "metadata": {},
     "output_type": "execute_result"
    }
   ],
   "source": [
    "data['user_score'].unique()"
   ]
  },
  {
   "cell_type": "markdown",
   "metadata": {},
   "source": [
    "В user_score присутствует значения 'tbd'. В контексте рейтингов пользователей, \"TBD\" обычно означает \"To Be Determined\" (будет определено). Это указывает на то, что значение рейтинга или оценка еще не установлены или еще не известны. Заменим на NAN"
   ]
  },
  {
   "cell_type": "code",
   "execution_count": 20,
   "metadata": {},
   "outputs": [],
   "source": [
    "data['user_score'] = data['user_score'].replace('tbd', np.nan)"
   ]
  },
  {
   "cell_type": "markdown",
   "metadata": {},
   "source": [
    "Причины пропусков в оценках пользователях: \n",
    "- На супер новые игры, и пользователи еще не успели оставить свое мнение. \n",
    "- Некоторые игры могут распространяться через платформы, где отсутствует система сбора отзывов или рейтингов. \n",
    "- При сборе информации могут возникать ошибки, приводящие к некорректным значениям. \n",
    "- Некоторые пользователи не склонны оставлять оценку, даже если игра им понравилась.\n",
    "\n",
    "Оценка пользователя не всегда объективная вещь. Кому-то нравится, кому-то абсолютно нет. Поэтому медианным значением абсолютно некорректно заполнять.\n",
    "\n",
    "Заменим пропущенные значения на -1."
   ]
  },
  {
   "cell_type": "code",
   "execution_count": 21,
   "metadata": {},
   "outputs": [
    {
     "data": {
      "text/plain": [
       "array(['8', -1, '8.3', '8.5', '6.6', '8.4', '8.6', '7.7', '6.3', '7.4',\n",
       "       '8.2', '9', '7.9', '8.1', '8.7', '7.1', '3.4', '5.3', '4.8', '3.2',\n",
       "       '8.9', '6.4', '7.8', '7.5', '2.6', '7.2', '9.2', '7', '7.3', '4.3',\n",
       "       '7.6', '5.7', '5', '9.1', '6.5', '8.8', '6.9', '9.4', '6.8', '6.1',\n",
       "       '6.7', '5.4', '4', '4.9', '4.5', '9.3', '6.2', '4.2', '6', '3.7',\n",
       "       '4.1', '5.8', '5.6', '5.5', '4.4', '4.6', '5.9', '3.9', '3.1',\n",
       "       '2.9', '5.2', '3.3', '4.7', '5.1', '3.5', '2.5', '1.9', '3', '2.7',\n",
       "       '2.2', '2', '9.5', '2.1', '3.6', '2.8', '1.8', '3.8', '0', '1.6',\n",
       "       '9.6', '2.4', '1.7', '1.1', '0.3', '1.5', '0.7', '1.2', '2.3',\n",
       "       '0.5', '1.3', '0.2', '0.6', '1.4', '0.9', '1', '9.7'], dtype=object)"
      ]
     },
     "execution_count": 21,
     "metadata": {},
     "output_type": "execute_result"
    }
   ],
   "source": [
    "data['user_score'] = data['user_score'].fillna(-1)\n",
    "data['user_score'].unique()"
   ]
  },
  {
   "cell_type": "markdown",
   "metadata": {},
   "source": [
    "### Явные и неявные дубликаты"
   ]
  },
  {
   "cell_type": "markdown",
   "metadata": {},
   "source": [
    "Для начала переведем значения столбцов Name и Genre в нижний регистр, чтобы исключить дубликаты с разным регистром"
   ]
  },
  {
   "cell_type": "code",
   "execution_count": 22,
   "metadata": {
    "scrolled": true
   },
   "outputs": [
    {
     "data": {
      "text/html": [
       "<div>\n",
       "<style scoped>\n",
       "    .dataframe tbody tr th:only-of-type {\n",
       "        vertical-align: middle;\n",
       "    }\n",
       "\n",
       "    .dataframe tbody tr th {\n",
       "        vertical-align: top;\n",
       "    }\n",
       "\n",
       "    .dataframe thead th {\n",
       "        text-align: right;\n",
       "    }\n",
       "</style>\n",
       "<table border=\"1\" class=\"dataframe\">\n",
       "  <thead>\n",
       "    <tr style=\"text-align: right;\">\n",
       "      <th></th>\n",
       "      <th>name</th>\n",
       "      <th>platform</th>\n",
       "      <th>year_of_release</th>\n",
       "      <th>genre</th>\n",
       "      <th>na_sales</th>\n",
       "      <th>eu_sales</th>\n",
       "      <th>jp_sales</th>\n",
       "      <th>other_sales</th>\n",
       "      <th>critic_score</th>\n",
       "      <th>user_score</th>\n",
       "      <th>rating</th>\n",
       "    </tr>\n",
       "  </thead>\n",
       "  <tbody>\n",
       "    <tr>\n",
       "      <th>0</th>\n",
       "      <td>wii sports</td>\n",
       "      <td>Wii</td>\n",
       "      <td>2006.0</td>\n",
       "      <td>sports</td>\n",
       "      <td>41.36</td>\n",
       "      <td>28.96</td>\n",
       "      <td>3.77</td>\n",
       "      <td>8.45</td>\n",
       "      <td>76.0</td>\n",
       "      <td>8</td>\n",
       "      <td>E</td>\n",
       "    </tr>\n",
       "    <tr>\n",
       "      <th>1</th>\n",
       "      <td>super mario bros.</td>\n",
       "      <td>NES</td>\n",
       "      <td>1985.0</td>\n",
       "      <td>platform</td>\n",
       "      <td>29.08</td>\n",
       "      <td>3.58</td>\n",
       "      <td>6.81</td>\n",
       "      <td>0.77</td>\n",
       "      <td>-1.0</td>\n",
       "      <td>-1</td>\n",
       "      <td>unknown</td>\n",
       "    </tr>\n",
       "    <tr>\n",
       "      <th>2</th>\n",
       "      <td>mario kart wii</td>\n",
       "      <td>Wii</td>\n",
       "      <td>2008.0</td>\n",
       "      <td>racing</td>\n",
       "      <td>15.68</td>\n",
       "      <td>12.76</td>\n",
       "      <td>3.79</td>\n",
       "      <td>3.29</td>\n",
       "      <td>82.0</td>\n",
       "      <td>8.3</td>\n",
       "      <td>E</td>\n",
       "    </tr>\n",
       "    <tr>\n",
       "      <th>3</th>\n",
       "      <td>wii sports resort</td>\n",
       "      <td>Wii</td>\n",
       "      <td>2009.0</td>\n",
       "      <td>sports</td>\n",
       "      <td>15.61</td>\n",
       "      <td>10.93</td>\n",
       "      <td>3.28</td>\n",
       "      <td>2.95</td>\n",
       "      <td>80.0</td>\n",
       "      <td>8</td>\n",
       "      <td>E</td>\n",
       "    </tr>\n",
       "    <tr>\n",
       "      <th>4</th>\n",
       "      <td>pokemon red/pokemon blue</td>\n",
       "      <td>GB</td>\n",
       "      <td>1996.0</td>\n",
       "      <td>role-playing</td>\n",
       "      <td>11.27</td>\n",
       "      <td>8.89</td>\n",
       "      <td>10.22</td>\n",
       "      <td>1.00</td>\n",
       "      <td>-1.0</td>\n",
       "      <td>-1</td>\n",
       "      <td>unknown</td>\n",
       "    </tr>\n",
       "  </tbody>\n",
       "</table>\n",
       "</div>"
      ],
      "text/plain": [
       "                       name platform  year_of_release         genre  na_sales  \\\n",
       "0                wii sports      Wii           2006.0        sports     41.36   \n",
       "1         super mario bros.      NES           1985.0      platform     29.08   \n",
       "2            mario kart wii      Wii           2008.0        racing     15.68   \n",
       "3         wii sports resort      Wii           2009.0        sports     15.61   \n",
       "4  pokemon red/pokemon blue       GB           1996.0  role-playing     11.27   \n",
       "\n",
       "   eu_sales  jp_sales  other_sales  critic_score user_score   rating  \n",
       "0     28.96      3.77         8.45          76.0          8        E  \n",
       "1      3.58      6.81         0.77          -1.0         -1  unknown  \n",
       "2     12.76      3.79         3.29          82.0        8.3        E  \n",
       "3     10.93      3.28         2.95          80.0          8        E  \n",
       "4      8.89     10.22         1.00          -1.0         -1  unknown  "
      ]
     },
     "execution_count": 22,
     "metadata": {},
     "output_type": "execute_result"
    }
   ],
   "source": [
    "data['name']= data['name'].str.lower()\n",
    "data['genre']= data['genre'].str.lower()\n",
    "data.head(5)"
   ]
  },
  {
   "cell_type": "code",
   "execution_count": 23,
   "metadata": {},
   "outputs": [
    {
     "data": {
      "text/html": [
       "<div>\n",
       "<style scoped>\n",
       "    .dataframe tbody tr th:only-of-type {\n",
       "        vertical-align: middle;\n",
       "    }\n",
       "\n",
       "    .dataframe tbody tr th {\n",
       "        vertical-align: top;\n",
       "    }\n",
       "\n",
       "    .dataframe thead th {\n",
       "        text-align: right;\n",
       "    }\n",
       "</style>\n",
       "<table border=\"1\" class=\"dataframe\">\n",
       "  <thead>\n",
       "    <tr style=\"text-align: right;\">\n",
       "      <th></th>\n",
       "      <th>name</th>\n",
       "      <th>platform</th>\n",
       "      <th>year_of_release</th>\n",
       "      <th>genre</th>\n",
       "      <th>na_sales</th>\n",
       "      <th>eu_sales</th>\n",
       "      <th>jp_sales</th>\n",
       "      <th>other_sales</th>\n",
       "      <th>critic_score</th>\n",
       "      <th>user_score</th>\n",
       "      <th>rating</th>\n",
       "    </tr>\n",
       "  </thead>\n",
       "  <tbody>\n",
       "  </tbody>\n",
       "</table>\n",
       "</div>"
      ],
      "text/plain": [
       "Empty DataFrame\n",
       "Columns: [name, platform, year_of_release, genre, na_sales, eu_sales, jp_sales, other_sales, critic_score, user_score, rating]\n",
       "Index: []"
      ]
     },
     "execution_count": 23,
     "metadata": {},
     "output_type": "execute_result"
    }
   ],
   "source": [
    "data[data.duplicated ()]\n",
    "#полных дубликатов не обнаружено"
   ]
  },
  {
   "cell_type": "markdown",
   "metadata": {},
   "source": [
    "Так как полных дубликатов необнаружено, проверим по трем главным столбцам: Имя, платформа, год релиза"
   ]
  },
  {
   "cell_type": "code",
   "execution_count": 24,
   "metadata": {},
   "outputs": [
    {
     "data": {
      "text/plain": [
       "name               1\n",
       "platform           1\n",
       "year_of_release    1\n",
       "genre              1\n",
       "na_sales           1\n",
       "eu_sales           1\n",
       "jp_sales           1\n",
       "other_sales        1\n",
       "critic_score       1\n",
       "user_score         1\n",
       "rating             1\n",
       "dtype: int64"
      ]
     },
     "execution_count": 24,
     "metadata": {},
     "output_type": "execute_result"
    }
   ],
   "source": [
    "data[data.duplicated(['name', 'platform', 'year_of_release'])].count()"
   ]
  },
  {
   "cell_type": "code",
   "execution_count": 25,
   "metadata": {},
   "outputs": [
    {
     "data": {
      "text/html": [
       "<div>\n",
       "<style scoped>\n",
       "    .dataframe tbody tr th:only-of-type {\n",
       "        vertical-align: middle;\n",
       "    }\n",
       "\n",
       "    .dataframe tbody tr th {\n",
       "        vertical-align: top;\n",
       "    }\n",
       "\n",
       "    .dataframe thead th {\n",
       "        text-align: right;\n",
       "    }\n",
       "</style>\n",
       "<table border=\"1\" class=\"dataframe\">\n",
       "  <thead>\n",
       "    <tr style=\"text-align: right;\">\n",
       "      <th></th>\n",
       "      <th>name</th>\n",
       "      <th>platform</th>\n",
       "      <th>year_of_release</th>\n",
       "      <th>genre</th>\n",
       "      <th>na_sales</th>\n",
       "      <th>eu_sales</th>\n",
       "      <th>jp_sales</th>\n",
       "      <th>other_sales</th>\n",
       "      <th>critic_score</th>\n",
       "      <th>user_score</th>\n",
       "      <th>rating</th>\n",
       "    </tr>\n",
       "  </thead>\n",
       "  <tbody>\n",
       "    <tr>\n",
       "      <th>16230</th>\n",
       "      <td>madden nfl 13</td>\n",
       "      <td>PS3</td>\n",
       "      <td>2012.0</td>\n",
       "      <td>sports</td>\n",
       "      <td>0.0</td>\n",
       "      <td>0.01</td>\n",
       "      <td>0.0</td>\n",
       "      <td>0.0</td>\n",
       "      <td>83.0</td>\n",
       "      <td>5.5</td>\n",
       "      <td>E</td>\n",
       "    </tr>\n",
       "  </tbody>\n",
       "</table>\n",
       "</div>"
      ],
      "text/plain": [
       "                name platform  year_of_release   genre  na_sales  eu_sales  \\\n",
       "16230  madden nfl 13      PS3           2012.0  sports       0.0      0.01   \n",
       "\n",
       "       jp_sales  other_sales  critic_score user_score rating  \n",
       "16230       0.0          0.0          83.0        5.5      E  "
      ]
     },
     "execution_count": 25,
     "metadata": {},
     "output_type": "execute_result"
    }
   ],
   "source": [
    "data[data.duplicated(['name', 'platform', 'year_of_release'])]"
   ]
  },
  {
   "cell_type": "code",
   "execution_count": 26,
   "metadata": {},
   "outputs": [],
   "source": [
    "data = data.drop_duplicates(['name', 'platform', 'year_of_release']) #удаляем"
   ]
  },
  {
   "cell_type": "code",
   "execution_count": 27,
   "metadata": {},
   "outputs": [
    {
     "data": {
      "text/plain": [
       "name               0\n",
       "platform           0\n",
       "year_of_release    0\n",
       "genre              0\n",
       "na_sales           0\n",
       "eu_sales           0\n",
       "jp_sales           0\n",
       "other_sales        0\n",
       "critic_score       0\n",
       "user_score         0\n",
       "rating             0\n",
       "dtype: int64"
      ]
     },
     "execution_count": 27,
     "metadata": {},
     "output_type": "execute_result"
    }
   ],
   "source": [
    "data[data.duplicated(['name', 'platform', 'year_of_release'])].count()"
   ]
  },
  {
   "cell_type": "markdown",
   "metadata": {},
   "source": [
    "### Преобразуем данные в нужные типы"
   ]
  },
  {
   "cell_type": "code",
   "execution_count": 28,
   "metadata": {},
   "outputs": [
    {
     "name": "stdout",
     "output_type": "stream",
     "text": [
      "<class 'pandas.core.frame.DataFrame'>\n",
      "Int64Index: 16443 entries, 0 to 16714\n",
      "Data columns (total 11 columns):\n",
      " #   Column           Non-Null Count  Dtype  \n",
      "---  ------           --------------  -----  \n",
      " 0   name             16443 non-null  object \n",
      " 1   platform         16443 non-null  object \n",
      " 2   year_of_release  16443 non-null  float64\n",
      " 3   genre            16443 non-null  object \n",
      " 4   na_sales         16443 non-null  float64\n",
      " 5   eu_sales         16443 non-null  float64\n",
      " 6   jp_sales         16443 non-null  float64\n",
      " 7   other_sales      16443 non-null  float64\n",
      " 8   critic_score     16443 non-null  float64\n",
      " 9   user_score       16443 non-null  object \n",
      " 10  rating           16443 non-null  object \n",
      "dtypes: float64(6), object(5)\n",
      "memory usage: 1.5+ MB\n"
     ]
    }
   ],
   "source": [
    "data.info()"
   ]
  },
  {
   "cell_type": "code",
   "execution_count": 29,
   "metadata": {},
   "outputs": [],
   "source": [
    "data['year_of_release'] = data['year_of_release'].astype('int64')\n",
    "data['user_score'] = data['user_score'].astype('float')"
   ]
  },
  {
   "cell_type": "code",
   "execution_count": 30,
   "metadata": {},
   "outputs": [
    {
     "name": "stdout",
     "output_type": "stream",
     "text": [
      "<class 'pandas.core.frame.DataFrame'>\n",
      "Int64Index: 16443 entries, 0 to 16714\n",
      "Data columns (total 11 columns):\n",
      " #   Column           Non-Null Count  Dtype  \n",
      "---  ------           --------------  -----  \n",
      " 0   name             16443 non-null  object \n",
      " 1   platform         16443 non-null  object \n",
      " 2   year_of_release  16443 non-null  int64  \n",
      " 3   genre            16443 non-null  object \n",
      " 4   na_sales         16443 non-null  float64\n",
      " 5   eu_sales         16443 non-null  float64\n",
      " 6   jp_sales         16443 non-null  float64\n",
      " 7   other_sales      16443 non-null  float64\n",
      " 8   critic_score     16443 non-null  float64\n",
      " 9   user_score       16443 non-null  float64\n",
      " 10  rating           16443 non-null  object \n",
      "dtypes: float64(6), int64(1), object(4)\n",
      "memory usage: 1.5+ MB\n"
     ]
    }
   ],
   "source": [
    "data.info() #проверяем корректность изменений"
   ]
  },
  {
   "cell_type": "markdown",
   "metadata": {},
   "source": [
    "### Суммарные продажи во всех регионах"
   ]
  },
  {
   "cell_type": "code",
   "execution_count": 31,
   "metadata": {
    "scrolled": true
   },
   "outputs": [
    {
     "data": {
      "text/html": [
       "<div>\n",
       "<style scoped>\n",
       "    .dataframe tbody tr th:only-of-type {\n",
       "        vertical-align: middle;\n",
       "    }\n",
       "\n",
       "    .dataframe tbody tr th {\n",
       "        vertical-align: top;\n",
       "    }\n",
       "\n",
       "    .dataframe thead th {\n",
       "        text-align: right;\n",
       "    }\n",
       "</style>\n",
       "<table border=\"1\" class=\"dataframe\">\n",
       "  <thead>\n",
       "    <tr style=\"text-align: right;\">\n",
       "      <th></th>\n",
       "      <th>name</th>\n",
       "      <th>platform</th>\n",
       "      <th>year_of_release</th>\n",
       "      <th>genre</th>\n",
       "      <th>na_sales</th>\n",
       "      <th>eu_sales</th>\n",
       "      <th>jp_sales</th>\n",
       "      <th>other_sales</th>\n",
       "      <th>critic_score</th>\n",
       "      <th>user_score</th>\n",
       "      <th>rating</th>\n",
       "      <th>total_sales</th>\n",
       "    </tr>\n",
       "  </thead>\n",
       "  <tbody>\n",
       "    <tr>\n",
       "      <th>0</th>\n",
       "      <td>wii sports</td>\n",
       "      <td>Wii</td>\n",
       "      <td>2006</td>\n",
       "      <td>sports</td>\n",
       "      <td>41.36</td>\n",
       "      <td>28.96</td>\n",
       "      <td>3.77</td>\n",
       "      <td>8.45</td>\n",
       "      <td>76.0</td>\n",
       "      <td>8.0</td>\n",
       "      <td>E</td>\n",
       "      <td>82.54</td>\n",
       "    </tr>\n",
       "    <tr>\n",
       "      <th>1</th>\n",
       "      <td>super mario bros.</td>\n",
       "      <td>NES</td>\n",
       "      <td>1985</td>\n",
       "      <td>platform</td>\n",
       "      <td>29.08</td>\n",
       "      <td>3.58</td>\n",
       "      <td>6.81</td>\n",
       "      <td>0.77</td>\n",
       "      <td>-1.0</td>\n",
       "      <td>-1.0</td>\n",
       "      <td>unknown</td>\n",
       "      <td>40.24</td>\n",
       "    </tr>\n",
       "    <tr>\n",
       "      <th>2</th>\n",
       "      <td>mario kart wii</td>\n",
       "      <td>Wii</td>\n",
       "      <td>2008</td>\n",
       "      <td>racing</td>\n",
       "      <td>15.68</td>\n",
       "      <td>12.76</td>\n",
       "      <td>3.79</td>\n",
       "      <td>3.29</td>\n",
       "      <td>82.0</td>\n",
       "      <td>8.3</td>\n",
       "      <td>E</td>\n",
       "      <td>35.52</td>\n",
       "    </tr>\n",
       "    <tr>\n",
       "      <th>3</th>\n",
       "      <td>wii sports resort</td>\n",
       "      <td>Wii</td>\n",
       "      <td>2009</td>\n",
       "      <td>sports</td>\n",
       "      <td>15.61</td>\n",
       "      <td>10.93</td>\n",
       "      <td>3.28</td>\n",
       "      <td>2.95</td>\n",
       "      <td>80.0</td>\n",
       "      <td>8.0</td>\n",
       "      <td>E</td>\n",
       "      <td>32.77</td>\n",
       "    </tr>\n",
       "    <tr>\n",
       "      <th>4</th>\n",
       "      <td>pokemon red/pokemon blue</td>\n",
       "      <td>GB</td>\n",
       "      <td>1996</td>\n",
       "      <td>role-playing</td>\n",
       "      <td>11.27</td>\n",
       "      <td>8.89</td>\n",
       "      <td>10.22</td>\n",
       "      <td>1.00</td>\n",
       "      <td>-1.0</td>\n",
       "      <td>-1.0</td>\n",
       "      <td>unknown</td>\n",
       "      <td>31.38</td>\n",
       "    </tr>\n",
       "  </tbody>\n",
       "</table>\n",
       "</div>"
      ],
      "text/plain": [
       "                       name platform  year_of_release         genre  na_sales  \\\n",
       "0                wii sports      Wii             2006        sports     41.36   \n",
       "1         super mario bros.      NES             1985      platform     29.08   \n",
       "2            mario kart wii      Wii             2008        racing     15.68   \n",
       "3         wii sports resort      Wii             2009        sports     15.61   \n",
       "4  pokemon red/pokemon blue       GB             1996  role-playing     11.27   \n",
       "\n",
       "   eu_sales  jp_sales  other_sales  critic_score  user_score   rating  \\\n",
       "0     28.96      3.77         8.45          76.0         8.0        E   \n",
       "1      3.58      6.81         0.77          -1.0        -1.0  unknown   \n",
       "2     12.76      3.79         3.29          82.0         8.3        E   \n",
       "3     10.93      3.28         2.95          80.0         8.0        E   \n",
       "4      8.89     10.22         1.00          -1.0        -1.0  unknown   \n",
       "\n",
       "   total_sales  \n",
       "0        82.54  \n",
       "1        40.24  \n",
       "2        35.52  \n",
       "3        32.77  \n",
       "4        31.38  "
      ]
     },
     "execution_count": 31,
     "metadata": {},
     "output_type": "execute_result"
    }
   ],
   "source": [
    "data['total_sales']= data['na_sales']+ data['eu_sales'] + data['jp_sales']+data['other_sales']\n",
    "data.head(5)"
   ]
  },
  {
   "cell_type": "markdown",
   "metadata": {},
   "source": [
    "Вывод.  \n",
    "Пропуски в столбцах name, year и genre, скорее всего, являются результатом технической ошибки. Поскольку их количество невелико, их можно удалить без значительных последствий.\n",
    "\n",
    "Больше всего пропусков в critic_score (оценка критиков). Возможные причины:  \n",
    "Игры, особенно независимые или малобюджетные, могут не привлекать внимание крупных игровых изданий. Критики также могут не успевать или не желать писать рецензии на все выходящие игры.\n",
    "\n",
    "Также много пропущенных значений в user_score. Ведь некоторые игры могут распространяться через платформы, где отсутствует система сбора отзывов или рейтингов. Некоторые пользователи могут не оставлять оценки, даже если игра им понравилась. В процессе сбора информации могут возникать ошибки, приводящие к некорректным значениям.\n",
    "\n",
    "Также можно объяснить большое количество пропусков в столбце «rating» (рейтинг от организации ESRB) тем, что некоторые игры могут не иметь официального рейтинга ESRB. Это особенно касается игр, которые не распространяются в регионах, где действует ESRB, или являются независимыми проектами.\n",
    "\n",
    "Удалили дубликаты и посчитали суммарные продажи во всех регионах. Также преобразовали данные в нужные типы."
   ]
  },
  {
   "cell_type": "markdown",
   "metadata": {},
   "source": [
    "## Исследовательский анализ данных"
   ]
  },
  {
   "cell_type": "markdown",
   "metadata": {},
   "source": [
    "### Cколько игр выпускалось в разные годы"
   ]
  },
  {
   "cell_type": "markdown",
   "metadata": {},
   "source": [
    "Рост релизов игр начался с 1994 и достиг пика в 2007–2008. В середине 1990-х и начале 2000-х годов видеоигры стали массовым развлечением. Увеличение интереса со стороны широкой аудитории способствовало росту количества игр, выпускаемых на разных платформах. Тогда же были сделаны значительные достижения в инструментах разработки игр. \n",
    "\n",
    "После 2008 пошло уменьшение. Это объясняется тем, что с увеличением сложности технологий и графики, затраты на разработку игр возросли. Меньшие студии могли не справляться с финансовыми и техническими требованиями, что снизило общее количество релизов.\n",
    "\n",
    "Данные до 1994 не важны, так как их немного и это уже устаревшие данные."
   ]
  },
  {
   "cell_type": "markdown",
   "metadata": {},
   "source": [
    "### Как менялись продажи по платформам?"
   ]
  },
  {
   "cell_type": "code",
   "execution_count": 34,
   "metadata": {},
   "outputs": [
    {
     "data": {
      "text/plain": [
       "PS2     2127\n",
       "DS      2121\n",
       "PS3     1305\n",
       "Wii     1286\n",
       "X360    1232\n",
       "PSP     1193\n",
       "PS      1190\n",
       "PC       957\n",
       "GBA      811\n",
       "XB       803\n",
       "GC       542\n",
       "3DS      512\n",
       "PSV      429\n",
       "PS4      392\n",
       "N64      316\n",
       "XOne     247\n",
       "SNES     239\n",
       "SAT      173\n",
       "WiiU     147\n",
       "2600     116\n",
       "NES       98\n",
       "GB        97\n",
       "DC        52\n",
       "GEN       27\n",
       "NG        12\n",
       "WS         6\n",
       "SCD        6\n",
       "3DO        3\n",
       "TG16       2\n",
       "PCFX       1\n",
       "GG         1\n",
       "Name: platform, dtype: int64"
      ]
     },
     "execution_count": 34,
     "metadata": {},
     "output_type": "execute_result"
    }
   ],
   "source": [
    "data['platform'].value_counts()"
   ]
  },
  {
   "cell_type": "markdown",
   "metadata": {},
   "source": [
    "Выберем платформы с наибольшими суммарными продажами и построим распределение по годам."
   ]
  },
  {
   "cell_type": "code",
   "execution_count": 36,
   "metadata": {},
   "outputs": [
    {
     "data": {
      "text/html": [
       "<div>\n",
       "<style scoped>\n",
       "    .dataframe tbody tr th:only-of-type {\n",
       "        vertical-align: middle;\n",
       "    }\n",
       "\n",
       "    .dataframe tbody tr th {\n",
       "        vertical-align: top;\n",
       "    }\n",
       "\n",
       "    .dataframe thead th {\n",
       "        text-align: right;\n",
       "    }\n",
       "</style>\n",
       "<table border=\"1\" class=\"dataframe\">\n",
       "  <thead>\n",
       "    <tr style=\"text-align: right;\">\n",
       "      <th></th>\n",
       "      <th>name</th>\n",
       "      <th>platform</th>\n",
       "      <th>year_of_release</th>\n",
       "      <th>genre</th>\n",
       "      <th>na_sales</th>\n",
       "      <th>eu_sales</th>\n",
       "      <th>jp_sales</th>\n",
       "      <th>other_sales</th>\n",
       "      <th>critic_score</th>\n",
       "      <th>user_score</th>\n",
       "      <th>rating</th>\n",
       "      <th>total_sales</th>\n",
       "    </tr>\n",
       "  </thead>\n",
       "  <tbody>\n",
       "    <tr>\n",
       "      <th>15957</th>\n",
       "      <td>strongest tokyo university shogi ds</td>\n",
       "      <td>DS</td>\n",
       "      <td>1985</td>\n",
       "      <td>action</td>\n",
       "      <td>0.0</td>\n",
       "      <td>0.0</td>\n",
       "      <td>0.02</td>\n",
       "      <td>0.0</td>\n",
       "      <td>-1.0</td>\n",
       "      <td>-1.0</td>\n",
       "      <td>unknown</td>\n",
       "      <td>0.02</td>\n",
       "    </tr>\n",
       "  </tbody>\n",
       "</table>\n",
       "</div>"
      ],
      "text/plain": [
       "                                      name platform  year_of_release   genre  \\\n",
       "15957  strongest tokyo university shogi ds       DS             1985  action   \n",
       "\n",
       "       na_sales  eu_sales  jp_sales  other_sales  critic_score  user_score  \\\n",
       "15957       0.0       0.0      0.02          0.0          -1.0        -1.0   \n",
       "\n",
       "        rating  total_sales  \n",
       "15957  unknown         0.02  "
      ]
     },
     "execution_count": 36,
     "metadata": {},
     "output_type": "execute_result"
    }
   ],
   "source": [
    "total_sales_top_ds = total_sales_top.query('year_of_release <1994') #оценили что было до 1994 года\n",
    "total_sales_top_ds"
   ]
  },
  {
   "cell_type": "markdown",
   "metadata": {},
   "source": [
    "На основание проанализированных данных выше и дальше чтоб построить прогноз на 2017 год - Возьмем  **за актуальный период 3 года**. C 2014 по 2016 год включительно."
   ]
  },
  {
   "cell_type": "code",
   "execution_count": 38,
   "metadata": {},
   "outputs": [
    {
     "name": "stdout",
     "output_type": "stream",
     "text": [
      "<class 'pandas.core.frame.DataFrame'>\n",
      "Int64Index: 1689 entries, 31 to 16714\n",
      "Data columns (total 12 columns):\n",
      " #   Column           Non-Null Count  Dtype  \n",
      "---  ------           --------------  -----  \n",
      " 0   name             1689 non-null   object \n",
      " 1   platform         1689 non-null   object \n",
      " 2   year_of_release  1689 non-null   int64  \n",
      " 3   genre            1689 non-null   object \n",
      " 4   na_sales         1689 non-null   float64\n",
      " 5   eu_sales         1689 non-null   float64\n",
      " 6   jp_sales         1689 non-null   float64\n",
      " 7   other_sales      1689 non-null   float64\n",
      " 8   critic_score     1689 non-null   float64\n",
      " 9   user_score       1689 non-null   float64\n",
      " 10  rating           1689 non-null   object \n",
      " 11  total_sales      1689 non-null   float64\n",
      "dtypes: float64(7), int64(1), object(4)\n",
      "memory usage: 171.5+ KB\n"
     ]
    }
   ],
   "source": [
    "actually_data = data.query('year_of_release >= 2014')\n",
    "actually_data.info()"
   ]
  },
  {
   "cell_type": "code",
   "execution_count": 39,
   "metadata": {},
   "outputs": [
    {
     "data": {
      "text/html": [
       "<div>\n",
       "<style scoped>\n",
       "    .dataframe tbody tr th:only-of-type {\n",
       "        vertical-align: middle;\n",
       "    }\n",
       "\n",
       "    .dataframe tbody tr th {\n",
       "        vertical-align: top;\n",
       "    }\n",
       "\n",
       "    .dataframe thead th {\n",
       "        text-align: right;\n",
       "    }\n",
       "</style>\n",
       "<table border=\"1\" class=\"dataframe\">\n",
       "  <thead>\n",
       "    <tr style=\"text-align: right;\">\n",
       "      <th></th>\n",
       "      <th>name</th>\n",
       "      <th>platform</th>\n",
       "      <th>year_of_release</th>\n",
       "      <th>genre</th>\n",
       "      <th>na_sales</th>\n",
       "      <th>eu_sales</th>\n",
       "      <th>jp_sales</th>\n",
       "      <th>other_sales</th>\n",
       "      <th>critic_score</th>\n",
       "      <th>user_score</th>\n",
       "      <th>rating</th>\n",
       "      <th>total_sales</th>\n",
       "    </tr>\n",
       "  </thead>\n",
       "  <tbody>\n",
       "    <tr>\n",
       "      <th>31</th>\n",
       "      <td>call of duty: black ops 3</td>\n",
       "      <td>PS4</td>\n",
       "      <td>2015</td>\n",
       "      <td>shooter</td>\n",
       "      <td>6.03</td>\n",
       "      <td>5.86</td>\n",
       "      <td>0.36</td>\n",
       "      <td>2.38</td>\n",
       "      <td>-1.0</td>\n",
       "      <td>-1.0</td>\n",
       "      <td>unknown</td>\n",
       "      <td>14.63</td>\n",
       "    </tr>\n",
       "    <tr>\n",
       "      <th>42</th>\n",
       "      <td>grand theft auto v</td>\n",
       "      <td>PS4</td>\n",
       "      <td>2014</td>\n",
       "      <td>action</td>\n",
       "      <td>3.96</td>\n",
       "      <td>6.31</td>\n",
       "      <td>0.38</td>\n",
       "      <td>1.97</td>\n",
       "      <td>97.0</td>\n",
       "      <td>8.3</td>\n",
       "      <td>M</td>\n",
       "      <td>12.62</td>\n",
       "    </tr>\n",
       "    <tr>\n",
       "      <th>47</th>\n",
       "      <td>pokemon omega ruby/pokemon alpha sapphire</td>\n",
       "      <td>3DS</td>\n",
       "      <td>2014</td>\n",
       "      <td>role-playing</td>\n",
       "      <td>4.35</td>\n",
       "      <td>3.49</td>\n",
       "      <td>3.10</td>\n",
       "      <td>0.74</td>\n",
       "      <td>-1.0</td>\n",
       "      <td>-1.0</td>\n",
       "      <td>unknown</td>\n",
       "      <td>11.68</td>\n",
       "    </tr>\n",
       "    <tr>\n",
       "      <th>77</th>\n",
       "      <td>fifa 16</td>\n",
       "      <td>PS4</td>\n",
       "      <td>2015</td>\n",
       "      <td>sports</td>\n",
       "      <td>1.12</td>\n",
       "      <td>6.12</td>\n",
       "      <td>0.06</td>\n",
       "      <td>1.28</td>\n",
       "      <td>82.0</td>\n",
       "      <td>4.3</td>\n",
       "      <td>E</td>\n",
       "      <td>8.58</td>\n",
       "    </tr>\n",
       "    <tr>\n",
       "      <th>87</th>\n",
       "      <td>star wars battlefront (2015)</td>\n",
       "      <td>PS4</td>\n",
       "      <td>2015</td>\n",
       "      <td>shooter</td>\n",
       "      <td>2.99</td>\n",
       "      <td>3.49</td>\n",
       "      <td>0.22</td>\n",
       "      <td>1.28</td>\n",
       "      <td>-1.0</td>\n",
       "      <td>-1.0</td>\n",
       "      <td>unknown</td>\n",
       "      <td>7.98</td>\n",
       "    </tr>\n",
       "    <tr>\n",
       "      <th>92</th>\n",
       "      <td>call of duty: advanced warfare</td>\n",
       "      <td>PS4</td>\n",
       "      <td>2014</td>\n",
       "      <td>shooter</td>\n",
       "      <td>2.81</td>\n",
       "      <td>3.48</td>\n",
       "      <td>0.14</td>\n",
       "      <td>1.23</td>\n",
       "      <td>83.0</td>\n",
       "      <td>5.7</td>\n",
       "      <td>M</td>\n",
       "      <td>7.66</td>\n",
       "    </tr>\n",
       "    <tr>\n",
       "      <th>94</th>\n",
       "      <td>fifa 17</td>\n",
       "      <td>PS4</td>\n",
       "      <td>2016</td>\n",
       "      <td>sports</td>\n",
       "      <td>0.66</td>\n",
       "      <td>5.75</td>\n",
       "      <td>0.08</td>\n",
       "      <td>1.11</td>\n",
       "      <td>85.0</td>\n",
       "      <td>5.0</td>\n",
       "      <td>E</td>\n",
       "      <td>7.60</td>\n",
       "    </tr>\n",
       "    <tr>\n",
       "      <th>96</th>\n",
       "      <td>super smash bros. for wii u and 3ds</td>\n",
       "      <td>3DS</td>\n",
       "      <td>2014</td>\n",
       "      <td>fighting</td>\n",
       "      <td>3.27</td>\n",
       "      <td>1.37</td>\n",
       "      <td>2.43</td>\n",
       "      <td>0.48</td>\n",
       "      <td>-1.0</td>\n",
       "      <td>-1.0</td>\n",
       "      <td>unknown</td>\n",
       "      <td>7.55</td>\n",
       "    </tr>\n",
       "    <tr>\n",
       "      <th>99</th>\n",
       "      <td>call of duty: black ops 3</td>\n",
       "      <td>XOne</td>\n",
       "      <td>2015</td>\n",
       "      <td>shooter</td>\n",
       "      <td>4.59</td>\n",
       "      <td>2.11</td>\n",
       "      <td>0.01</td>\n",
       "      <td>0.68</td>\n",
       "      <td>-1.0</td>\n",
       "      <td>-1.0</td>\n",
       "      <td>unknown</td>\n",
       "      <td>7.39</td>\n",
       "    </tr>\n",
       "    <tr>\n",
       "      <th>105</th>\n",
       "      <td>fallout 4</td>\n",
       "      <td>PS4</td>\n",
       "      <td>2015</td>\n",
       "      <td>role-playing</td>\n",
       "      <td>2.53</td>\n",
       "      <td>3.27</td>\n",
       "      <td>0.24</td>\n",
       "      <td>1.13</td>\n",
       "      <td>87.0</td>\n",
       "      <td>6.5</td>\n",
       "      <td>M</td>\n",
       "      <td>7.17</td>\n",
       "    </tr>\n",
       "  </tbody>\n",
       "</table>\n",
       "</div>"
      ],
      "text/plain": [
       "                                          name platform  year_of_release  \\\n",
       "31                   call of duty: black ops 3      PS4             2015   \n",
       "42                          grand theft auto v      PS4             2014   \n",
       "47   pokemon omega ruby/pokemon alpha sapphire      3DS             2014   \n",
       "77                                     fifa 16      PS4             2015   \n",
       "87                star wars battlefront (2015)      PS4             2015   \n",
       "92              call of duty: advanced warfare      PS4             2014   \n",
       "94                                     fifa 17      PS4             2016   \n",
       "96         super smash bros. for wii u and 3ds      3DS             2014   \n",
       "99                   call of duty: black ops 3     XOne             2015   \n",
       "105                                  fallout 4      PS4             2015   \n",
       "\n",
       "            genre  na_sales  eu_sales  jp_sales  other_sales  critic_score  \\\n",
       "31        shooter      6.03      5.86      0.36         2.38          -1.0   \n",
       "42         action      3.96      6.31      0.38         1.97          97.0   \n",
       "47   role-playing      4.35      3.49      3.10         0.74          -1.0   \n",
       "77         sports      1.12      6.12      0.06         1.28          82.0   \n",
       "87        shooter      2.99      3.49      0.22         1.28          -1.0   \n",
       "92        shooter      2.81      3.48      0.14         1.23          83.0   \n",
       "94         sports      0.66      5.75      0.08         1.11          85.0   \n",
       "96       fighting      3.27      1.37      2.43         0.48          -1.0   \n",
       "99        shooter      4.59      2.11      0.01         0.68          -1.0   \n",
       "105  role-playing      2.53      3.27      0.24         1.13          87.0   \n",
       "\n",
       "     user_score   rating  total_sales  \n",
       "31         -1.0  unknown        14.63  \n",
       "42          8.3        M        12.62  \n",
       "47         -1.0  unknown        11.68  \n",
       "77          4.3        E         8.58  \n",
       "87         -1.0  unknown         7.98  \n",
       "92          5.7        M         7.66  \n",
       "94          5.0        E         7.60  \n",
       "96         -1.0  unknown         7.55  \n",
       "99         -1.0  unknown         7.39  \n",
       "105         6.5        M         7.17  "
      ]
     },
     "execution_count": 39,
     "metadata": {},
     "output_type": "execute_result"
    }
   ],
   "source": [
    "actually_data.head(10)"
   ]
  },
  {
   "cell_type": "code",
   "execution_count": 40,
   "metadata": {},
   "outputs": [
    {
     "data": {
      "image/png": "[encoded data removed]",
      "text/plain": [
       "<Figure size 1080x720 with 1 Axes>"
      ]
     },
     "metadata": {
      "needs_background": "light"
     },
     "output_type": "display_data"
    }
   ],
   "source": [
    "actually_sales_platform = actually_data.groupby(['platform', 'year_of_release']).sum().reset_index()\n",
    "plt.figure(figsize=(15, 10)) \n",
    "for platform in actually_sales_platform['platform'].unique():\n",
    "    platform_data = actually_sales_platform[actually_sales_platform['platform'] == platform]\n",
    "    plt.plot(platform_data['year_of_release'], platform_data['total_sales'], marker='o', label=platform)\n",
    "plt.xlabel('Год')\n",
    "plt.ylabel('Продажи, млн.копий')\n",
    "plt.title('Продажи по платформам')\n",
    "plt.legend(title='Платформы')\n",
    "plt.grid(True)\n",
    "plt.xticks(ticks=actually_sales_platform['year_of_release'].unique())\n",
    "plt.show()"
   ]
  },
  {
   "cell_type": "markdown",
   "metadata": {},
   "source": [
    "Для начала надо отметить, что данные за 2016 год неполные, поэтому корректность данных нарушена. Но и не учитывать 2016 год для прогноза на 2017 нельзя. "
   ]
  },
  {
   "cell_type": "markdown",
   "metadata": {},
   "source": [
    "Потенциально прибыльные платформы на 2017 год сложно оценить. В 2014-2016 годах PS4 стала лидером по продажам среди платформ, опережая всех. PS4 завоевала наибольшую популярность благодаря своим эксклюзивным играм, а также более доступной цене. Но даже на них падает спрос по сравнению с 2015. Это связано с тем, что активный цикл использования консоли подходит к концу, и в 2016 вышли новые консоли PlayStation 4 Slim, а также в конце года PlayStation 4 Pro.\n",
    "\n",
    "XOne занимала второе место, но с некоторым отставанием от PS4. PS3 показывала стабильные продажи, но в сравнении с предыдущими годами они уже были ниже. 3DS оставалась популярной платформой благодаря своей портативности и обширной библиотеке игр. X360 уже завершал свой жизненный цикл и демонстрировал снижение продаж.\n",
    "\n",
    "В 2014-2016 годах продажи Wii заметно снизились по сравнению с ее пиком популярности в предыдущие годы. Это связано с выходом новых консолей, таких как PS4 и XOne. Несмотря на это, Wii все еще была популярной платформой, особенно среди семейных игроков, благодаря своей доступной цене и доступной библиотеке игр."
   ]
  },
  {
   "cell_type": "markdown",
   "metadata": {},
   "source": [
    "**Построим «ящик с усами» по глобальным продажам игр в разбивке по платформам** \n"
   ]
  },
  {
   "cell_type": "code",
   "execution_count": 41,
   "metadata": {},
   "outputs": [
    {
     "data": {
      "image/png": "[encoded data removed]",
      "text/plain": [
       "<Figure size 1080x720 with 1 Axes>"
      ]
     },
     "metadata": {
      "needs_background": "light"
     },
     "output_type": "display_data"
    }
   ],
   "source": [
    "plt.figure(figsize=(15,10))\n",
    "plt.xlim(0, 5)\n",
    "sns.boxplot(x=\"total_sales\", y=\"platform\", data=actually_data.reset_index())\n",
    "plt.title('Глобальные продажи игр в разбивке по всем платформам в актуальном периоде', fontsize=20)\n",
    "plt.ylabel('Платформы')\n",
    "plt.xlabel('Продажи')\n",
    "plt.grid(True);"
   ]
  },
  {
   "cell_type": "markdown",
   "metadata": {},
   "source": [
    "Для наглядности выберем платформы с самыми большими продажами: PS4, XboxOne, Wii, PS3, Xbox 360."
   ]
  },
  {
   "cell_type": "code",
   "execution_count": 42,
   "metadata": {},
   "outputs": [
    {
     "data": {
      "image/png": "[encoded data removed]",
      "text/plain": [
       "<Figure size 1080x504 with 1 Axes>"
      ]
     },
     "metadata": {
      "needs_background": "light"
     },
     "output_type": "display_data"
    }
   ],
   "source": [
    "actually_data_top_platform = actually_data.query('platform == \"PS4\" or platform == \"XOne\" or platform == \"PS3\" or platform == \"Wii\" or platform == \"X360\"')\n",
    "plt.figure(figsize=(15, 7))\n",
    "plt.xlim(0, 2)\n",
    "plt.title('Глобальные продажи игр в разбивке по топ-платформам', fontsize=20)\n",
    "sns.boxplot(x='total_sales', y='platform', data=actually_data_top_platform , orient='h')\n",
    "plt.ylabel('Продажи')\n",
    "plt.xlabel('Платформы')\n",
    "plt.grid(True);"
   ]
  },
  {
   "cell_type": "markdown",
   "metadata": {},
   "source": [
    "На ящике с усами видно продажи Wii и PS4 за период 2014-2016 годов примерно одинаковы. Но у Wii нет выбросов и boxplot короче.  \n",
    "\n",
    "Отсутствие выбросов у Wii говорит о том, что ее продажи были более стабильными, без резких скачков или падений. Потому что Wii была ориентирована на семейную аудиторию, которая, как правило, стабильнее в своих игровых привычках. Тогда как PS4 была более мощной консолью, ориентированной на хардкорных геймеров. Также продажи PS4 могли быть подвержены влиянию выхода новых игр.\n",
    "После Wii и PS4 идет XOne. Выбросов как у PS4, но продаж меньше   \n",
    "Продажи X360 были еще меньше, чем у предыдущих консолей, поскольку консоль уже находилась на закате своей популярности.\n",
    "\n"
   ]
  },
  {
   "cell_type": "markdown",
   "metadata": {},
   "source": [
    "**Как влияют на продажи внутри одной популярной платформы отзывы пользователей и критиков?**  "
   ]
  },
  {
   "cell_type": "markdown",
   "metadata": {},
   "source": [
    "Берем для анализа PS и уберем все строки где оценки критиков и пользователей -1"
   ]
  },
  {
   "cell_type": "code",
   "execution_count": 43,
   "metadata": {},
   "outputs": [
    {
     "data": {
      "text/html": [
       "<div>\n",
       "<style scoped>\n",
       "    .dataframe tbody tr th:only-of-type {\n",
       "        vertical-align: middle;\n",
       "    }\n",
       "\n",
       "    .dataframe tbody tr th {\n",
       "        vertical-align: top;\n",
       "    }\n",
       "\n",
       "    .dataframe thead th {\n",
       "        text-align: right;\n",
       "    }\n",
       "</style>\n",
       "<table border=\"1\" class=\"dataframe\">\n",
       "  <thead>\n",
       "    <tr style=\"text-align: right;\">\n",
       "      <th></th>\n",
       "      <th>name</th>\n",
       "      <th>platform</th>\n",
       "      <th>year_of_release</th>\n",
       "      <th>genre</th>\n",
       "      <th>na_sales</th>\n",
       "      <th>eu_sales</th>\n",
       "      <th>jp_sales</th>\n",
       "      <th>other_sales</th>\n",
       "      <th>critic_score</th>\n",
       "      <th>user_score</th>\n",
       "      <th>rating</th>\n",
       "      <th>total_sales</th>\n",
       "    </tr>\n",
       "  </thead>\n",
       "  <tbody>\n",
       "  </tbody>\n",
       "</table>\n",
       "</div>"
      ],
      "text/plain": [
       "Empty DataFrame\n",
       "Columns: [name, platform, year_of_release, genre, na_sales, eu_sales, jp_sales, other_sales, critic_score, user_score, rating, total_sales]\n",
       "Index: []"
      ]
     },
     "execution_count": 43,
     "metadata": {},
     "output_type": "execute_result"
    }
   ],
   "source": [
    "actually_data_not_zero= actually_data_top_platform.query('(critic_score == 0) or (user_score ==0)')\n",
    "actually_data_not_zero"
   ]
  },
  {
   "cell_type": "code",
   "execution_count": 44,
   "metadata": {},
   "outputs": [
    {
     "data": {
      "text/html": [
       "<div>\n",
       "<style scoped>\n",
       "    .dataframe tbody tr th:only-of-type {\n",
       "        vertical-align: middle;\n",
       "    }\n",
       "\n",
       "    .dataframe tbody tr th {\n",
       "        vertical-align: top;\n",
       "    }\n",
       "\n",
       "    .dataframe thead th {\n",
       "        text-align: right;\n",
       "    }\n",
       "</style>\n",
       "<table border=\"1\" class=\"dataframe\">\n",
       "  <thead>\n",
       "    <tr style=\"text-align: right;\">\n",
       "      <th></th>\n",
       "      <th>name</th>\n",
       "      <th>platform</th>\n",
       "      <th>year_of_release</th>\n",
       "      <th>genre</th>\n",
       "      <th>na_sales</th>\n",
       "      <th>eu_sales</th>\n",
       "      <th>jp_sales</th>\n",
       "      <th>other_sales</th>\n",
       "      <th>critic_score</th>\n",
       "      <th>user_score</th>\n",
       "      <th>rating</th>\n",
       "      <th>total_sales</th>\n",
       "    </tr>\n",
       "  </thead>\n",
       "  <tbody>\n",
       "    <tr>\n",
       "      <th>42</th>\n",
       "      <td>grand theft auto v</td>\n",
       "      <td>PS4</td>\n",
       "      <td>2014</td>\n",
       "      <td>action</td>\n",
       "      <td>3.96</td>\n",
       "      <td>6.31</td>\n",
       "      <td>0.38</td>\n",
       "      <td>1.97</td>\n",
       "      <td>97.0</td>\n",
       "      <td>8.3</td>\n",
       "      <td>M</td>\n",
       "      <td>12.62</td>\n",
       "    </tr>\n",
       "    <tr>\n",
       "      <th>77</th>\n",
       "      <td>fifa 16</td>\n",
       "      <td>PS4</td>\n",
       "      <td>2015</td>\n",
       "      <td>sports</td>\n",
       "      <td>1.12</td>\n",
       "      <td>6.12</td>\n",
       "      <td>0.06</td>\n",
       "      <td>1.28</td>\n",
       "      <td>82.0</td>\n",
       "      <td>4.3</td>\n",
       "      <td>E</td>\n",
       "      <td>8.58</td>\n",
       "    </tr>\n",
       "    <tr>\n",
       "      <th>92</th>\n",
       "      <td>call of duty: advanced warfare</td>\n",
       "      <td>PS4</td>\n",
       "      <td>2014</td>\n",
       "      <td>shooter</td>\n",
       "      <td>2.81</td>\n",
       "      <td>3.48</td>\n",
       "      <td>0.14</td>\n",
       "      <td>1.23</td>\n",
       "      <td>83.0</td>\n",
       "      <td>5.7</td>\n",
       "      <td>M</td>\n",
       "      <td>7.66</td>\n",
       "    </tr>\n",
       "    <tr>\n",
       "      <th>94</th>\n",
       "      <td>fifa 17</td>\n",
       "      <td>PS4</td>\n",
       "      <td>2016</td>\n",
       "      <td>sports</td>\n",
       "      <td>0.66</td>\n",
       "      <td>5.75</td>\n",
       "      <td>0.08</td>\n",
       "      <td>1.11</td>\n",
       "      <td>85.0</td>\n",
       "      <td>5.0</td>\n",
       "      <td>E</td>\n",
       "      <td>7.60</td>\n",
       "    </tr>\n",
       "    <tr>\n",
       "      <th>105</th>\n",
       "      <td>fallout 4</td>\n",
       "      <td>PS4</td>\n",
       "      <td>2015</td>\n",
       "      <td>role-playing</td>\n",
       "      <td>2.53</td>\n",
       "      <td>3.27</td>\n",
       "      <td>0.24</td>\n",
       "      <td>1.13</td>\n",
       "      <td>87.0</td>\n",
       "      <td>6.5</td>\n",
       "      <td>M</td>\n",
       "      <td>7.17</td>\n",
       "    </tr>\n",
       "    <tr>\n",
       "      <th>...</th>\n",
       "      <td>...</td>\n",
       "      <td>...</td>\n",
       "      <td>...</td>\n",
       "      <td>...</td>\n",
       "      <td>...</td>\n",
       "      <td>...</td>\n",
       "      <td>...</td>\n",
       "      <td>...</td>\n",
       "      <td>...</td>\n",
       "      <td>...</td>\n",
       "      <td>...</td>\n",
       "      <td>...</td>\n",
       "    </tr>\n",
       "    <tr>\n",
       "      <th>16486</th>\n",
       "      <td>super dungeon bros</td>\n",
       "      <td>PS4</td>\n",
       "      <td>2016</td>\n",
       "      <td>action</td>\n",
       "      <td>0.01</td>\n",
       "      <td>0.00</td>\n",
       "      <td>0.00</td>\n",
       "      <td>0.00</td>\n",
       "      <td>42.0</td>\n",
       "      <td>2.3</td>\n",
       "      <td>E10+</td>\n",
       "      <td>0.01</td>\n",
       "    </tr>\n",
       "    <tr>\n",
       "      <th>16499</th>\n",
       "      <td>sherlock holmes: the devil's daughter</td>\n",
       "      <td>PS4</td>\n",
       "      <td>2016</td>\n",
       "      <td>adventure</td>\n",
       "      <td>0.01</td>\n",
       "      <td>0.00</td>\n",
       "      <td>0.00</td>\n",
       "      <td>0.00</td>\n",
       "      <td>70.0</td>\n",
       "      <td>6.8</td>\n",
       "      <td>T</td>\n",
       "      <td>0.01</td>\n",
       "    </tr>\n",
       "    <tr>\n",
       "      <th>16500</th>\n",
       "      <td>root letter</td>\n",
       "      <td>PS4</td>\n",
       "      <td>2016</td>\n",
       "      <td>adventure</td>\n",
       "      <td>0.00</td>\n",
       "      <td>0.00</td>\n",
       "      <td>0.01</td>\n",
       "      <td>0.00</td>\n",
       "      <td>69.0</td>\n",
       "      <td>7.5</td>\n",
       "      <td>unknown</td>\n",
       "      <td>0.01</td>\n",
       "    </tr>\n",
       "    <tr>\n",
       "      <th>16526</th>\n",
       "      <td>dungeons 2</td>\n",
       "      <td>PS4</td>\n",
       "      <td>2016</td>\n",
       "      <td>role-playing</td>\n",
       "      <td>0.01</td>\n",
       "      <td>0.00</td>\n",
       "      <td>0.00</td>\n",
       "      <td>0.00</td>\n",
       "      <td>61.0</td>\n",
       "      <td>7.9</td>\n",
       "      <td>T</td>\n",
       "      <td>0.01</td>\n",
       "    </tr>\n",
       "    <tr>\n",
       "      <th>16530</th>\n",
       "      <td>carmageddon: max damage</td>\n",
       "      <td>PS4</td>\n",
       "      <td>2016</td>\n",
       "      <td>action</td>\n",
       "      <td>0.01</td>\n",
       "      <td>0.00</td>\n",
       "      <td>0.00</td>\n",
       "      <td>0.00</td>\n",
       "      <td>51.0</td>\n",
       "      <td>5.5</td>\n",
       "      <td>M</td>\n",
       "      <td>0.01</td>\n",
       "    </tr>\n",
       "  </tbody>\n",
       "</table>\n",
       "<p>245 rows × 12 columns</p>\n",
       "</div>"
      ],
      "text/plain": [
       "                                        name platform  year_of_release  \\\n",
       "42                        grand theft auto v      PS4             2014   \n",
       "77                                   fifa 16      PS4             2015   \n",
       "92            call of duty: advanced warfare      PS4             2014   \n",
       "94                                   fifa 17      PS4             2016   \n",
       "105                                fallout 4      PS4             2015   \n",
       "...                                      ...      ...              ...   \n",
       "16486                     super dungeon bros      PS4             2016   \n",
       "16499  sherlock holmes: the devil's daughter      PS4             2016   \n",
       "16500                            root letter      PS4             2016   \n",
       "16526                             dungeons 2      PS4             2016   \n",
       "16530                carmageddon: max damage      PS4             2016   \n",
       "\n",
       "              genre  na_sales  eu_sales  jp_sales  other_sales  critic_score  \\\n",
       "42           action      3.96      6.31      0.38         1.97          97.0   \n",
       "77           sports      1.12      6.12      0.06         1.28          82.0   \n",
       "92          shooter      2.81      3.48      0.14         1.23          83.0   \n",
       "94           sports      0.66      5.75      0.08         1.11          85.0   \n",
       "105    role-playing      2.53      3.27      0.24         1.13          87.0   \n",
       "...             ...       ...       ...       ...          ...           ...   \n",
       "16486        action      0.01      0.00      0.00         0.00          42.0   \n",
       "16499     adventure      0.01      0.00      0.00         0.00          70.0   \n",
       "16500     adventure      0.00      0.00      0.01         0.00          69.0   \n",
       "16526  role-playing      0.01      0.00      0.00         0.00          61.0   \n",
       "16530        action      0.01      0.00      0.00         0.00          51.0   \n",
       "\n",
       "       user_score   rating  total_sales  \n",
       "42            8.3        M        12.62  \n",
       "77            4.3        E         8.58  \n",
       "92            5.7        M         7.66  \n",
       "94            5.0        E         7.60  \n",
       "105           6.5        M         7.17  \n",
       "...           ...      ...          ...  \n",
       "16486         2.3     E10+         0.01  \n",
       "16499         6.8        T         0.01  \n",
       "16500         7.5  unknown         0.01  \n",
       "16526         7.9        T         0.01  \n",
       "16530         5.5        M         0.01  \n",
       "\n",
       "[245 rows x 12 columns]"
      ]
     },
     "execution_count": 44,
     "metadata": {},
     "output_type": "execute_result"
    }
   ],
   "source": [
    "actually_data_ps = actually_data_top_platform.query('(platform == \"PS4\") & ((user_score != -1) or (critic_score != -1))')\n",
    "actually_data_ps  "
   ]
  },
  {
   "cell_type": "code",
   "execution_count": 45,
   "metadata": {},
   "outputs": [
    {
     "data": {
      "text/html": [
       "<div>\n",
       "<style scoped>\n",
       "    .dataframe tbody tr th:only-of-type {\n",
       "        vertical-align: middle;\n",
       "    }\n",
       "\n",
       "    .dataframe tbody tr th {\n",
       "        vertical-align: top;\n",
       "    }\n",
       "\n",
       "    .dataframe thead th {\n",
       "        text-align: right;\n",
       "    }\n",
       "</style>\n",
       "<table border=\"1\" class=\"dataframe\">\n",
       "  <thead>\n",
       "    <tr style=\"text-align: right;\">\n",
       "      <th></th>\n",
       "      <th>name</th>\n",
       "      <th>platform</th>\n",
       "      <th>year_of_release</th>\n",
       "      <th>genre</th>\n",
       "      <th>na_sales</th>\n",
       "      <th>eu_sales</th>\n",
       "      <th>jp_sales</th>\n",
       "      <th>other_sales</th>\n",
       "      <th>critic_score</th>\n",
       "      <th>user_score</th>\n",
       "      <th>rating</th>\n",
       "      <th>total_sales</th>\n",
       "    </tr>\n",
       "  </thead>\n",
       "  <tbody>\n",
       "    <tr>\n",
       "      <th>15021</th>\n",
       "      <td>assault suit leynos</td>\n",
       "      <td>PS4</td>\n",
       "      <td>2016</td>\n",
       "      <td>shooter</td>\n",
       "      <td>0.02</td>\n",
       "      <td>0.0</td>\n",
       "      <td>0.0</td>\n",
       "      <td>0.00</td>\n",
       "      <td>67.0</td>\n",
       "      <td>-1.0</td>\n",
       "      <td>E10+</td>\n",
       "      <td>0.02</td>\n",
       "    </tr>\n",
       "    <tr>\n",
       "      <th>14294</th>\n",
       "      <td>just dance 2017</td>\n",
       "      <td>PS4</td>\n",
       "      <td>2016</td>\n",
       "      <td>misc</td>\n",
       "      <td>0.02</td>\n",
       "      <td>0.0</td>\n",
       "      <td>0.0</td>\n",
       "      <td>0.01</td>\n",
       "      <td>73.0</td>\n",
       "      <td>-1.0</td>\n",
       "      <td>E10+</td>\n",
       "      <td>0.03</td>\n",
       "    </tr>\n",
       "  </tbody>\n",
       "</table>\n",
       "</div>"
      ],
      "text/plain": [
       "                      name platform  year_of_release    genre  na_sales  \\\n",
       "15021  assault suit leynos      PS4             2016  shooter      0.02   \n",
       "14294      just dance 2017      PS4             2016     misc      0.02   \n",
       "\n",
       "       eu_sales  jp_sales  other_sales  critic_score  user_score rating  \\\n",
       "15021       0.0       0.0         0.00          67.0        -1.0   E10+   \n",
       "14294       0.0       0.0         0.01          73.0        -1.0   E10+   \n",
       "\n",
       "       total_sales  \n",
       "15021         0.02  \n",
       "14294         0.03  "
      ]
     },
     "execution_count": 45,
     "metadata": {},
     "output_type": "execute_result"
    }
   ],
   "source": [
    "# check\n",
    "actually_data_ps.sort_values('user_score')[:2]"
   ]
  },
  {
   "cell_type": "markdown",
   "metadata": {},
   "source": []
  },
  {
   "cell_type": "code",
   "execution_count": 46,
   "metadata": {},
   "outputs": [
    {
     "data": {
      "image/png": "[encoded data removed]",
      "text/plain": [
       "<Figure size 576x576 with 1 Axes>"
      ]
     },
     "metadata": {
      "needs_background": "light"
     },
     "output_type": "display_data"
    }
   ],
   "source": [
    "actually_data_ps.plot(x='critic_score', y='total_sales', kind='scatter', alpha=0.7, figsize=(8, 8))\n",
    "plt.xlabel('Оценка критиков')\n",
    "plt.ylabel('Продажи')\n",
    "plt.title('Зависимость продаж от оценки критиков PS4')\n",
    "plt.grid(True);"
   ]
  },
  {
   "cell_type": "code",
   "execution_count": 47,
   "metadata": {},
   "outputs": [
    {
     "data": {
      "image/png": "[encoded data removed]",
      "text/plain": [
       "<Figure size 576x576 with 1 Axes>"
      ]
     },
     "metadata": {
      "needs_background": "light"
     },
     "output_type": "display_data"
    }
   ],
   "source": [
    "actually_data_ps.plot(x='user_score', y='total_sales', kind='scatter', alpha=0.7, figsize=(8, 8))\n",
    "plt.xlabel('Оценка пользователей')\n",
    "plt.ylabel('Продажи')\n",
    "plt.title('Зависимость продаж от оценки пользователей PS4')\n",
    "plt.grid(True);"
   ]
  },
  {
   "cell_type": "code",
   "execution_count": 48,
   "metadata": {},
   "outputs": [
    {
     "name": "stdout",
     "output_type": "stream",
     "text": [
      "Коэффицент корреляции для отзывов критиков по платформе PS4: 0.3395541059336603\n",
      "Коэффицент корреляции для отзывов пользователй по платформе PS4: -0.004302340842328471\n"
     ]
    }
   ],
   "source": [
    "critic_actually_data_ps = actually_data_ps['total_sales'].corr(actually_data_ps['critic_score'])\n",
    "user_actually_data_ps = actually_data_ps['total_sales'].corr(actually_data_ps['user_score'])\n",
    "print ('Коэффицент корреляции для отзывов критиков по платформе PS4:', critic_actually_data_ps)\n",
    "print ('Коэффицент корреляции для отзывов пользователй по платформе PS4:', user_actually_data_ps)"
   ]
  },
  {
   "cell_type": "markdown",
   "metadata": {},
   "source": [
    "Нет статистически значимой связи между продажами игр на платформе PS и отзывами пользователей. Однако существует среднеположительная связь между продажами и отзывами критиков. Это свидетельствует о том, что мнение критиков оказывает большее влияние на продажи игр."
   ]
  },
  {
   "cell_type": "markdown",
   "metadata": {},
   "source": [
    "**Соотнесем выводы с продажами игр на других платформах.**"
   ]
  },
  {
   "cell_type": "markdown",
   "metadata": {},
   "source": [
    "Добавим все предыдущие шаги в функцию"
   ]
  },
  {
   "cell_type": "code",
   "execution_count": 49,
   "metadata": {},
   "outputs": [
    {
     "data": {
      "image/png": "[encoded data removed]",
      "text/plain": [
       "<Figure size 1008x360 with 2 Axes>"
      ]
     },
     "metadata": {
      "needs_background": "light"
     },
     "output_type": "display_data"
    },
    {
     "name": "stdout",
     "output_type": "stream",
     "text": [
      "Коэффициент корреляции для отзывов критиков по платформе XOne: 0.42\n",
      "Коэффициент корреляции для отзывов пользователей по платформе XOne: -0.09\n"
     ]
    },
    {
     "data": {
      "image/png": "[encoded data removed]",
      "text/plain": [
       "<Figure size 1008x360 with 2 Axes>"
      ]
     },
     "metadata": {
      "needs_background": "light"
     },
     "output_type": "display_data"
    },
    {
     "name": "stdout",
     "output_type": "stream",
     "text": [
      "Коэффициент корреляции для отзывов критиков по платформе PS3: 0.45\n",
      "Коэффициент корреляции для отзывов пользователей по платформе PS3: 0.16\n"
     ]
    },
    {
     "data": {
      "image/png": "[encoded data removed]",
      "text/plain": [
       "<Figure size 1008x360 with 2 Axes>"
      ]
     },
     "metadata": {
      "needs_background": "light"
     },
     "output_type": "display_data"
    },
    {
     "name": "stdout",
     "output_type": "stream",
     "text": [
      "Коэффициент корреляции для отзывов критиков по платформе X360: 0.53\n",
      "Коэффициент корреляции для отзывов пользователей по платформе X360: 0.34\n"
     ]
    }
   ],
   "source": [
    "def actually_data_total_platform(data, platform):\n",
    "    filtered_data = actually_data_top_platform.query(\n",
    "        f'(platform == \"{platform}\") & (user_score != -1) & (user_score != 0) & (critic_score != -1) & (critic_score != 0)')\n",
    "    plt.figure(figsize=(14, 5))\n",
    "    plt.subplot(1, 2, 1)\n",
    "    filtered_data.plot(x='critic_score', y='total_sales', kind='scatter', color='red', alpha=0.7, ax=plt.gca())\n",
    "    plt.xlabel('Оценка критиков')\n",
    "    plt.ylabel('Продажи, млн.копий')\n",
    "    plt.title(f'Зависимость продаж от оценки критиков {platform}')\n",
    "    plt.grid(True)\n",
    "    plt.subplot(1, 2, 2)\n",
    "    filtered_data.plot(x='user_score', y='total_sales', kind='scatter', alpha=0.7, ax=plt.gca())\n",
    "    plt.xlabel('Оценка пользователей')\n",
    "    plt.ylabel('Продажи, млн.копий')\n",
    "    plt.title(f'Зависимость продаж от оценки пользователей {platform}')\n",
    "    plt.grid(True)\n",
    "    plt.show()\n",
    "    critic_corr = filtered_data['total_sales'].corr(filtered_data['critic_score'])\n",
    "    user_corr = filtered_data['total_sales'].corr(filtered_data['user_score'])\n",
    "    print(f'Коэффициент корреляции для отзывов критиков по платформе {platform}: {critic_corr:.2f}')\n",
    "    print(f'Коэффициент корреляции для отзывов пользователей по платформе {platform}: {user_corr:.2f}')\n",
    "\n",
    "platforms = [\"XOne\", \"PS3\", \"X360\"]\n",
    "for platform in platforms:\n",
    "    actually_data_total_platform(actually_data_top_platform, platform)"
   ]
  },
  {
   "cell_type": "markdown",
   "metadata": {},
   "source": [
    "C XOne такая же ситуация, как и с PS4. Нет статистически значимой связи между продажами игр на платформе и отзывами пользователей.\n",
    "У PS3 слабая положительная зависимость продаж от отзывов пользователей. Но у X360 среднеположительная связь с пользователями, а c отзывами критиков у X360 уже высокоположительная связь с продажами.\n",
    "\n",
    "Вывод: В целом мнение критиков имеет средне положительную связь и оказывает значительно большее влияние по сравнению с оценками пользователей."
   ]
  },
  {
   "cell_type": "markdown",
   "metadata": {},
   "source": [
    "### Общее распределение игр по жанрам"
   ]
  },
  {
   "cell_type": "code",
   "execution_count": 50,
   "metadata": {},
   "outputs": [
    {
     "data": {
      "image/png": "[encoded data removed]",
      "text/plain": [
       "<Figure size 1440x720 with 1 Axes>"
      ]
     },
     "metadata": {
      "needs_background": "light"
     },
     "output_type": "display_data"
    }
   ],
   "source": [
    "genre_data = actually_data.pivot_table(index='genre', values='total_sales', aggfunc='median').sort_values(by='total_sales', ascending=False).reset_index()\n",
    "plt.figure(figsize=(20, 10))\n",
    "sns.barplot(x='total_sales', y='genre', data=genre_data)\n",
    "plt.title('Общее распределение игр по жанрам')\n",
    "plt.xlabel('Суммарные продажи, млн.копий')\n",
    "plt.ylabel('Жанр');"
   ]
  },
  {
   "cell_type": "code",
   "execution_count": 51,
   "metadata": {},
   "outputs": [
    {
     "data": {
      "image/png": "[encoded data removed]",
      "text/plain": [
       "<Figure size 1080x720 with 1 Axes>"
      ]
     },
     "metadata": {
      "needs_background": "light"
     },
     "output_type": "display_data"
    }
   ],
   "source": [
    "plt.figure(figsize=(15, 10))\n",
    "plt.xlim(0, 2)\n",
    "plt.title('Анализ продаж по жанрам', fontsize=20)\n",
    "sns.boxplot(x='genre', y='total_sales', data=actually_data)\n",
    "plt.ylabel('Продажи, млн.копий')\n",
    "plt.xlabel('Жанр')\n",
    "plt.grid(True);"
   ]
  },
  {
   "cell_type": "markdown",
   "metadata": {},
   "source": [
    "<div class=\"alert alert-dan ger\">\n",
    "<font size=\"4\"><b>❌ Комментарий ревьюера</b></font>\n",
    "    <br /> \n",
    "    <font size=\"3\", color = \"black\">\n",
    "<br />        \n",
    "К сожалению, на этом графике видны только выбросы, и совсем не видны медиана и 75% квантиль. Для более обоснованных выводов cтоит добавить второй вид, с другим масштабом по оси y, где будет отображена только нижняя часть boxplot-ов\n",
    "       \n",
    "Оба вида важны, т.к. выбросы — это наши звезды, которые приносят максимум выручки\n",
    "        \n"
   ]
  },
  {
   "cell_type": "code",
   "execution_count": 52,
   "metadata": {},
   "outputs": [
    {
     "data": {
      "image/png": "[encoded data removed]",
      "text/plain": [
       "<Figure size 1080x720 with 1 Axes>"
      ]
     },
     "metadata": {
      "needs_background": "light"
     },
     "output_type": "display_data"
    }
   ],
   "source": [
    "plt.figure(figsize=(15, 10))\n",
    "plt.xlim(0, 2)\n",
    "plt.ylim(0,1.7)\n",
    "plt.title('Анализ продаж по жанрам', fontsize=20)\n",
    "sns.boxplot(x='genre', y='total_sales', data=actually_data)\n",
    "plt.ylabel('Продажи, млн.копий')\n",
    "plt.xlabel('Жанр')\n",
    "plt.grid(True);"
   ]
  },
  {
   "cell_type": "markdown",
   "metadata": {},
   "source": [
    "У shooter медиана около 0.55 млн.копий. Q1 - 0.19, Q3-1,6 млн.копий. Это говорит о том, что в жанре Shooter есть как очень успешные игры, так и игры с очень низкими продажами, то есть разброс по продажам  значителен. \n",
    "\n",
    "На втором месте по медиане жанр 'sports' - 0.19 млн.копий., Q1 - 0.1 и Q3 - 0.65 млн.копий.  \n",
    "Далее идет 'platform' c медианой 0.17 млн.копий, Q1 - 0.1 и Q3 - 0.45 млн.копий.\n",
    "\n",
    "Как видим первая тройка является самой прибильной для компании."
   ]
  },
  {
   "cell_type": "markdown",
   "metadata": {},
   "source": [
    "**Наиболее прибыльный жанр shooter**. Он лидер продаж в период с 2014 по 2016 год. Шутеры, как правило, включают в себя интенсивные боевые действия с использованием различного оружия и техники. Игры с многопользовательскими режимами и активными онлайновыми сообществами способствуют высоким продажам в этом жанре.\n",
    "\n",
    "Жанр Sports располагается на втором месте по продажам. Спортивные игры часто выпускаются с обновлениями по мере изменения спортивных сезонов, что поддерживает интерес к ним на протяжении года.\n",
    "\n",
    "Жанры Strategy и Puzzle, adventure имеют наименьшие показатели продаж по сравнению со всеми жанрами.\n",
    "Strategy и adventure: Игры стратегического жанра могут требовать более сложного и долгого вовлечения, что может ограничивать их привлекательность для широкой аудитории.\n",
    "Puzzle: Головоломки часто рассматриваются как игры для более кратковременного использования или отдыха, что может снижать их общие продажи по сравнению с более динамичными и насыщенными жанрами.\n"
   ]
  },
  {
   "cell_type": "markdown",
   "metadata": {},
   "source": [
    "**Вывод**\n",
    "\n",
    "- Рост релизов игр начался с 1994 и достиг пика в 2007–2008 и составил 1400 игр.\n",
    "- После 2008 года наблюдается снижение числа продаж видеоигр. Это явление можно объяснить возрастанием сложности технологий и графики, что привело к увеличению затрат на разработку игр. В результате, меньшие студии, не обладая достаточными финансовыми и техническими ресурсами, сталкивались с трудностями, что снижало их способность выпускать новые игры. Эти факторы в совокупности способствовали общему снижению числа релизов в индустрии видеоигр.\n",
    "**Наиболее прибыльный жанр — shooter**. Он лидер продаж в период с 2014 по 2016 год. Шутеры, как правило, включают в себя интенсивные боевые действия с использованием различного оружия и техники. Игры с многопользовательскими режимами и активными онлайновыми сообществами способствуют высоким продажам в этом жанре.\n",
    "\n",
    "Жанр Sports располагается на втором месте по продажам. Спортивные игры часто выпускаются с обновлениями по мере изменения спортивных сезонов, что поддерживает интерес к ним на протяжении года.\n",
    "\n",
    "Жанры Strategy и Puzzle, adventure имеют наименьшие показатели продаж по сравнению со всеми жанрами.\n",
    "Strategy и adventure: Игры стратегического жанра могут требовать более сложного и долгого вовлечения, что может ограничивать их привлекательность для широкой аудитории.\n",
    "Puzzle: Головоломки часто рассматриваются как игры для более кратковременного использования или отдыха, что может снижать их общие продажи по сравнению с более динамичными и насыщенными жанрами.\n",
    "- С 1994 по 1999 год доминировала только PlayStation. Выпуск PlayStation 2 в 2000 году привел к её популярности до 2006 года, когда PlayStation 3 начала набирать популярность. В 2008 году наибольшие продажи отмечались у Xbox 360, а Wii занимала второе место.\n",
    "\n",
    "- Средний жизненный цикл консоли составляет около 11 лет. Это включает период активного использования, который длится от 4 до 5 лет, а затем период поддержки и постепенного снижения активности, который продолжается еще несколько лет.\n",
    "\n",
    "- Актуальный период 3 года. C 2014 по 2016 год включительно.\n",
    "\n",
    "- Мнение критиков оказывает значительно большее влияние на продажи игр по сравнению с оценками пользователей.\n",
    "- В период с 2014 по 2016 год Shooter наиболее прибыльный жанр из-за динамичного геймплея и многопользовательского режима.\n",
    "- Жанры Strategy и Puzzle, adventure демонстрируют наименьшие показатели продаж по сравнению со всеми жанрами."
   ]
  },
  {
   "cell_type": "markdown",
   "metadata": {},
   "source": [
    "## Портрет пользователя каждого региона"
   ]
  },
  {
   "cell_type": "markdown",
   "metadata": {},
   "source": [
    "### Самые популярные платформы (топ-5)"
   ]
  },
  {
   "cell_type": "code",
   "execution_count": 53,
   "metadata": {},
   "outputs": [
    {
     "name": "stdout",
     "output_type": "stream",
     "text": [
      "Топ-5 платформ в Северной Америке\n"
     ]
    },
    {
     "data": {
      "text/html": [
       "<div>\n",
       "<style scoped>\n",
       "    .dataframe tbody tr th:only-of-type {\n",
       "        vertical-align: middle;\n",
       "    }\n",
       "\n",
       "    .dataframe tbody tr th {\n",
       "        vertical-align: top;\n",
       "    }\n",
       "\n",
       "    .dataframe thead th {\n",
       "        text-align: right;\n",
       "    }\n",
       "</style>\n",
       "<table border=\"1\" class=\"dataframe\">\n",
       "  <thead>\n",
       "    <tr style=\"text-align: right;\">\n",
       "      <th></th>\n",
       "      <th>Платформа</th>\n",
       "      <th>Продажи, млн копий</th>\n",
       "      <th>Доля, %</th>\n",
       "    </tr>\n",
       "  </thead>\n",
       "  <tbody>\n",
       "    <tr>\n",
       "      <th>1</th>\n",
       "      <td>PS4</td>\n",
       "      <td>98.61</td>\n",
       "      <td>34.7</td>\n",
       "    </tr>\n",
       "    <tr>\n",
       "      <th>2</th>\n",
       "      <td>XOne</td>\n",
       "      <td>81.27</td>\n",
       "      <td>28.6</td>\n",
       "    </tr>\n",
       "    <tr>\n",
       "      <th>3</th>\n",
       "      <td>X360</td>\n",
       "      <td>28.30</td>\n",
       "      <td>10.0</td>\n",
       "    </tr>\n",
       "    <tr>\n",
       "      <th>4</th>\n",
       "      <td>3DS</td>\n",
       "      <td>22.64</td>\n",
       "      <td>8.0</td>\n",
       "    </tr>\n",
       "    <tr>\n",
       "      <th>5</th>\n",
       "      <td>PS3</td>\n",
       "      <td>22.05</td>\n",
       "      <td>7.8</td>\n",
       "    </tr>\n",
       "    <tr>\n",
       "      <th>-</th>\n",
       "      <td>Другие</td>\n",
       "      <td>31.19</td>\n",
       "      <td>11.0</td>\n",
       "    </tr>\n",
       "  </tbody>\n",
       "</table>\n",
       "</div>"
      ],
      "text/plain": [
       "  Платформа  Продажи, млн копий  Доля, %\n",
       "1       PS4               98.61     34.7\n",
       "2      XOne               81.27     28.6\n",
       "3      X360               28.30     10.0\n",
       "4       3DS               22.64      8.0\n",
       "5       PS3               22.05      7.8\n",
       "-    Другие               31.19     11.0"
      ]
     },
     "metadata": {},
     "output_type": "display_data"
    },
    {
     "name": "stdout",
     "output_type": "stream",
     "text": [
      "Топ-5 платформ в Европе\n"
     ]
    },
    {
     "data": {
      "text/html": [
       "<div>\n",
       "<style scoped>\n",
       "    .dataframe tbody tr th:only-of-type {\n",
       "        vertical-align: middle;\n",
       "    }\n",
       "\n",
       "    .dataframe tbody tr th {\n",
       "        vertical-align: top;\n",
       "    }\n",
       "\n",
       "    .dataframe thead th {\n",
       "        text-align: right;\n",
       "    }\n",
       "</style>\n",
       "<table border=\"1\" class=\"dataframe\">\n",
       "  <thead>\n",
       "    <tr style=\"text-align: right;\">\n",
       "      <th></th>\n",
       "      <th>Платформа</th>\n",
       "      <th>Продажи, млн копий</th>\n",
       "      <th>Доля, %</th>\n",
       "    </tr>\n",
       "  </thead>\n",
       "  <tbody>\n",
       "    <tr>\n",
       "      <th>1</th>\n",
       "      <td>PS4</td>\n",
       "      <td>130.04</td>\n",
       "      <td>48.0</td>\n",
       "    </tr>\n",
       "    <tr>\n",
       "      <th>2</th>\n",
       "      <td>XOne</td>\n",
       "      <td>46.25</td>\n",
       "      <td>17.1</td>\n",
       "    </tr>\n",
       "    <tr>\n",
       "      <th>3</th>\n",
       "      <td>PS3</td>\n",
       "      <td>25.54</td>\n",
       "      <td>9.4</td>\n",
       "    </tr>\n",
       "    <tr>\n",
       "      <th>4</th>\n",
       "      <td>PC</td>\n",
       "      <td>17.97</td>\n",
       "      <td>6.6</td>\n",
       "    </tr>\n",
       "    <tr>\n",
       "      <th>5</th>\n",
       "      <td>3DS</td>\n",
       "      <td>16.12</td>\n",
       "      <td>6.0</td>\n",
       "    </tr>\n",
       "    <tr>\n",
       "      <th>-</th>\n",
       "      <td>Другие</td>\n",
       "      <td>34.76</td>\n",
       "      <td>12.8</td>\n",
       "    </tr>\n",
       "  </tbody>\n",
       "</table>\n",
       "</div>"
      ],
      "text/plain": [
       "  Платформа  Продажи, млн копий  Доля, %\n",
       "1       PS4              130.04     48.0\n",
       "2      XOne               46.25     17.1\n",
       "3       PS3               25.54      9.4\n",
       "4        PC               17.97      6.6\n",
       "5       3DS               16.12      6.0\n",
       "-    Другие               34.76     12.8"
      ]
     },
     "metadata": {},
     "output_type": "display_data"
    },
    {
     "name": "stdout",
     "output_type": "stream",
     "text": [
      "Топ-5 платформ в Японии\n"
     ]
    },
    {
     "data": {
      "text/html": [
       "<div>\n",
       "<style scoped>\n",
       "    .dataframe tbody tr th:only-of-type {\n",
       "        vertical-align: middle;\n",
       "    }\n",
       "\n",
       "    .dataframe tbody tr th {\n",
       "        vertical-align: top;\n",
       "    }\n",
       "\n",
       "    .dataframe thead th {\n",
       "        text-align: right;\n",
       "    }\n",
       "</style>\n",
       "<table border=\"1\" class=\"dataframe\">\n",
       "  <thead>\n",
       "    <tr style=\"text-align: right;\">\n",
       "      <th></th>\n",
       "      <th>Платформа</th>\n",
       "      <th>Продажи, млн копий</th>\n",
       "      <th>Доля, %</th>\n",
       "    </tr>\n",
       "  </thead>\n",
       "  <tbody>\n",
       "    <tr>\n",
       "      <th>1</th>\n",
       "      <td>3DS</td>\n",
       "      <td>44.24</td>\n",
       "      <td>47.5</td>\n",
       "    </tr>\n",
       "    <tr>\n",
       "      <th>2</th>\n",
       "      <td>PS4</td>\n",
       "      <td>15.02</td>\n",
       "      <td>16.1</td>\n",
       "    </tr>\n",
       "    <tr>\n",
       "      <th>3</th>\n",
       "      <td>PSV</td>\n",
       "      <td>14.54</td>\n",
       "      <td>15.6</td>\n",
       "    </tr>\n",
       "    <tr>\n",
       "      <th>4</th>\n",
       "      <td>PS3</td>\n",
       "      <td>11.22</td>\n",
       "      <td>12.1</td>\n",
       "    </tr>\n",
       "    <tr>\n",
       "      <th>5</th>\n",
       "      <td>WiiU</td>\n",
       "      <td>7.31</td>\n",
       "      <td>7.9</td>\n",
       "    </tr>\n",
       "    <tr>\n",
       "      <th>-</th>\n",
       "      <td>Другие</td>\n",
       "      <td>0.76</td>\n",
       "      <td>0.8</td>\n",
       "    </tr>\n",
       "  </tbody>\n",
       "</table>\n",
       "</div>"
      ],
      "text/plain": [
       "  Платформа  Продажи, млн копий  Доля, %\n",
       "1       3DS               44.24     47.5\n",
       "2       PS4               15.02     16.1\n",
       "3       PSV               14.54     15.6\n",
       "4       PS3               11.22     12.1\n",
       "5      WiiU                7.31      7.9\n",
       "-    Другие                0.76      0.8"
      ]
     },
     "metadata": {},
     "output_type": "display_data"
    },
    {
     "data": {
      "image/png": "[encoded data removed]",
      "text/plain": [
       "<Figure size 1440x432 with 3 Axes>"
      ]
     },
     "metadata": {},
     "output_type": "display_data"
    }
   ],
   "source": [
    "def each_region_platform(data, region_sales_col, region_name):\n",
    "    platform_sales = actually_data.pivot_table(index='platform', values=region_sales_col, \n",
    "                                      aggfunc='sum').sort_values(region_sales_col, ascending=False).reset_index()\n",
    "    top_5_platforms = platform_sales.head(5)\n",
    "    total_sales = platform_sales[region_sales_col].sum()\n",
    "    top_5_sales = top_5_platforms[region_sales_col].sum()\n",
    "    other_sales = total_sales - top_5_sales\n",
    "\n",
    "    other_row = pd.DataFrame({'platform': ['Другие'], region_sales_col: [other_sales]})\n",
    "    combined_platforms = pd.concat([top_5_platforms, other_row])\n",
    "    combined_platforms['share'] = (combined_platforms[region_sales_col] / total_sales * 100).round(1)\n",
    "    combined_platforms.columns = ['Платформа', 'Продажи, млн копий', 'Доля, %']\n",
    "    combined_platforms.index = list(range(1, 6)) + ['-']\n",
    "    print(f'Топ-5 платформ в {region_name}')\n",
    "    display(combined_platforms)\n",
    "    return combined_platforms\n",
    "\n",
    "# Для всех регионов\n",
    "na_data = each_region_platform(actually_data, 'na_sales', 'Северной Америке')\n",
    "eu_data = each_region_platform(actually_data, 'eu_sales', 'Европе')\n",
    "jp_data = each_region_platform(actually_data, 'jp_sales', 'Японии')\n",
    "#Сет из 3 графиков\n",
    "f,axs = plt.subplots(1, 3, figsize=(20, 6))\n",
    "f.suptitle('Обзор рынка платформ. Портрет покупателя', fontsize=20)\n",
    "axs[0].set_title('Популярность платформ в Северной Америке', fontsize=14)\n",
    "axs[1].set_title('Популярность платформ в Европе', fontsize=14)\n",
    "axs[2].set_title('Популярность платформ в Японии', fontsize=14)\n",
    "axs[0].pie(na_data['Продажи, млн копий'], labels=na_data['Платформа'], autopct='%1.0f%%')\n",
    "axs[1].pie(eu_data['Продажи, млн копий'], labels=eu_data['Платформа'], autopct='%1.0f%%')\n",
    "axs[2].pie(jp_data['Продажи, млн копий'], labels=jp_data['Платформа'], autopct='%1.0f%%')\n",
    "plt.show()"
   ]
  },
  {
   "cell_type": "markdown",
   "metadata": {},
   "source": [
    "В 2014-2016 годах PS4 лидировала в Северной Америке и в Европе, а в Японии не пользовалась такой популярностью. Почти половину рынка забрала в Японии 3DS. Вероятно, потому что Nintendo предложила привлекательные игры и эксклюзивные тайтлы в Японии для 3DS, что сделало её популярной среди японских геймеров. Также Nintendo была очень успешна на японском рынке с предыдущими поколениями консолей и продолжала удерживать большую долю рынка благодаря своей репутации и успешным играм.\n",
    "\n",
    "Тогда как в Северной Америке и Европе были созданы крупные сообщества геймеров PS4, заинтересованных в новых консолях, что способствовало популярности PS4."
   ]
  },
  {
   "cell_type": "markdown",
   "metadata": {},
   "source": [
    "### Самые популярные жанры (топ-5)"
   ]
  },
  {
   "cell_type": "code",
   "execution_count": 54,
   "metadata": {},
   "outputs": [
    {
     "name": "stdout",
     "output_type": "stream",
     "text": [
      "Топ-5 жанров в Северной Америке\n"
     ]
    },
    {
     "data": {
      "text/html": [
       "<div>\n",
       "<style scoped>\n",
       "    .dataframe tbody tr th:only-of-type {\n",
       "        vertical-align: middle;\n",
       "    }\n",
       "\n",
       "    .dataframe tbody tr th {\n",
       "        vertical-align: top;\n",
       "    }\n",
       "\n",
       "    .dataframe thead th {\n",
       "        text-align: right;\n",
       "    }\n",
       "</style>\n",
       "<table border=\"1\" class=\"dataframe\">\n",
       "  <thead>\n",
       "    <tr style=\"text-align: right;\">\n",
       "      <th></th>\n",
       "      <th>Жанр</th>\n",
       "      <th>Продажи, млн копий</th>\n",
       "      <th>Доля, %</th>\n",
       "    </tr>\n",
       "  </thead>\n",
       "  <tbody>\n",
       "    <tr>\n",
       "      <th>1</th>\n",
       "      <td>shooter</td>\n",
       "      <td>79.02</td>\n",
       "      <td>27.8</td>\n",
       "    </tr>\n",
       "    <tr>\n",
       "      <th>2</th>\n",
       "      <td>action</td>\n",
       "      <td>72.53</td>\n",
       "      <td>25.5</td>\n",
       "    </tr>\n",
       "    <tr>\n",
       "      <th>3</th>\n",
       "      <td>sports</td>\n",
       "      <td>46.13</td>\n",
       "      <td>16.2</td>\n",
       "    </tr>\n",
       "    <tr>\n",
       "      <th>4</th>\n",
       "      <td>role-playing</td>\n",
       "      <td>33.47</td>\n",
       "      <td>11.8</td>\n",
       "    </tr>\n",
       "    <tr>\n",
       "      <th>5</th>\n",
       "      <td>misc</td>\n",
       "      <td>15.05</td>\n",
       "      <td>5.3</td>\n",
       "    </tr>\n",
       "    <tr>\n",
       "      <th>-</th>\n",
       "      <td>Другие</td>\n",
       "      <td>37.86</td>\n",
       "      <td>13.3</td>\n",
       "    </tr>\n",
       "  </tbody>\n",
       "</table>\n",
       "</div>"
      ],
      "text/plain": [
       "           Жанр  Продажи, млн копий  Доля, %\n",
       "1       shooter               79.02     27.8\n",
       "2        action               72.53     25.5\n",
       "3        sports               46.13     16.2\n",
       "4  role-playing               33.47     11.8\n",
       "5          misc               15.05      5.3\n",
       "-        Другие               37.86     13.3"
      ]
     },
     "metadata": {},
     "output_type": "display_data"
    },
    {
     "name": "stdout",
     "output_type": "stream",
     "text": [
      "Топ-5 жанров в Европе\n"
     ]
    },
    {
     "data": {
      "text/html": [
       "<div>\n",
       "<style scoped>\n",
       "    .dataframe tbody tr th:only-of-type {\n",
       "        vertical-align: middle;\n",
       "    }\n",
       "\n",
       "    .dataframe tbody tr th {\n",
       "        vertical-align: top;\n",
       "    }\n",
       "\n",
       "    .dataframe thead th {\n",
       "        text-align: right;\n",
       "    }\n",
       "</style>\n",
       "<table border=\"1\" class=\"dataframe\">\n",
       "  <thead>\n",
       "    <tr style=\"text-align: right;\">\n",
       "      <th></th>\n",
       "      <th>Жанр</th>\n",
       "      <th>Продажи, млн копий</th>\n",
       "      <th>Доля, %</th>\n",
       "    </tr>\n",
       "  </thead>\n",
       "  <tbody>\n",
       "    <tr>\n",
       "      <th>1</th>\n",
       "      <td>action</td>\n",
       "      <td>74.68</td>\n",
       "      <td>27.6</td>\n",
       "    </tr>\n",
       "    <tr>\n",
       "      <th>2</th>\n",
       "      <td>shooter</td>\n",
       "      <td>65.52</td>\n",
       "      <td>24.2</td>\n",
       "    </tr>\n",
       "    <tr>\n",
       "      <th>3</th>\n",
       "      <td>sports</td>\n",
       "      <td>45.73</td>\n",
       "      <td>16.9</td>\n",
       "    </tr>\n",
       "    <tr>\n",
       "      <th>4</th>\n",
       "      <td>role-playing</td>\n",
       "      <td>28.17</td>\n",
       "      <td>10.4</td>\n",
       "    </tr>\n",
       "    <tr>\n",
       "      <th>5</th>\n",
       "      <td>racing</td>\n",
       "      <td>14.13</td>\n",
       "      <td>5.2</td>\n",
       "    </tr>\n",
       "    <tr>\n",
       "      <th>-</th>\n",
       "      <td>Другие</td>\n",
       "      <td>42.45</td>\n",
       "      <td>15.7</td>\n",
       "    </tr>\n",
       "  </tbody>\n",
       "</table>\n",
       "</div>"
      ],
      "text/plain": [
       "           Жанр  Продажи, млн копий  Доля, %\n",
       "1        action               74.68     27.6\n",
       "2       shooter               65.52     24.2\n",
       "3        sports               45.73     16.9\n",
       "4  role-playing               28.17     10.4\n",
       "5        racing               14.13      5.2\n",
       "-        Другие               42.45     15.7"
      ]
     },
     "metadata": {},
     "output_type": "display_data"
    },
    {
     "name": "stdout",
     "output_type": "stream",
     "text": [
      "Топ-5 жанров в Японии\n"
     ]
    },
    {
     "data": {
      "text/html": [
       "<div>\n",
       "<style scoped>\n",
       "    .dataframe tbody tr th:only-of-type {\n",
       "        vertical-align: middle;\n",
       "    }\n",
       "\n",
       "    .dataframe tbody tr th {\n",
       "        vertical-align: top;\n",
       "    }\n",
       "\n",
       "    .dataframe thead th {\n",
       "        text-align: right;\n",
       "    }\n",
       "</style>\n",
       "<table border=\"1\" class=\"dataframe\">\n",
       "  <thead>\n",
       "    <tr style=\"text-align: right;\">\n",
       "      <th></th>\n",
       "      <th>Жанр</th>\n",
       "      <th>Продажи, млн копий</th>\n",
       "      <th>Доля, %</th>\n",
       "    </tr>\n",
       "  </thead>\n",
       "  <tbody>\n",
       "    <tr>\n",
       "      <th>1</th>\n",
       "      <td>role-playing</td>\n",
       "      <td>31.16</td>\n",
       "      <td>33.5</td>\n",
       "    </tr>\n",
       "    <tr>\n",
       "      <th>2</th>\n",
       "      <td>action</td>\n",
       "      <td>29.58</td>\n",
       "      <td>31.8</td>\n",
       "    </tr>\n",
       "    <tr>\n",
       "      <th>3</th>\n",
       "      <td>fighting</td>\n",
       "      <td>6.37</td>\n",
       "      <td>6.8</td>\n",
       "    </tr>\n",
       "    <tr>\n",
       "      <th>4</th>\n",
       "      <td>misc</td>\n",
       "      <td>5.61</td>\n",
       "      <td>6.0</td>\n",
       "    </tr>\n",
       "    <tr>\n",
       "      <th>5</th>\n",
       "      <td>shooter</td>\n",
       "      <td>4.87</td>\n",
       "      <td>5.2</td>\n",
       "    </tr>\n",
       "    <tr>\n",
       "      <th>-</th>\n",
       "      <td>Другие</td>\n",
       "      <td>15.50</td>\n",
       "      <td>16.7</td>\n",
       "    </tr>\n",
       "  </tbody>\n",
       "</table>\n",
       "</div>"
      ],
      "text/plain": [
       "           Жанр  Продажи, млн копий  Доля, %\n",
       "1  role-playing               31.16     33.5\n",
       "2        action               29.58     31.8\n",
       "3      fighting                6.37      6.8\n",
       "4          misc                5.61      6.0\n",
       "5       shooter                4.87      5.2\n",
       "-        Другие               15.50     16.7"
      ]
     },
     "metadata": {},
     "output_type": "display_data"
    },
    {
     "data": {
      "image/png": "[encoded data removed]",
      "text/plain": [
       "<Figure size 1440x432 with 3 Axes>"
      ]
     },
     "metadata": {},
     "output_type": "display_data"
    }
   ],
   "source": [
    "def each_region_genre(data, region_sales_col, region_name):\n",
    "    genre_sales = actually_data.pivot_table(index='genre', values=region_sales_col, \n",
    "                                      aggfunc='sum').sort_values(region_sales_col, ascending=False).reset_index()\n",
    "    top_5_genre = genre_sales.head(5)\n",
    "    total_sales = genre_sales[region_sales_col].sum()\n",
    "    top_5_sales = top_5_genre[region_sales_col].sum()\n",
    "    other_sales = total_sales - top_5_sales\n",
    "\n",
    "    other_row = pd.DataFrame({'genre': ['Другие'], region_sales_col: [other_sales]})\n",
    "    combined_genre = pd.concat([top_5_genre, other_row])\n",
    "    combined_genre['share'] = (combined_genre[region_sales_col] / total_sales * 100).round(1)\n",
    "    combined_genre.columns = ['Жанр', 'Продажи, млн копий', 'Доля, %']\n",
    "    combined_genre.index = list(range(1, 6)) + ['-']\n",
    "    print(f'Топ-5 жанров в {region_name}')\n",
    "    display(combined_genre)\n",
    "    return combined_genre\n",
    "\n",
    "# Для всех регионов\n",
    "na_data = each_region_genre(actually_data, 'na_sales', 'Северной Америке')\n",
    "eu_data = each_region_genre(actually_data, 'eu_sales', 'Европе')\n",
    "jp_data = each_region_genre(actually_data, 'jp_sales', 'Японии')\n",
    "#Сет из 3 графиков\n",
    "f,axs = plt.subplots(1, 3, figsize=(20, 6))\n",
    "f.suptitle('Обзор рынка жанров. Портрет покупателя', fontsize=20)\n",
    "axs[0].set_title('Популярность жанров в Северной Америке', fontsize=14)\n",
    "axs[1].set_title('Популярность жанров в Европе', fontsize=14)\n",
    "axs[2].set_title('Популярность жанров в Японии', fontsize=14)\n",
    "axs[0].pie(na_data['Продажи, млн копий'], labels=na_data['Жанр'], autopct='%1.0f%%')\n",
    "axs[1].pie(eu_data['Продажи, млн копий'], labels=eu_data['Жанр'], autopct='%1.0f%%')\n",
    "axs[2].pie(jp_data['Продажи, млн копий'], labels=jp_data['Жанр'], autopct='%1.0f%%')\n",
    "plt.show()"
   ]
  },
  {
   "cell_type": "markdown",
   "metadata": {},
   "source": [
    "Shooter и action лидируют в Северной Америке и в Европе. Тогда как в Японии лидер совсем другой — role-playing. Это может быть связано с популярностью в Японии аниме и манги, которые часто исследуют темы, аналогичные тем, что встречаются в RPG. Японские RPG часто славятся высоким качеством графики, музыкального сопровождения и сценарного наполнения. \n",
    "\n",
    "В Северной Америке и Европе аудитория для видеоигр часто ценит экшен и шутеры за их развлекательность и высокую реиграбельность.\n",
    "Игры-шутеры, такие как Call of Duty, Battlefield и Halo, были чрезвычайно популярны в Северной Америке и Европе, предлагая многопользовательский режим и постоянные обновления, что поддерживало интерес игроков."
   ]
  },
  {
   "cell_type": "markdown",
   "metadata": {},
   "source": [
    "### Влияет ли рейтинг ESRB на продажи в отдельном регионе?"
   ]
  },
  {
   "cell_type": "markdown",
   "metadata": {},
   "source": [
    "E (Everyone) - Для всех.  \n",
    "E10+ (Everyone 10 and Older) - Для всех старше 10 лет.  \n",
    "T (Teen) - Для подростков.  \n",
    "M (Mature) - Для взрослых.  \n",
    "AO (Adults Only) - Только для взрослых.  \n",
    "RP (Rating Pending) - Рейтинг пока не определен.  \n",
    "K-A' - \"Kids to Adults для всех возрастов.  \n",
    "EC' - \"Early Childhood\" для маленьких детей  "
   ]
  },
  {
   "cell_type": "code",
   "execution_count": 55,
   "metadata": {},
   "outputs": [
    {
     "name": "stdout",
     "output_type": "stream",
     "text": [
      "Топ-5 жанров в Северной Америке\n"
     ]
    },
    {
     "data": {
      "text/html": [
       "<div>\n",
       "<style scoped>\n",
       "    .dataframe tbody tr th:only-of-type {\n",
       "        vertical-align: middle;\n",
       "    }\n",
       "\n",
       "    .dataframe tbody tr th {\n",
       "        vertical-align: top;\n",
       "    }\n",
       "\n",
       "    .dataframe thead th {\n",
       "        text-align: right;\n",
       "    }\n",
       "</style>\n",
       "<table border=\"1\" class=\"dataframe\">\n",
       "  <thead>\n",
       "    <tr style=\"text-align: right;\">\n",
       "      <th></th>\n",
       "      <th>Рейтинг</th>\n",
       "      <th>Продажи, млн копий</th>\n",
       "      <th>Доля, %</th>\n",
       "    </tr>\n",
       "  </thead>\n",
       "  <tbody>\n",
       "    <tr>\n",
       "      <th>1</th>\n",
       "      <td>M</td>\n",
       "      <td>96.42</td>\n",
       "      <td>44.0</td>\n",
       "    </tr>\n",
       "    <tr>\n",
       "      <th>2</th>\n",
       "      <td>E</td>\n",
       "      <td>50.74</td>\n",
       "      <td>23.1</td>\n",
       "    </tr>\n",
       "    <tr>\n",
       "      <th>3</th>\n",
       "      <td>T</td>\n",
       "      <td>38.95</td>\n",
       "      <td>17.8</td>\n",
       "    </tr>\n",
       "    <tr>\n",
       "      <th>4</th>\n",
       "      <td>E10+</td>\n",
       "      <td>33.23</td>\n",
       "      <td>15.1</td>\n",
       "    </tr>\n",
       "  </tbody>\n",
       "</table>\n",
       "</div>"
      ],
      "text/plain": [
       "  Рейтинг  Продажи, млн копий  Доля, %\n",
       "1       M               96.42     44.0\n",
       "2       E               50.74     23.1\n",
       "3       T               38.95     17.8\n",
       "4    E10+               33.23     15.1"
      ]
     },
     "metadata": {},
     "output_type": "display_data"
    },
    {
     "name": "stdout",
     "output_type": "stream",
     "text": [
      "Топ-5 жанров в Европе\n"
     ]
    },
    {
     "data": {
      "text/html": [
       "<div>\n",
       "<style scoped>\n",
       "    .dataframe tbody tr th:only-of-type {\n",
       "        vertical-align: middle;\n",
       "    }\n",
       "\n",
       "    .dataframe tbody tr th {\n",
       "        vertical-align: top;\n",
       "    }\n",
       "\n",
       "    .dataframe thead th {\n",
       "        text-align: right;\n",
       "    }\n",
       "</style>\n",
       "<table border=\"1\" class=\"dataframe\">\n",
       "  <thead>\n",
       "    <tr style=\"text-align: right;\">\n",
       "      <th></th>\n",
       "      <th>Рейтинг</th>\n",
       "      <th>Продажи, млн копий</th>\n",
       "      <th>Доля, %</th>\n",
       "    </tr>\n",
       "  </thead>\n",
       "  <tbody>\n",
       "    <tr>\n",
       "      <th>1</th>\n",
       "      <td>M</td>\n",
       "      <td>93.44</td>\n",
       "      <td>44.1</td>\n",
       "    </tr>\n",
       "    <tr>\n",
       "      <th>2</th>\n",
       "      <td>E</td>\n",
       "      <td>58.06</td>\n",
       "      <td>27.4</td>\n",
       "    </tr>\n",
       "    <tr>\n",
       "      <th>3</th>\n",
       "      <td>T</td>\n",
       "      <td>34.07</td>\n",
       "      <td>16.1</td>\n",
       "    </tr>\n",
       "    <tr>\n",
       "      <th>4</th>\n",
       "      <td>E10+</td>\n",
       "      <td>26.16</td>\n",
       "      <td>12.4</td>\n",
       "    </tr>\n",
       "  </tbody>\n",
       "</table>\n",
       "</div>"
      ],
      "text/plain": [
       "  Рейтинг  Продажи, млн копий  Доля, %\n",
       "1       M               93.44     44.1\n",
       "2       E               58.06     27.4\n",
       "3       T               34.07     16.1\n",
       "4    E10+               26.16     12.4"
      ]
     },
     "metadata": {},
     "output_type": "display_data"
    },
    {
     "name": "stdout",
     "output_type": "stream",
     "text": [
      "Топ-5 жанров в Японии\n"
     ]
    },
    {
     "data": {
      "text/html": [
       "<div>\n",
       "<style scoped>\n",
       "    .dataframe tbody tr th:only-of-type {\n",
       "        vertical-align: middle;\n",
       "    }\n",
       "\n",
       "    .dataframe tbody tr th {\n",
       "        vertical-align: top;\n",
       "    }\n",
       "\n",
       "    .dataframe thead th {\n",
       "        text-align: right;\n",
       "    }\n",
       "</style>\n",
       "<table border=\"1\" class=\"dataframe\">\n",
       "  <thead>\n",
       "    <tr style=\"text-align: right;\">\n",
       "      <th></th>\n",
       "      <th>Рейтинг</th>\n",
       "      <th>Продажи, млн копий</th>\n",
       "      <th>Доля, %</th>\n",
       "    </tr>\n",
       "  </thead>\n",
       "  <tbody>\n",
       "    <tr>\n",
       "      <th>1</th>\n",
       "      <td>T</td>\n",
       "      <td>14.78</td>\n",
       "      <td>40.8</td>\n",
       "    </tr>\n",
       "    <tr>\n",
       "      <th>2</th>\n",
       "      <td>E</td>\n",
       "      <td>8.94</td>\n",
       "      <td>24.7</td>\n",
       "    </tr>\n",
       "    <tr>\n",
       "      <th>3</th>\n",
       "      <td>M</td>\n",
       "      <td>8.01</td>\n",
       "      <td>22.1</td>\n",
       "    </tr>\n",
       "    <tr>\n",
       "      <th>4</th>\n",
       "      <td>E10+</td>\n",
       "      <td>4.46</td>\n",
       "      <td>12.3</td>\n",
       "    </tr>\n",
       "  </tbody>\n",
       "</table>\n",
       "</div>"
      ],
      "text/plain": [
       "  Рейтинг  Продажи, млн копий  Доля, %\n",
       "1       T               14.78     40.8\n",
       "2       E                8.94     24.7\n",
       "3       M                8.01     22.1\n",
       "4    E10+                4.46     12.3"
      ]
     },
     "metadata": {},
     "output_type": "display_data"
    },
    {
     "data": {
      "image/png": "[encoded data removed]",
      "text/plain": [
       "<Figure size 1440x432 with 3 Axes>"
      ]
     },
     "metadata": {},
     "output_type": "display_data"
    }
   ],
   "source": [
    "def each_region_rating(data, region_sales_col, region_name):\n",
    "    rating_sales = data.pivot_table(index='rating', values=region_sales_col, aggfunc='sum').sort_values(region_sales_col, ascending=False).reset_index()\n",
    "    rating_sales = rating_sales.query('rating != \"unknown\"')\n",
    "    top_5_rating = rating_sales.head(5)\n",
    "    total_sales_rating = rating_sales[region_sales_col].sum()\n",
    "    top_5_sales_rating = top_5_rating[region_sales_col].sum()\n",
    "    combined_rating = pd.concat([top_5_rating])\n",
    "    combined_rating['share'] = (combined_rating[region_sales_col] / total_sales_rating * 100).round(1)\n",
    "    combined_rating.columns = ['Рейтинг', 'Продажи, млн копий', 'Доля, %']\n",
    "    combined_rating.index = list(range(1, 5))\n",
    "    print(f'Топ-5 жанров в {region_name}')\n",
    "    display(combined_rating)\n",
    "    return combined_rating\n",
    "\n",
    "# Для всех регионов\n",
    "na_data = each_region_rating(actually_data, 'na_sales', 'Северной Америке')\n",
    "eu_data = each_region_rating(actually_data, 'eu_sales', 'Европе')\n",
    "jp_data = each_region_rating(actually_data, 'jp_sales', 'Японии')\n",
    "\n",
    "#Сет из 3 графиков\n",
    "f,axs = plt.subplots(1, 3, figsize=(20, 6))\n",
    "f.suptitle('Распределение рейтинга и продаж в регионе. Портрет покупателя', fontsize=20)\n",
    "axs[0].set_title('Рейтинг в Северной Америке', fontsize=14)\n",
    "axs[1].set_title('Рейтинг в Европе', fontsize=14)\n",
    "axs[2].set_title('Рейтинг в Японии', fontsize=14)\n",
    "axs[0].pie(na_data['Продажи, млн копий'], labels=na_data['Рейтинг'], autopct='%1.0f%%')\n",
    "axs[1].pie(eu_data['Продажи, млн копий'], labels=eu_data['Рейтинг'], autopct='%1.0f%%')\n",
    "axs[2].pie(jp_data['Продажи, млн копий'], labels=jp_data['Рейтинг'], autopct='%1.0f%%')\n",
    "plt.show()"
   ]
  },
  {
   "cell_type": "markdown",
   "metadata": {},
   "source": [
    "В исследуемом периоде в Северной Америке и в Европе преобладают игры категории для взрослых. Это потому что популярные шутеры и экшен-игры часто имеют рейтинг для взрослых из-за насилия и других зрелых тем.  \n",
    "А в Японии преобладают игры для подростков (41%). Японские игры часто черпают вдохновение из аниме, которые традиционно ориентированы на более молодую аудиторию.  \n",
    "\n",
    "На втором месте во всех регионах игры для всех возрастов. Ведь игры, в которые можно играть всей семьей или в группе друзей, часто получают широкую популярность благодаря своей универсальности."
   ]
  },
  {
   "cell_type": "markdown",
   "metadata": {},
   "source": [
    "**Вывод**"
   ]
  },
  {
   "cell_type": "markdown",
   "metadata": {},
   "source": [
    "Создали портрет пользователя каждого региона. Надо сразу заметить, что портреты в Северной Америке с Европой очень схожи. Японский пользователь отличается по многим параметрам. \n",
    "\n",
    "Американский пользователь чаще использует PS4, чуть реже XOne. Предпочитает играть в shooter, а меньше всего играет в головоломки и стратегии. Предпочтения по взрослым типам игр.\n",
    "\n",
    "Половина всех европейских пользователей использует PS4. Любит играть в action, чуть меньше в shooter. На 5 месте жанр игр — гонки. Также предпочитают игры с пометкой «для взрослых».\n",
    "\n",
    "Японский пользователь совсем другой. Половина геймеров всей Японии играет в Nintendo 3DS. Основной контингент — это подростки, которые любят играть в role-playing либо в action."
   ]
  },
  {
   "cell_type": "markdown",
   "metadata": {},
   "source": [
    "## Проверка гипотез"
   ]
  },
  {
   "cell_type": "markdown",
   "metadata": {},
   "source": [
    "Нулевая гипотеза - это гипотеза, которую мы хотим проверить и оспорить. Обычно это гипотеза о том, что нет разницы  \n",
    "Альтернативная гипотеза - противоположная нулевой гипотезе. Она предполагает наличие разницы."
   ]
  },
  {
   "cell_type": "markdown",
   "metadata": {},
   "source": [
    "Берем P-value = 0,05  так как это удобный и практичный порог для уровня значимости."
   ]
  },
  {
   "cell_type": "markdown",
   "metadata": {},
   "source": [
    "### Средние пользовательские рейтинги платформ Xbox One и PC одинаковые"
   ]
  },
  {
   "cell_type": "markdown",
   "metadata": {},
   "source": [
    "Нулевая гипотеза: средние пользовательские рейтинги платформ Xbox One и PC одинаковые.   \n",
    "Альтернативная гипотеза: средние пользовательские рейтинги PC отличаются от средних пользовательских рейтингов Xbox One."
   ]
  },
  {
   "cell_type": "code",
   "execution_count": 56,
   "metadata": {},
   "outputs": [],
   "source": [
    "alpha = 0.05 \n",
    "data_test = actually_data.query('user_score != -1')"
   ]
  },
  {
   "cell_type": "code",
   "execution_count": 57,
   "metadata": {},
   "outputs": [
    {
     "name": "stdout",
     "output_type": "stream",
     "text": [
      "Дисперсия PC 2.901154315133451\n",
      "Дисперсия PC 1.8910066518847013\n"
     ]
    }
   ],
   "source": [
    "group_XOne = data_test[data_test['platform'] == 'XOne']['user_score']\n",
    "group_PC = data_test[data_test['platform'] == 'PC']['user_score'] \n",
    "\n",
    "var_XOne = group_XOne.var() #вычисляем дисперсию\n",
    "var_PC = group_PC.var()\n",
    "print ('Дисперсия PC', var_PC)\n",
    "print ('Дисперсия PC', var_XOne) "
   ]
  },
  {
   "cell_type": "code",
   "execution_count": 58,
   "metadata": {},
   "outputs": [
    {
     "name": "stdout",
     "output_type": "stream",
     "text": [
      "p-value: 0.11601398086668832\n",
      "Не отвергаем нулевую гипотезу\n"
     ]
    }
   ],
   "source": [
    "results = st.ttest_ind(group_XOne, group_PC, equal_var=False) \n",
    "print('p-value:', results.pvalue)\n",
    "\n",
    "if (results.pvalue < alpha):\n",
    "   print('Отвергаем нулевую гипотезу')\n",
    "else:\n",
    "    print('Не отвергаем нулевую гипотезу') "
   ]
  },
  {
   "cell_type": "markdown",
   "metadata": {},
   "source": [
    "Для оценки использовался метод ttest_ind(), который рассчитывает вероятность различий между средними значениями двух выборок. Поскольку дисперсии выборок не равны, был установлен параметр equal_var=False.\n",
    "\n",
    "В результате анализа не удалось отвергнуть нулевую гипотезу о равенстве средних пользовательских рейтингов платформ Xbox One и PC. Полученное значение p-value оказалось выше критического уровня статистической значимости."
   ]
  },
  {
   "cell_type": "markdown",
   "metadata": {},
   "source": [
    "### Средние пользовательские рейтинги жанров Action и Sports разные."
   ]
  },
  {
   "cell_type": "markdown",
   "metadata": {},
   "source": [
    "Нулевая гипотеза: средние пользовательские рейтинги жанров Action и Sports одинаковые.  \n",
    "Альтернативная гипотеза: средние пользовательские рейтинги жанров Action и Sports отличаются между собой"
   ]
  },
  {
   "cell_type": "code",
   "execution_count": 60,
   "metadata": {},
   "outputs": [
    {
     "name": "stdout",
     "output_type": "stream",
     "text": [
      "Дисперсия PC 1.8984766584766581\n",
      "Дисперсия PC 3.446979127609048\n"
     ]
    }
   ],
   "source": [
    "group_action = data_test[data_test['genre'] == 'action']['user_score']\n",
    "group_sports = data_test[data_test['genre'] == 'sports']['user_score'] \n",
    "var_action = group_action.var() #вычисляем дисперсию\n",
    "var_sports = group_sports.var()\n",
    "print ('Дисперсия PC', var_action)\n",
    "print ('Дисперсия PC', var_sports)"
   ]
  },
  {
   "cell_type": "code",
   "execution_count": 61,
   "metadata": {},
   "outputs": [
    {
     "name": "stdout",
     "output_type": "stream",
     "text": [
      "p-значение: 1.1825550382644557e-14\n",
      "Отвергаем нулевую гипотезу\n"
     ]
    }
   ],
   "source": [
    "results = st.ttest_ind(group_action, group_sports, equal_var=False) \n",
    "\n",
    "print('p-значение:', results.pvalue)\n",
    "\n",
    "if (results.pvalue < alpha):\n",
    "   print('Отвергаем нулевую гипотезу')\n",
    "else:\n",
    "    print('Не отвергаем нулевую гипотезу') "
   ]
  },
  {
   "cell_type": "markdown",
   "metadata": {},
   "source": [
    "В результате анализа удалось отвергнуть нулевую гипотезу о равенстве средних пользовательских рейтингов жанров Action и Sports. Полученное значение p-value оказалось ниже критического уровня статистической значимости."
   ]
  },
  {
   "cell_type": "markdown",
   "metadata": {},
   "source": [
    "**Вывод**"
   ]
  },
  {
   "cell_type": "markdown",
   "metadata": {},
   "source": [
    "Проверили 2 гипотезы.  \n",
    "1. Нет оснований отвергнуть нулевую гипотезу о равенстве средних пользовательских рейтингов платформ Xbox One и PC.\n",
    "2. Удалось отвергнуть нулевую гипотезу о равенстве средних пользовательских рейтингов жанров Action и Sports. А это значит что утверждение \"Средние пользовательские рейтинги жанров Action и Sports разные\" подтверждается полученными результатами."
   ]
  },
  {
   "cell_type": "markdown",
   "metadata": {},
   "source": [
    "## Общий вывод "
   ]
  },
  {
   "cell_type": "markdown",
   "metadata": {},
   "source": [
    "Мной был выполнен сборный проект на тему «Анализ факторов, определяющих успешность компьютерных игр».\n",
    "В предоставленных данных было найдено большое количество пропусков, а именно в столбцах — оценка критиков, оценка пользователей и в рейтинге от организации ESRB. Возможные причины: отсутствие системы сбора отзывов или рейтингов, малобюджетные фирмы.\n",
    "\n",
    "Данные были с 1980 по 2016 год (за 2016 были неполные данные). С 80-х до середины 90-х были только Sega, Casio, Nintendo. Исследуя только топовые модели, было выяснено, что с 1995 по 1999 продавалась только PlayStation. Дальше пошел рост разнообразия платформ, но различные версии PlayStation всегда были в ТОПе.\n",
    "\n",
    "Жизненный цикл консоли включает фазы активного использования, поддержки и постепенного угасания, которые в совокупности составляют около 11 лет. \n",
    "\n",
    "В 2008 году было выпущено наибольшее количество релизов игр. Растущий интерес широкой аудитории способствовал увеличению числа игр, выходящих на различных платформах. В тот период также достигли значительного прогресса инструменты для разработки игр.\n",
    "\n",
    "Для исследования определили актуальный период 3 года. C 2014 по 2016 год включительно.\n",
    "Определили:\n",
    "- PS4 завоевала наибольшую популярность благодаря своим эксклюзивным играм, а также более доступной цене.\n",
    "- Среднеположительная связь между продажами и отзывами критиков. Мнение критиков оказывает большее влияние на продажи игр, чем мнение пользователей.\n",
    "- Наиболее прибыльный жанр — shooter. Шутеры привлекают широкую аудиторию благодаря захватывающему игровому процессу и часто высококачественной графике. Как одиночные, так и многопользовательские шутеры имеют огромные базы игроков. Они часто обновляются новыми картами, режимами и контентом, что поддерживает интерес игроков и стимулирует дополнительные покупки.\n",
    "- Жанры Strategy и Puzzle, adventure демонстрируют наименьшие показатели продаж по сравнению со всеми жанрами. Потому что требуют значительного времени и умственных усилий для освоения, что ограничивает их привлекательность для более широкой аудитории.\n",
    "- Пользователи в США:\n",
    "- - Больше любят PS4, XOne — чуть менее.\n",
    "- - Предпочитают игры для взрослых.\n",
    "- - Больше всего играют в шутеры и экшен.\n",
    "\n",
    "- Пользователи в Европе:\n",
    "- - Половина всех пользователей использует PS4.\n",
    "- - Предпочитают игры для взрослых.\n",
    "- - Больше всего играют в экшен, на втором месте — шутер.\n",
    "\n",
    "- Пользователи в Японии:\n",
    "- - Половина всех пользователей использует Nintendo 3DS.\n",
    "- - Предпочитают игры с пометкой для подростков.\n",
    "- - Любят играть в ролевые игры либо в экшен.\n",
    "\n",
    "Итого, американцы и европейцы отдают предпочтение играм с рейтингом «для взрослых», что говорит о предпочтении тематики для взрослых и зрелого контента.\n",
    "Хотя PS4 популярна во всем мире, Nintendo 3DS занимает сильное положение в Японии, что говорит об особом предпочтении портативных игр в этом регионе. \n",
    "Шутеры и экшен-игры популярны в разных регионах, но ролевые игры пользуются сильной поддержкой в Японии.\n",
    "\n",
    "В самом конце исследования проверили гипотезы.\n",
    "- Нет достаточных оснований утверждать, что средние рейтинги пользователей для игр на Xbox One и PC отличаются друг от друга. Другими словами, данные не показывают значимой разницы в оценках между этими платформами.\n",
    "\n",
    "- Со второй гипотезой  пришла к выводу, что получить схожие средние рейтинги пользователей для игр в жанрах Action и Sports рамках гипотезы вряд ли возможно и у нас появилось основание отбросить эту гипотезу."
   ]
  }
 ],
 "metadata": {
  "ExecuteTimeLog": [
   {
    "duration": 1512,
    "start_time": "2024-09-05T17:19:17.756Z"
   },
   {
    "duration": 161,
    "start_time": "2024-09-05T17:19:19.271Z"
   },
   {
    "duration": 0,
    "start_time": "2024-09-05T17:19:19.437Z"
   },
   {
    "duration": 0,
    "start_time": "2024-09-05T17:19:19.440Z"
   },
   {
    "duration": 0,
    "start_time": "2024-09-05T17:19:19.441Z"
   },
   {
    "duration": 0,
    "start_time": "2024-09-05T17:19:19.443Z"
   },
   {
    "duration": 0,
    "start_time": "2024-09-05T17:19:19.444Z"
   },
   {
    "duration": 1,
    "start_time": "2024-09-05T17:19:19.446Z"
   },
   {
    "duration": 0,
    "start_time": "2024-09-05T17:19:19.448Z"
   },
   {
    "duration": 0,
    "start_time": "2024-09-05T17:19:19.450Z"
   },
   {
    "duration": 0,
    "start_time": "2024-09-05T17:19:19.452Z"
   },
   {
    "duration": 0,
    "start_time": "2024-09-05T17:19:19.454Z"
   },
   {
    "duration": 0,
    "start_time": "2024-09-05T17:19:19.456Z"
   },
   {
    "duration": 0,
    "start_time": "2024-09-05T17:19:19.457Z"
   },
   {
    "duration": 0,
    "start_time": "2024-09-05T17:19:19.458Z"
   },
   {
    "duration": 0,
    "start_time": "2024-09-05T17:19:19.459Z"
   },
   {
    "duration": 0,
    "start_time": "2024-09-05T17:19:19.460Z"
   },
   {
    "duration": 0,
    "start_time": "2024-09-05T17:19:19.461Z"
   },
   {
    "duration": 0,
    "start_time": "2024-09-05T17:19:19.462Z"
   },
   {
    "duration": 0,
    "start_time": "2024-09-05T17:19:19.463Z"
   },
   {
    "duration": 0,
    "start_time": "2024-09-05T17:19:19.464Z"
   },
   {
    "duration": 0,
    "start_time": "2024-09-05T17:19:19.465Z"
   },
   {
    "duration": 0,
    "start_time": "2024-09-05T17:19:19.466Z"
   },
   {
    "duration": 0,
    "start_time": "2024-09-05T17:19:19.467Z"
   },
   {
    "duration": 0,
    "start_time": "2024-09-05T17:19:19.468Z"
   },
   {
    "duration": 0,
    "start_time": "2024-09-05T17:19:19.469Z"
   },
   {
    "duration": 0,
    "start_time": "2024-09-05T17:19:19.470Z"
   },
   {
    "duration": 0,
    "start_time": "2024-09-05T17:19:19.472Z"
   },
   {
    "duration": 0,
    "start_time": "2024-09-05T17:19:19.473Z"
   },
   {
    "duration": 0,
    "start_time": "2024-09-05T17:19:19.475Z"
   },
   {
    "duration": 0,
    "start_time": "2024-09-05T17:19:19.477Z"
   },
   {
    "duration": 0,
    "start_time": "2024-09-05T17:19:19.478Z"
   },
   {
    "duration": 0,
    "start_time": "2024-09-05T17:19:19.479Z"
   },
   {
    "duration": 0,
    "start_time": "2024-09-05T17:19:19.525Z"
   },
   {
    "duration": 0,
    "start_time": "2024-09-05T17:19:19.525Z"
   },
   {
    "duration": 0,
    "start_time": "2024-09-05T17:19:19.526Z"
   },
   {
    "duration": 0,
    "start_time": "2024-09-05T17:19:19.527Z"
   },
   {
    "duration": 0,
    "start_time": "2024-09-05T17:19:19.528Z"
   },
   {
    "duration": 1,
    "start_time": "2024-09-05T17:19:19.528Z"
   },
   {
    "duration": 0,
    "start_time": "2024-09-05T17:19:19.533Z"
   },
   {
    "duration": 0,
    "start_time": "2024-09-05T17:19:19.534Z"
   },
   {
    "duration": 0,
    "start_time": "2024-09-05T17:19:19.535Z"
   },
   {
    "duration": 0,
    "start_time": "2024-09-05T17:19:19.536Z"
   },
   {
    "duration": 0,
    "start_time": "2024-09-05T17:19:19.537Z"
   },
   {
    "duration": 0,
    "start_time": "2024-09-05T17:19:19.539Z"
   },
   {
    "duration": 0,
    "start_time": "2024-09-05T17:19:19.540Z"
   },
   {
    "duration": 0,
    "start_time": "2024-09-05T17:19:19.541Z"
   },
   {
    "duration": 0,
    "start_time": "2024-09-05T17:19:19.541Z"
   },
   {
    "duration": 1,
    "start_time": "2024-09-05T17:19:19.542Z"
   },
   {
    "duration": 0,
    "start_time": "2024-09-05T17:19:19.543Z"
   },
   {
    "duration": 0,
    "start_time": "2024-09-05T17:19:19.544Z"
   },
   {
    "duration": 0,
    "start_time": "2024-09-05T17:19:19.545Z"
   },
   {
    "duration": 1306,
    "start_time": "2024-09-05T17:19:56.260Z"
   },
   {
    "duration": 180,
    "start_time": "2024-09-05T17:19:57.568Z"
   },
   {
    "duration": 75,
    "start_time": "2024-09-05T17:19:57.752Z"
   },
   {
    "duration": 20,
    "start_time": "2024-09-05T17:19:57.829Z"
   },
   {
    "duration": 56,
    "start_time": "2024-09-05T17:19:57.853Z"
   },
   {
    "duration": 45,
    "start_time": "2024-09-05T17:19:57.911Z"
   },
   {
    "duration": 752,
    "start_time": "2024-09-05T17:19:57.958Z"
   },
   {
    "duration": 3,
    "start_time": "2024-09-05T17:19:58.712Z"
   },
   {
    "duration": 76,
    "start_time": "2024-09-05T17:19:58.717Z"
   },
   {
    "duration": 122,
    "start_time": "2024-09-05T17:19:58.796Z"
   },
   {
    "duration": 0,
    "start_time": "2024-09-05T17:19:58.924Z"
   },
   {
    "duration": 0,
    "start_time": "2024-09-05T17:19:58.925Z"
   },
   {
    "duration": 0,
    "start_time": "2024-09-05T17:19:58.926Z"
   },
   {
    "duration": 0,
    "start_time": "2024-09-05T17:19:58.929Z"
   },
   {
    "duration": 0,
    "start_time": "2024-09-05T17:19:58.932Z"
   },
   {
    "duration": 0,
    "start_time": "2024-09-05T17:19:58.933Z"
   },
   {
    "duration": 0,
    "start_time": "2024-09-05T17:19:58.934Z"
   },
   {
    "duration": 0,
    "start_time": "2024-09-05T17:19:58.942Z"
   },
   {
    "duration": 0,
    "start_time": "2024-09-05T17:19:58.945Z"
   },
   {
    "duration": 0,
    "start_time": "2024-09-05T17:19:58.946Z"
   },
   {
    "duration": 0,
    "start_time": "2024-09-05T17:19:58.948Z"
   },
   {
    "duration": 0,
    "start_time": "2024-09-05T17:19:58.949Z"
   },
   {
    "duration": 0,
    "start_time": "2024-09-05T17:19:58.950Z"
   },
   {
    "duration": 0,
    "start_time": "2024-09-05T17:19:58.951Z"
   },
   {
    "duration": 0,
    "start_time": "2024-09-05T17:19:58.952Z"
   },
   {
    "duration": 0,
    "start_time": "2024-09-05T17:19:58.953Z"
   },
   {
    "duration": 0,
    "start_time": "2024-09-05T17:19:58.955Z"
   },
   {
    "duration": 0,
    "start_time": "2024-09-05T17:19:58.956Z"
   },
   {
    "duration": 0,
    "start_time": "2024-09-05T17:19:58.957Z"
   },
   {
    "duration": 0,
    "start_time": "2024-09-05T17:19:58.959Z"
   },
   {
    "duration": 0,
    "start_time": "2024-09-05T17:19:58.960Z"
   },
   {
    "duration": 0,
    "start_time": "2024-09-05T17:19:58.961Z"
   },
   {
    "duration": 0,
    "start_time": "2024-09-05T17:19:58.962Z"
   },
   {
    "duration": 0,
    "start_time": "2024-09-05T17:19:58.964Z"
   },
   {
    "duration": 0,
    "start_time": "2024-09-05T17:19:58.965Z"
   },
   {
    "duration": 0,
    "start_time": "2024-09-05T17:19:58.966Z"
   },
   {
    "duration": 0,
    "start_time": "2024-09-05T17:19:58.968Z"
   },
   {
    "duration": 0,
    "start_time": "2024-09-05T17:19:58.969Z"
   },
   {
    "duration": 0,
    "start_time": "2024-09-05T17:19:58.970Z"
   },
   {
    "duration": 0,
    "start_time": "2024-09-05T17:19:58.971Z"
   },
   {
    "duration": 0,
    "start_time": "2024-09-05T17:19:58.973Z"
   },
   {
    "duration": 0,
    "start_time": "2024-09-05T17:19:58.974Z"
   },
   {
    "duration": 0,
    "start_time": "2024-09-05T17:19:58.975Z"
   },
   {
    "duration": 0,
    "start_time": "2024-09-05T17:19:58.976Z"
   },
   {
    "duration": 0,
    "start_time": "2024-09-05T17:19:58.977Z"
   },
   {
    "duration": 0,
    "start_time": "2024-09-05T17:19:58.978Z"
   },
   {
    "duration": 0,
    "start_time": "2024-09-05T17:19:59.030Z"
   },
   {
    "duration": 0,
    "start_time": "2024-09-05T17:19:59.031Z"
   },
   {
    "duration": 0,
    "start_time": "2024-09-05T17:19:59.032Z"
   },
   {
    "duration": 0,
    "start_time": "2024-09-05T17:19:59.032Z"
   },
   {
    "duration": 0,
    "start_time": "2024-09-05T17:19:59.033Z"
   },
   {
    "duration": 0,
    "start_time": "2024-09-05T17:19:59.033Z"
   },
   {
    "duration": 11,
    "start_time": "2024-09-05T17:21:13.184Z"
   },
   {
    "duration": 18,
    "start_time": "2024-09-05T17:21:20.853Z"
   },
   {
    "duration": 1315,
    "start_time": "2024-09-05T17:23:24.713Z"
   },
   {
    "duration": 84,
    "start_time": "2024-09-05T17:23:26.030Z"
   },
   {
    "duration": 35,
    "start_time": "2024-09-05T17:23:26.116Z"
   },
   {
    "duration": 23,
    "start_time": "2024-09-05T17:23:26.154Z"
   },
   {
    "duration": 9,
    "start_time": "2024-09-05T17:23:26.180Z"
   },
   {
    "duration": 67,
    "start_time": "2024-09-05T17:23:26.191Z"
   },
   {
    "duration": 816,
    "start_time": "2024-09-05T17:23:26.260Z"
   },
   {
    "duration": 5,
    "start_time": "2024-09-05T17:23:27.077Z"
   },
   {
    "duration": 57,
    "start_time": "2024-09-05T17:23:27.083Z"
   },
   {
    "duration": 20,
    "start_time": "2024-09-05T17:23:27.146Z"
   },
   {
    "duration": 13,
    "start_time": "2024-09-05T17:23:27.168Z"
   },
   {
    "duration": 15,
    "start_time": "2024-09-05T17:23:27.182Z"
   },
   {
    "duration": 38,
    "start_time": "2024-09-05T17:23:27.199Z"
   },
   {
    "duration": 10,
    "start_time": "2024-09-05T17:23:27.245Z"
   },
   {
    "duration": 90,
    "start_time": "2024-09-05T17:23:27.256Z"
   },
   {
    "duration": 153,
    "start_time": "2024-09-05T17:23:27.350Z"
   },
   {
    "duration": 49,
    "start_time": "2024-09-05T17:23:27.504Z"
   },
   {
    "duration": 25,
    "start_time": "2024-09-05T17:23:27.554Z"
   },
   {
    "duration": 70,
    "start_time": "2024-09-05T17:23:27.580Z"
   },
   {
    "duration": 20,
    "start_time": "2024-09-05T17:23:27.652Z"
   },
   {
    "duration": 16,
    "start_time": "2024-09-05T17:23:27.674Z"
   },
   {
    "duration": 53,
    "start_time": "2024-09-05T17:23:27.692Z"
   },
   {
    "duration": 15,
    "start_time": "2024-09-05T17:23:27.748Z"
   },
   {
    "duration": 16,
    "start_time": "2024-09-05T17:23:27.765Z"
   },
   {
    "duration": 45,
    "start_time": "2024-09-05T17:23:27.784Z"
   },
   {
    "duration": 11,
    "start_time": "2024-09-05T17:23:27.836Z"
   },
   {
    "duration": 96,
    "start_time": "2024-09-05T17:23:27.849Z"
   },
   {
    "duration": 27,
    "start_time": "2024-09-05T17:23:27.951Z"
   },
   {
    "duration": 221,
    "start_time": "2024-09-05T17:23:27.980Z"
   },
   {
    "duration": 345,
    "start_time": "2024-09-05T17:23:28.203Z"
   },
   {
    "duration": 11,
    "start_time": "2024-09-05T17:23:28.550Z"
   },
   {
    "duration": 707,
    "start_time": "2024-09-05T17:23:28.563Z"
   },
   {
    "duration": 16,
    "start_time": "2024-09-05T17:23:29.273Z"
   },
   {
    "duration": 58,
    "start_time": "2024-09-05T17:23:29.291Z"
   },
   {
    "duration": 355,
    "start_time": "2024-09-05T17:23:29.352Z"
   },
   {
    "duration": 470,
    "start_time": "2024-09-05T17:23:29.709Z"
   },
   {
    "duration": 264,
    "start_time": "2024-09-05T17:23:30.181Z"
   },
   {
    "duration": 136,
    "start_time": "2024-09-05T17:23:30.447Z"
   },
   {
    "duration": 202,
    "start_time": "2024-09-05T17:23:30.585Z"
   },
   {
    "duration": 186,
    "start_time": "2024-09-05T17:23:30.789Z"
   },
   {
    "duration": 8,
    "start_time": "2024-09-05T17:23:30.977Z"
   },
   {
    "duration": 1069,
    "start_time": "2024-09-05T17:23:30.987Z"
   },
   {
    "duration": 389,
    "start_time": "2024-09-05T17:23:32.058Z"
   },
   {
    "duration": 450,
    "start_time": "2024-09-05T17:23:32.449Z"
   },
   {
    "duration": 490,
    "start_time": "2024-09-05T17:23:32.901Z"
   },
   {
    "duration": 522,
    "start_time": "2024-09-05T17:23:33.393Z"
   },
   {
    "duration": 514,
    "start_time": "2024-09-05T17:23:33.921Z"
   },
   {
    "duration": 12,
    "start_time": "2024-09-05T17:23:34.440Z"
   },
   {
    "duration": 48,
    "start_time": "2024-09-05T17:23:34.453Z"
   },
   {
    "duration": 24,
    "start_time": "2024-09-05T17:23:34.502Z"
   },
   {
    "duration": 23,
    "start_time": "2024-09-05T17:23:34.536Z"
   },
   {
    "duration": 31,
    "start_time": "2024-09-05T17:23:34.561Z"
   },
   {
    "duration": 763,
    "start_time": "2024-09-05T17:25:38.024Z"
   },
   {
    "duration": 561,
    "start_time": "2024-09-05T17:25:50.272Z"
   },
   {
    "duration": 556,
    "start_time": "2024-09-05T17:25:55.481Z"
   },
   {
    "duration": 677,
    "start_time": "2024-09-05T17:26:35.682Z"
   },
   {
    "duration": 1300,
    "start_time": "2024-09-05T17:26:51.041Z"
   },
   {
    "duration": 58,
    "start_time": "2024-09-05T17:26:52.350Z"
   },
   {
    "duration": 28,
    "start_time": "2024-09-05T17:26:52.409Z"
   },
   {
    "duration": 21,
    "start_time": "2024-09-05T17:26:52.439Z"
   },
   {
    "duration": 19,
    "start_time": "2024-09-05T17:26:52.463Z"
   },
   {
    "duration": 52,
    "start_time": "2024-09-05T17:26:52.484Z"
   },
   {
    "duration": 765,
    "start_time": "2024-09-05T17:26:52.539Z"
   },
   {
    "duration": 4,
    "start_time": "2024-09-05T17:26:53.306Z"
   },
   {
    "duration": 61,
    "start_time": "2024-09-05T17:26:53.321Z"
   },
   {
    "duration": 11,
    "start_time": "2024-09-05T17:26:53.384Z"
   },
   {
    "duration": 10,
    "start_time": "2024-09-05T17:26:53.397Z"
   },
   {
    "duration": 9,
    "start_time": "2024-09-05T17:26:53.408Z"
   },
   {
    "duration": 31,
    "start_time": "2024-09-05T17:26:53.418Z"
   },
   {
    "duration": 13,
    "start_time": "2024-09-05T17:26:53.453Z"
   },
   {
    "duration": 21,
    "start_time": "2024-09-05T17:26:53.468Z"
   },
   {
    "duration": 6,
    "start_time": "2024-09-05T17:26:53.491Z"
   },
   {
    "duration": 5,
    "start_time": "2024-09-05T17:26:53.498Z"
   },
   {
    "duration": 11,
    "start_time": "2024-09-05T17:26:53.505Z"
   },
   {
    "duration": 40,
    "start_time": "2024-09-05T17:26:53.518Z"
   },
   {
    "duration": 28,
    "start_time": "2024-09-05T17:26:53.560Z"
   },
   {
    "duration": 53,
    "start_time": "2024-09-05T17:26:53.590Z"
   },
   {
    "duration": 19,
    "start_time": "2024-09-05T17:26:53.645Z"
   },
   {
    "duration": 20,
    "start_time": "2024-09-05T17:26:53.666Z"
   },
   {
    "duration": 13,
    "start_time": "2024-09-05T17:26:53.687Z"
   },
   {
    "duration": 41,
    "start_time": "2024-09-05T17:26:53.701Z"
   },
   {
    "duration": 9,
    "start_time": "2024-09-05T17:26:53.748Z"
   },
   {
    "duration": 29,
    "start_time": "2024-09-05T17:26:53.758Z"
   },
   {
    "duration": 19,
    "start_time": "2024-09-05T17:26:53.789Z"
   },
   {
    "duration": 246,
    "start_time": "2024-09-05T17:26:53.809Z"
   },
   {
    "duration": 327,
    "start_time": "2024-09-05T17:26:54.057Z"
   },
   {
    "duration": 9,
    "start_time": "2024-09-05T17:26:54.386Z"
   },
   {
    "duration": 671,
    "start_time": "2024-09-05T17:26:54.397Z"
   },
   {
    "duration": 15,
    "start_time": "2024-09-05T17:26:55.070Z"
   },
   {
    "duration": 59,
    "start_time": "2024-09-05T17:26:55.087Z"
   },
   {
    "duration": 306,
    "start_time": "2024-09-05T17:26:55.154Z"
   },
   {
    "duration": 377,
    "start_time": "2024-09-05T17:26:55.461Z"
   },
   {
    "duration": 249,
    "start_time": "2024-09-05T17:26:55.845Z"
   },
   {
    "duration": 157,
    "start_time": "2024-09-05T17:26:56.096Z"
   },
   {
    "duration": 205,
    "start_time": "2024-09-05T17:26:56.256Z"
   },
   {
    "duration": 198,
    "start_time": "2024-09-05T17:26:56.463Z"
   },
   {
    "duration": 6,
    "start_time": "2024-09-05T17:26:56.667Z"
   },
   {
    "duration": 1085,
    "start_time": "2024-09-05T17:26:56.674Z"
   },
   {
    "duration": 417,
    "start_time": "2024-09-05T17:26:57.761Z"
   },
   {
    "duration": 520,
    "start_time": "2024-09-05T17:26:58.181Z"
   },
   {
    "duration": 441,
    "start_time": "2024-09-05T17:26:58.703Z"
   },
   {
    "duration": 456,
    "start_time": "2024-09-05T17:26:59.146Z"
   },
   {
    "duration": 509,
    "start_time": "2024-09-05T17:26:59.604Z"
   },
   {
    "duration": 19,
    "start_time": "2024-09-05T17:27:00.114Z"
   },
   {
    "duration": 61,
    "start_time": "2024-09-05T17:27:00.135Z"
   },
   {
    "duration": 81,
    "start_time": "2024-09-05T17:27:00.198Z"
   },
   {
    "duration": 47,
    "start_time": "2024-09-05T17:27:00.281Z"
   },
   {
    "duration": 66,
    "start_time": "2024-09-05T17:27:00.329Z"
   },
   {
    "duration": 567,
    "start_time": "2024-09-05T17:28:00.185Z"
   },
   {
    "duration": 1290,
    "start_time": "2024-09-05T17:28:09.901Z"
   },
   {
    "duration": 70,
    "start_time": "2024-09-05T17:28:11.192Z"
   },
   {
    "duration": 20,
    "start_time": "2024-09-05T17:28:11.264Z"
   },
   {
    "duration": 75,
    "start_time": "2024-09-05T17:28:11.286Z"
   },
   {
    "duration": 23,
    "start_time": "2024-09-05T17:28:11.363Z"
   },
   {
    "duration": 67,
    "start_time": "2024-09-05T17:28:11.388Z"
   },
   {
    "duration": 801,
    "start_time": "2024-09-05T17:28:11.457Z"
   },
   {
    "duration": 3,
    "start_time": "2024-09-05T17:28:12.261Z"
   },
   {
    "duration": 37,
    "start_time": "2024-09-05T17:28:12.266Z"
   },
   {
    "duration": 29,
    "start_time": "2024-09-05T17:28:12.305Z"
   },
   {
    "duration": 16,
    "start_time": "2024-09-05T17:28:12.336Z"
   },
   {
    "duration": 29,
    "start_time": "2024-09-05T17:28:12.353Z"
   },
   {
    "duration": 24,
    "start_time": "2024-09-05T17:28:12.384Z"
   },
   {
    "duration": 8,
    "start_time": "2024-09-05T17:28:12.410Z"
   },
   {
    "duration": 62,
    "start_time": "2024-09-05T17:28:12.420Z"
   },
   {
    "duration": 64,
    "start_time": "2024-09-05T17:28:12.484Z"
   },
   {
    "duration": 5,
    "start_time": "2024-09-05T17:28:12.550Z"
   },
   {
    "duration": 30,
    "start_time": "2024-09-05T17:28:12.557Z"
   },
   {
    "duration": 29,
    "start_time": "2024-09-05T17:28:12.589Z"
   },
   {
    "duration": 32,
    "start_time": "2024-09-05T17:28:12.620Z"
   },
   {
    "duration": 14,
    "start_time": "2024-09-05T17:28:12.654Z"
   },
   {
    "duration": 19,
    "start_time": "2024-09-05T17:28:12.670Z"
   },
   {
    "duration": 38,
    "start_time": "2024-09-05T17:28:12.692Z"
   },
   {
    "duration": 22,
    "start_time": "2024-09-05T17:28:12.732Z"
   },
   {
    "duration": 14,
    "start_time": "2024-09-05T17:28:12.756Z"
   },
   {
    "duration": 14,
    "start_time": "2024-09-05T17:28:12.772Z"
   },
   {
    "duration": 19,
    "start_time": "2024-09-05T17:28:12.788Z"
   },
   {
    "duration": 28,
    "start_time": "2024-09-05T17:28:12.825Z"
   },
   {
    "duration": 221,
    "start_time": "2024-09-05T17:28:12.855Z"
   },
   {
    "duration": 369,
    "start_time": "2024-09-05T17:28:13.079Z"
   },
   {
    "duration": 10,
    "start_time": "2024-09-05T17:28:13.452Z"
   },
   {
    "duration": 674,
    "start_time": "2024-09-05T17:28:13.464Z"
   },
   {
    "duration": 18,
    "start_time": "2024-09-05T17:28:14.147Z"
   },
   {
    "duration": 17,
    "start_time": "2024-09-05T17:28:14.166Z"
   },
   {
    "duration": 294,
    "start_time": "2024-09-05T17:28:14.185Z"
   },
   {
    "duration": 371,
    "start_time": "2024-09-05T17:28:14.481Z"
   },
   {
    "duration": 250,
    "start_time": "2024-09-05T17:28:14.854Z"
   },
   {
    "duration": 209,
    "start_time": "2024-09-05T17:28:15.106Z"
   },
   {
    "duration": 183,
    "start_time": "2024-09-05T17:28:15.317Z"
   },
   {
    "duration": 185,
    "start_time": "2024-09-05T17:28:15.502Z"
   },
   {
    "duration": 7,
    "start_time": "2024-09-05T17:28:15.688Z"
   },
   {
    "duration": 1071,
    "start_time": "2024-09-05T17:28:15.696Z"
   },
   {
    "duration": 386,
    "start_time": "2024-09-05T17:28:16.769Z"
   },
   {
    "duration": 375,
    "start_time": "2024-09-05T17:28:17.157Z"
   },
   {
    "duration": 440,
    "start_time": "2024-09-05T17:28:17.538Z"
   },
   {
    "duration": 432,
    "start_time": "2024-09-05T17:28:17.980Z"
   },
   {
    "duration": 452,
    "start_time": "2024-09-05T17:28:18.414Z"
   },
   {
    "duration": 7,
    "start_time": "2024-09-05T17:28:18.868Z"
   },
   {
    "duration": 34,
    "start_time": "2024-09-05T17:28:18.877Z"
   },
   {
    "duration": 26,
    "start_time": "2024-09-05T17:28:18.913Z"
   },
   {
    "duration": 9,
    "start_time": "2024-09-05T17:28:18.945Z"
   },
   {
    "duration": 9,
    "start_time": "2024-09-05T17:28:18.956Z"
   },
   {
    "duration": 217,
    "start_time": "2024-09-05T17:28:41.280Z"
   },
   {
    "duration": 262,
    "start_time": "2024-09-05T17:28:47.350Z"
   },
   {
    "duration": 267,
    "start_time": "2024-09-05T17:28:55.271Z"
   },
   {
    "duration": 261,
    "start_time": "2024-09-05T17:29:13.969Z"
   },
   {
    "duration": 337,
    "start_time": "2024-09-05T17:29:26.839Z"
   },
   {
    "duration": 333,
    "start_time": "2024-09-05T17:30:20.551Z"
   },
   {
    "duration": 355,
    "start_time": "2024-09-05T17:31:26.798Z"
   },
   {
    "duration": 702,
    "start_time": "2024-09-05T17:40:49.468Z"
   },
   {
    "duration": 547,
    "start_time": "2024-09-05T17:40:53.885Z"
   },
   {
    "duration": 537,
    "start_time": "2024-09-05T17:41:14.539Z"
   },
   {
    "duration": 661,
    "start_time": "2024-09-05T17:41:37.261Z"
   },
   {
    "duration": 735,
    "start_time": "2024-09-05T17:42:35.303Z"
   },
   {
    "duration": 363,
    "start_time": "2024-09-05T17:44:56.556Z"
   },
   {
    "duration": 348,
    "start_time": "2024-09-05T17:45:33.563Z"
   },
   {
    "duration": 371,
    "start_time": "2024-09-05T17:45:47.806Z"
   },
   {
    "duration": 541,
    "start_time": "2024-09-05T17:49:22.230Z"
   },
   {
    "duration": 1221,
    "start_time": "2024-09-05T17:58:58.479Z"
   },
   {
    "duration": 71,
    "start_time": "2024-09-05T17:58:59.702Z"
   },
   {
    "duration": 20,
    "start_time": "2024-09-05T17:58:59.774Z"
   },
   {
    "duration": 15,
    "start_time": "2024-09-05T17:58:59.796Z"
   },
   {
    "duration": 18,
    "start_time": "2024-09-05T17:58:59.813Z"
   },
   {
    "duration": 35,
    "start_time": "2024-09-05T17:58:59.833Z"
   },
   {
    "duration": 733,
    "start_time": "2024-09-05T17:58:59.869Z"
   },
   {
    "duration": 3,
    "start_time": "2024-09-05T17:59:00.603Z"
   },
   {
    "duration": 30,
    "start_time": "2024-09-05T17:59:00.608Z"
   },
   {
    "duration": 58,
    "start_time": "2024-09-05T17:59:00.640Z"
   },
   {
    "duration": 31,
    "start_time": "2024-09-05T17:59:00.699Z"
   },
   {
    "duration": 7,
    "start_time": "2024-09-05T17:59:00.732Z"
   },
   {
    "duration": 10,
    "start_time": "2024-09-05T17:59:00.741Z"
   },
   {
    "duration": 7,
    "start_time": "2024-09-05T17:59:00.755Z"
   },
   {
    "duration": 14,
    "start_time": "2024-09-05T17:59:00.763Z"
   },
   {
    "duration": 31,
    "start_time": "2024-09-05T17:59:00.779Z"
   },
   {
    "duration": 23,
    "start_time": "2024-09-05T17:59:00.811Z"
   },
   {
    "duration": 10,
    "start_time": "2024-09-05T17:59:00.839Z"
   },
   {
    "duration": 30,
    "start_time": "2024-09-05T17:59:00.851Z"
   },
   {
    "duration": 21,
    "start_time": "2024-09-05T17:59:00.883Z"
   },
   {
    "duration": 31,
    "start_time": "2024-09-05T17:59:00.906Z"
   },
   {
    "duration": 17,
    "start_time": "2024-09-05T17:59:00.939Z"
   },
   {
    "duration": 33,
    "start_time": "2024-09-05T17:59:00.958Z"
   },
   {
    "duration": 49,
    "start_time": "2024-09-05T17:59:00.993Z"
   },
   {
    "duration": 25,
    "start_time": "2024-09-05T17:59:01.043Z"
   },
   {
    "duration": 19,
    "start_time": "2024-09-05T17:59:01.069Z"
   },
   {
    "duration": 52,
    "start_time": "2024-09-05T17:59:01.090Z"
   },
   {
    "duration": 23,
    "start_time": "2024-09-05T17:59:01.144Z"
   },
   {
    "duration": 283,
    "start_time": "2024-09-05T17:59:01.169Z"
   },
   {
    "duration": 408,
    "start_time": "2024-09-05T17:59:01.455Z"
   },
   {
    "duration": 10,
    "start_time": "2024-09-05T17:59:01.866Z"
   },
   {
    "duration": 622,
    "start_time": "2024-09-05T17:59:01.877Z"
   },
   {
    "duration": 27,
    "start_time": "2024-09-05T17:59:02.501Z"
   },
   {
    "duration": 25,
    "start_time": "2024-09-05T17:59:02.530Z"
   },
   {
    "duration": 318,
    "start_time": "2024-09-05T17:59:02.556Z"
   },
   {
    "duration": 323,
    "start_time": "2024-09-05T17:59:02.876Z"
   },
   {
    "duration": 244,
    "start_time": "2024-09-05T17:59:03.201Z"
   },
   {
    "duration": 153,
    "start_time": "2024-09-05T17:59:03.446Z"
   },
   {
    "duration": 176,
    "start_time": "2024-09-05T17:59:03.601Z"
   },
   {
    "duration": 188,
    "start_time": "2024-09-05T17:59:03.779Z"
   },
   {
    "duration": 5,
    "start_time": "2024-09-05T17:59:03.971Z"
   },
   {
    "duration": 1047,
    "start_time": "2024-09-05T17:59:03.978Z"
   },
   {
    "duration": 359,
    "start_time": "2024-09-05T17:59:05.032Z"
   },
   {
    "duration": 371,
    "start_time": "2024-09-05T17:59:05.393Z"
   },
   {
    "duration": 406,
    "start_time": "2024-09-05T17:59:05.766Z"
   },
   {
    "duration": 415,
    "start_time": "2024-09-05T17:59:06.174Z"
   },
   {
    "duration": 456,
    "start_time": "2024-09-05T17:59:06.592Z"
   },
   {
    "duration": 6,
    "start_time": "2024-09-05T17:59:07.050Z"
   },
   {
    "duration": 8,
    "start_time": "2024-09-05T17:59:07.058Z"
   },
   {
    "duration": 6,
    "start_time": "2024-09-05T17:59:07.068Z"
   },
   {
    "duration": 8,
    "start_time": "2024-09-05T17:59:07.075Z"
   },
   {
    "duration": 48,
    "start_time": "2024-09-05T17:59:07.085Z"
   },
   {
    "duration": 370,
    "start_time": "2024-09-05T17:59:33.014Z"
   },
   {
    "duration": 1329,
    "start_time": "2024-09-05T18:00:07.116Z"
   },
   {
    "duration": 56,
    "start_time": "2024-09-05T18:00:08.447Z"
   },
   {
    "duration": 33,
    "start_time": "2024-09-05T18:00:08.505Z"
   },
   {
    "duration": 16,
    "start_time": "2024-09-05T18:00:08.541Z"
   },
   {
    "duration": 89,
    "start_time": "2024-09-05T18:00:08.559Z"
   },
   {
    "duration": 36,
    "start_time": "2024-09-05T18:00:08.650Z"
   },
   {
    "duration": 700,
    "start_time": "2024-09-05T18:00:08.688Z"
   },
   {
    "duration": 3,
    "start_time": "2024-09-05T18:00:09.390Z"
   },
   {
    "duration": 50,
    "start_time": "2024-09-05T18:00:09.394Z"
   },
   {
    "duration": 20,
    "start_time": "2024-09-05T18:00:09.447Z"
   },
   {
    "duration": 44,
    "start_time": "2024-09-05T18:00:09.468Z"
   },
   {
    "duration": 93,
    "start_time": "2024-09-05T18:00:09.513Z"
   },
   {
    "duration": 8,
    "start_time": "2024-09-05T18:00:09.607Z"
   },
   {
    "duration": 11,
    "start_time": "2024-09-05T18:00:09.617Z"
   },
   {
    "duration": 40,
    "start_time": "2024-09-05T18:00:09.630Z"
   },
   {
    "duration": 30,
    "start_time": "2024-09-05T18:00:09.672Z"
   },
   {
    "duration": 5,
    "start_time": "2024-09-05T18:00:09.705Z"
   },
   {
    "duration": 16,
    "start_time": "2024-09-05T18:00:09.711Z"
   },
   {
    "duration": 49,
    "start_time": "2024-09-05T18:00:09.735Z"
   },
   {
    "duration": 23,
    "start_time": "2024-09-05T18:00:09.786Z"
   },
   {
    "duration": 21,
    "start_time": "2024-09-05T18:00:09.811Z"
   },
   {
    "duration": 24,
    "start_time": "2024-09-05T18:00:09.834Z"
   },
   {
    "duration": 11,
    "start_time": "2024-09-05T18:00:09.860Z"
   },
   {
    "duration": 36,
    "start_time": "2024-09-05T18:00:09.872Z"
   },
   {
    "duration": 19,
    "start_time": "2024-09-05T18:00:09.910Z"
   },
   {
    "duration": 17,
    "start_time": "2024-09-05T18:00:09.934Z"
   },
   {
    "duration": 21,
    "start_time": "2024-09-05T18:00:09.953Z"
   },
   {
    "duration": 17,
    "start_time": "2024-09-05T18:00:09.979Z"
   },
   {
    "duration": 287,
    "start_time": "2024-09-05T18:00:09.998Z"
   },
   {
    "duration": 385,
    "start_time": "2024-09-05T18:00:10.287Z"
   },
   {
    "duration": 7,
    "start_time": "2024-09-05T18:00:10.673Z"
   },
   {
    "duration": 635,
    "start_time": "2024-09-05T18:00:10.682Z"
   },
   {
    "duration": 22,
    "start_time": "2024-09-05T18:00:11.319Z"
   },
   {
    "duration": 114,
    "start_time": "2024-09-05T18:00:11.343Z"
   },
   {
    "duration": 314,
    "start_time": "2024-09-05T18:00:11.459Z"
   },
   {
    "duration": 337,
    "start_time": "2024-09-05T18:00:11.775Z"
   },
   {
    "duration": 250,
    "start_time": "2024-09-05T18:00:12.113Z"
   },
   {
    "duration": 199,
    "start_time": "2024-09-05T18:00:12.364Z"
   },
   {
    "duration": 176,
    "start_time": "2024-09-05T18:00:12.565Z"
   },
   {
    "duration": 172,
    "start_time": "2024-09-05T18:00:12.742Z"
   },
   {
    "duration": 17,
    "start_time": "2024-09-05T18:00:12.916Z"
   },
   {
    "duration": 966,
    "start_time": "2024-09-05T18:00:12.935Z"
   },
   {
    "duration": 353,
    "start_time": "2024-09-05T18:00:13.902Z"
   },
   {
    "duration": 347,
    "start_time": "2024-09-05T18:00:14.257Z"
   },
   {
    "duration": 411,
    "start_time": "2024-09-05T18:00:14.605Z"
   },
   {
    "duration": 446,
    "start_time": "2024-09-05T18:00:15.019Z"
   },
   {
    "duration": 443,
    "start_time": "2024-09-05T18:00:15.467Z"
   },
   {
    "duration": 20,
    "start_time": "2024-09-05T18:00:15.912Z"
   },
   {
    "duration": 24,
    "start_time": "2024-09-05T18:00:15.934Z"
   },
   {
    "duration": 87,
    "start_time": "2024-09-05T18:00:15.959Z"
   },
   {
    "duration": 33,
    "start_time": "2024-09-05T18:00:16.048Z"
   },
   {
    "duration": 27,
    "start_time": "2024-09-05T18:00:16.083Z"
   },
   {
    "duration": 88,
    "start_time": "2024-09-05T18:00:49.146Z"
   },
   {
    "duration": 574,
    "start_time": "2024-09-05T18:01:02.876Z"
   },
   {
    "duration": 546,
    "start_time": "2024-09-05T18:01:19.647Z"
   },
   {
    "duration": 580,
    "start_time": "2024-09-05T18:01:34.762Z"
   },
   {
    "duration": 69,
    "start_time": "2024-09-05T18:02:59.093Z"
   },
   {
    "duration": 73,
    "start_time": "2024-09-05T18:03:11.315Z"
   },
   {
    "duration": 73,
    "start_time": "2024-09-05T18:03:43.579Z"
   },
   {
    "duration": 260,
    "start_time": "2024-09-05T18:04:20.737Z"
   },
   {
    "duration": 370,
    "start_time": "2024-09-05T18:04:46.598Z"
   },
   {
    "duration": 79,
    "start_time": "2024-09-05T18:05:08.832Z"
   },
   {
    "duration": 172,
    "start_time": "2024-09-05T18:05:18.878Z"
   },
   {
    "duration": 73,
    "start_time": "2024-09-05T18:05:29.239Z"
   },
   {
    "duration": 261,
    "start_time": "2024-09-05T18:05:45.046Z"
   },
   {
    "duration": 126,
    "start_time": "2024-09-05T18:06:33.173Z"
   },
   {
    "duration": 1264,
    "start_time": "2024-09-05T18:06:39.295Z"
   },
   {
    "duration": 57,
    "start_time": "2024-09-05T18:06:40.561Z"
   },
   {
    "duration": 25,
    "start_time": "2024-09-05T18:06:40.620Z"
   },
   {
    "duration": 33,
    "start_time": "2024-09-05T18:06:40.648Z"
   },
   {
    "duration": 7,
    "start_time": "2024-09-05T18:06:40.687Z"
   },
   {
    "duration": 49,
    "start_time": "2024-09-05T18:06:40.696Z"
   },
   {
    "duration": 736,
    "start_time": "2024-09-05T18:06:40.747Z"
   },
   {
    "duration": 3,
    "start_time": "2024-09-05T18:06:41.485Z"
   },
   {
    "duration": 33,
    "start_time": "2024-09-05T18:06:41.489Z"
   },
   {
    "duration": 20,
    "start_time": "2024-09-05T18:06:41.525Z"
   },
   {
    "duration": 20,
    "start_time": "2024-09-05T18:06:41.546Z"
   },
   {
    "duration": 8,
    "start_time": "2024-09-05T18:06:41.567Z"
   },
   {
    "duration": 22,
    "start_time": "2024-09-05T18:06:41.576Z"
   },
   {
    "duration": 26,
    "start_time": "2024-09-05T18:06:41.600Z"
   },
   {
    "duration": 13,
    "start_time": "2024-09-05T18:06:41.631Z"
   },
   {
    "duration": 5,
    "start_time": "2024-09-05T18:06:41.646Z"
   },
   {
    "duration": 14,
    "start_time": "2024-09-05T18:06:41.652Z"
   },
   {
    "duration": 31,
    "start_time": "2024-09-05T18:06:41.668Z"
   },
   {
    "duration": 41,
    "start_time": "2024-09-05T18:06:41.701Z"
   },
   {
    "duration": 51,
    "start_time": "2024-09-05T18:06:41.744Z"
   },
   {
    "duration": 14,
    "start_time": "2024-09-05T18:06:41.798Z"
   },
   {
    "duration": 50,
    "start_time": "2024-09-05T18:06:41.814Z"
   },
   {
    "duration": 9,
    "start_time": "2024-09-05T18:06:41.866Z"
   },
   {
    "duration": 16,
    "start_time": "2024-09-05T18:06:41.877Z"
   },
   {
    "duration": 38,
    "start_time": "2024-09-05T18:06:41.894Z"
   },
   {
    "duration": 35,
    "start_time": "2024-09-05T18:06:41.942Z"
   },
   {
    "duration": 26,
    "start_time": "2024-09-05T18:06:41.979Z"
   },
   {
    "duration": 99,
    "start_time": "2024-09-05T18:06:42.010Z"
   },
   {
    "duration": 247,
    "start_time": "2024-09-05T18:06:42.111Z"
   },
   {
    "duration": 380,
    "start_time": "2024-09-05T18:06:42.360Z"
   },
   {
    "duration": 6,
    "start_time": "2024-09-05T18:06:42.743Z"
   },
   {
    "duration": 688,
    "start_time": "2024-09-05T18:06:42.751Z"
   },
   {
    "duration": 16,
    "start_time": "2024-09-05T18:06:43.440Z"
   },
   {
    "duration": 21,
    "start_time": "2024-09-05T18:06:43.458Z"
   },
   {
    "duration": 272,
    "start_time": "2024-09-05T18:06:43.481Z"
   },
   {
    "duration": 0,
    "start_time": "2024-09-05T18:06:43.755Z"
   },
   {
    "duration": 0,
    "start_time": "2024-09-05T18:06:43.756Z"
   },
   {
    "duration": 0,
    "start_time": "2024-09-05T18:06:43.758Z"
   },
   {
    "duration": 0,
    "start_time": "2024-09-05T18:06:43.759Z"
   },
   {
    "duration": 0,
    "start_time": "2024-09-05T18:06:43.760Z"
   },
   {
    "duration": 0,
    "start_time": "2024-09-05T18:06:43.761Z"
   },
   {
    "duration": 0,
    "start_time": "2024-09-05T18:06:43.762Z"
   },
   {
    "duration": 0,
    "start_time": "2024-09-05T18:06:43.763Z"
   },
   {
    "duration": 0,
    "start_time": "2024-09-05T18:06:43.764Z"
   },
   {
    "duration": 0,
    "start_time": "2024-09-05T18:06:43.766Z"
   },
   {
    "duration": 0,
    "start_time": "2024-09-05T18:06:43.767Z"
   },
   {
    "duration": 0,
    "start_time": "2024-09-05T18:06:43.768Z"
   },
   {
    "duration": 0,
    "start_time": "2024-09-05T18:06:43.769Z"
   },
   {
    "duration": 0,
    "start_time": "2024-09-05T18:06:43.770Z"
   },
   {
    "duration": 0,
    "start_time": "2024-09-05T18:06:43.771Z"
   },
   {
    "duration": 0,
    "start_time": "2024-09-05T18:06:43.773Z"
   },
   {
    "duration": 0,
    "start_time": "2024-09-05T18:06:43.774Z"
   },
   {
    "duration": 266,
    "start_time": "2024-09-05T18:06:58.494Z"
   },
   {
    "duration": 326,
    "start_time": "2024-09-05T18:07:44.089Z"
   },
   {
    "duration": 1211,
    "start_time": "2024-09-05T18:07:56.654Z"
   },
   {
    "duration": 59,
    "start_time": "2024-09-05T18:07:57.867Z"
   },
   {
    "duration": 25,
    "start_time": "2024-09-05T18:07:57.930Z"
   },
   {
    "duration": 15,
    "start_time": "2024-09-05T18:07:57.957Z"
   },
   {
    "duration": 7,
    "start_time": "2024-09-05T18:07:57.973Z"
   },
   {
    "duration": 54,
    "start_time": "2024-09-05T18:07:57.981Z"
   },
   {
    "duration": 710,
    "start_time": "2024-09-05T18:07:58.037Z"
   },
   {
    "duration": 3,
    "start_time": "2024-09-05T18:07:58.749Z"
   },
   {
    "duration": 12,
    "start_time": "2024-09-05T18:07:58.754Z"
   },
   {
    "duration": 16,
    "start_time": "2024-09-05T18:07:58.769Z"
   },
   {
    "duration": 11,
    "start_time": "2024-09-05T18:07:58.787Z"
   },
   {
    "duration": 8,
    "start_time": "2024-09-05T18:07:58.825Z"
   },
   {
    "duration": 12,
    "start_time": "2024-09-05T18:07:58.835Z"
   },
   {
    "duration": 7,
    "start_time": "2024-09-05T18:07:58.849Z"
   },
   {
    "duration": 7,
    "start_time": "2024-09-05T18:07:58.857Z"
   },
   {
    "duration": 19,
    "start_time": "2024-09-05T18:07:58.866Z"
   },
   {
    "duration": 7,
    "start_time": "2024-09-05T18:07:58.887Z"
   },
   {
    "duration": 15,
    "start_time": "2024-09-05T18:07:58.896Z"
   },
   {
    "duration": 55,
    "start_time": "2024-09-05T18:07:58.912Z"
   },
   {
    "duration": 28,
    "start_time": "2024-09-05T18:07:58.969Z"
   },
   {
    "duration": 34,
    "start_time": "2024-09-05T18:07:58.999Z"
   },
   {
    "duration": 20,
    "start_time": "2024-09-05T18:07:59.035Z"
   },
   {
    "duration": 14,
    "start_time": "2024-09-05T18:07:59.057Z"
   },
   {
    "duration": 11,
    "start_time": "2024-09-05T18:07:59.073Z"
   },
   {
    "duration": 28,
    "start_time": "2024-09-05T18:07:59.085Z"
   },
   {
    "duration": 13,
    "start_time": "2024-09-05T18:07:59.128Z"
   },
   {
    "duration": 38,
    "start_time": "2024-09-05T18:07:59.143Z"
   },
   {
    "duration": 25,
    "start_time": "2024-09-05T18:07:59.186Z"
   },
   {
    "duration": 237,
    "start_time": "2024-09-05T18:07:59.213Z"
   },
   {
    "duration": 386,
    "start_time": "2024-09-05T18:07:59.452Z"
   },
   {
    "duration": 7,
    "start_time": "2024-09-05T18:07:59.840Z"
   },
   {
    "duration": 676,
    "start_time": "2024-09-05T18:07:59.848Z"
   },
   {
    "duration": 24,
    "start_time": "2024-09-05T18:08:00.529Z"
   },
   {
    "duration": 22,
    "start_time": "2024-09-05T18:08:00.555Z"
   },
   {
    "duration": 408,
    "start_time": "2024-09-05T18:08:00.579Z"
   },
   {
    "duration": 301,
    "start_time": "2024-09-05T18:08:00.990Z"
   },
   {
    "duration": 254,
    "start_time": "2024-09-05T18:08:01.292Z"
   },
   {
    "duration": 135,
    "start_time": "2024-09-05T18:08:01.548Z"
   },
   {
    "duration": 211,
    "start_time": "2024-09-05T18:08:01.685Z"
   },
   {
    "duration": 190,
    "start_time": "2024-09-05T18:08:01.898Z"
   },
   {
    "duration": 6,
    "start_time": "2024-09-05T18:08:02.091Z"
   },
   {
    "duration": 1028,
    "start_time": "2024-09-05T18:08:02.100Z"
   },
   {
    "duration": 348,
    "start_time": "2024-09-05T18:08:03.131Z"
   },
   {
    "duration": 356,
    "start_time": "2024-09-05T18:08:03.481Z"
   },
   {
    "duration": 413,
    "start_time": "2024-09-05T18:08:03.839Z"
   },
   {
    "duration": 420,
    "start_time": "2024-09-05T18:08:04.254Z"
   },
   {
    "duration": 475,
    "start_time": "2024-09-05T18:08:04.675Z"
   },
   {
    "duration": 7,
    "start_time": "2024-09-05T18:08:05.152Z"
   },
   {
    "duration": 30,
    "start_time": "2024-09-05T18:08:05.161Z"
   },
   {
    "duration": 41,
    "start_time": "2024-09-05T18:08:05.193Z"
   },
   {
    "duration": 29,
    "start_time": "2024-09-05T18:08:05.236Z"
   },
   {
    "duration": 30,
    "start_time": "2024-09-05T18:08:05.266Z"
   },
   {
    "duration": 379,
    "start_time": "2024-09-05T18:08:24.266Z"
   },
   {
    "duration": 1006,
    "start_time": "2024-09-05T18:08:49.363Z"
   },
   {
    "duration": 1048,
    "start_time": "2024-09-05T18:09:06.316Z"
   },
   {
    "duration": 1243,
    "start_time": "2024-09-05T18:09:41.607Z"
   },
   {
    "duration": 1021,
    "start_time": "2024-09-05T18:09:51.964Z"
   },
   {
    "duration": 302,
    "start_time": "2024-09-05T18:10:12.210Z"
   },
   {
    "duration": 482,
    "start_time": "2024-09-05T18:11:10.203Z"
   },
   {
    "duration": 522,
    "start_time": "2024-09-05T18:11:27.541Z"
   },
   {
    "duration": 539,
    "start_time": "2024-09-05T18:11:43.076Z"
   },
   {
    "duration": 6,
    "start_time": "2024-09-05T18:12:48.197Z"
   },
   {
    "duration": 1270,
    "start_time": "2024-09-05T18:12:55.693Z"
   },
   {
    "duration": 67,
    "start_time": "2024-09-05T18:12:56.965Z"
   },
   {
    "duration": 18,
    "start_time": "2024-09-05T18:12:57.034Z"
   },
   {
    "duration": 16,
    "start_time": "2024-09-05T18:12:57.054Z"
   },
   {
    "duration": 6,
    "start_time": "2024-09-05T18:12:57.072Z"
   },
   {
    "duration": 50,
    "start_time": "2024-09-05T18:12:57.079Z"
   },
   {
    "duration": 735,
    "start_time": "2024-09-05T18:12:57.133Z"
   },
   {
    "duration": 3,
    "start_time": "2024-09-05T18:12:57.870Z"
   },
   {
    "duration": 11,
    "start_time": "2024-09-05T18:12:57.874Z"
   },
   {
    "duration": 11,
    "start_time": "2024-09-05T18:12:57.886Z"
   },
   {
    "duration": 37,
    "start_time": "2024-09-05T18:12:57.899Z"
   },
   {
    "duration": 7,
    "start_time": "2024-09-05T18:12:57.937Z"
   },
   {
    "duration": 16,
    "start_time": "2024-09-05T18:12:57.945Z"
   },
   {
    "duration": 6,
    "start_time": "2024-09-05T18:12:57.964Z"
   },
   {
    "duration": 32,
    "start_time": "2024-09-05T18:12:57.972Z"
   },
   {
    "duration": 10,
    "start_time": "2024-09-05T18:12:58.005Z"
   },
   {
    "duration": 18,
    "start_time": "2024-09-05T18:12:58.016Z"
   },
   {
    "duration": 6,
    "start_time": "2024-09-05T18:12:58.036Z"
   },
   {
    "duration": 28,
    "start_time": "2024-09-05T18:12:58.043Z"
   },
   {
    "duration": 19,
    "start_time": "2024-09-05T18:12:58.073Z"
   },
   {
    "duration": 12,
    "start_time": "2024-09-05T18:12:58.094Z"
   },
   {
    "duration": 36,
    "start_time": "2024-09-05T18:12:58.107Z"
   },
   {
    "duration": 9,
    "start_time": "2024-09-05T18:12:58.145Z"
   },
   {
    "duration": 14,
    "start_time": "2024-09-05T18:12:58.156Z"
   },
   {
    "duration": 14,
    "start_time": "2024-09-05T18:12:58.171Z"
   },
   {
    "duration": 27,
    "start_time": "2024-09-05T18:12:58.187Z"
   },
   {
    "duration": 19,
    "start_time": "2024-09-05T18:12:58.221Z"
   },
   {
    "duration": 16,
    "start_time": "2024-09-05T18:12:58.241Z"
   },
   {
    "duration": 264,
    "start_time": "2024-09-05T18:12:58.259Z"
   },
   {
    "duration": 391,
    "start_time": "2024-09-05T18:12:58.525Z"
   },
   {
    "duration": 20,
    "start_time": "2024-09-05T18:12:58.918Z"
   },
   {
    "duration": 647,
    "start_time": "2024-09-05T18:12:58.940Z"
   },
   {
    "duration": 15,
    "start_time": "2024-09-05T18:12:59.589Z"
   },
   {
    "duration": 84,
    "start_time": "2024-09-05T18:12:59.606Z"
   },
   {
    "duration": 345,
    "start_time": "2024-09-05T18:12:59.691Z"
   },
   {
    "duration": 307,
    "start_time": "2024-09-05T18:13:00.038Z"
   },
   {
    "duration": 241,
    "start_time": "2024-09-05T18:13:00.347Z"
   },
   {
    "duration": 49,
    "start_time": "2024-09-05T18:13:00.590Z"
   },
   {
    "duration": 230,
    "start_time": "2024-09-05T18:13:00.640Z"
   },
   {
    "duration": 170,
    "start_time": "2024-09-05T18:13:00.872Z"
   },
   {
    "duration": 5,
    "start_time": "2024-09-05T18:13:01.046Z"
   },
   {
    "duration": 1057,
    "start_time": "2024-09-05T18:13:01.053Z"
   },
   {
    "duration": 400,
    "start_time": "2024-09-05T18:13:02.113Z"
   },
   {
    "duration": 350,
    "start_time": "2024-09-05T18:13:02.515Z"
   },
   {
    "duration": 486,
    "start_time": "2024-09-05T18:13:02.867Z"
   },
   {
    "duration": 530,
    "start_time": "2024-09-05T18:13:03.354Z"
   },
   {
    "duration": 523,
    "start_time": "2024-09-05T18:13:03.885Z"
   },
   {
    "duration": 15,
    "start_time": "2024-09-05T18:13:04.410Z"
   },
   {
    "duration": 17,
    "start_time": "2024-09-05T18:13:04.427Z"
   },
   {
    "duration": 10,
    "start_time": "2024-09-05T18:13:04.447Z"
   },
   {
    "duration": 34,
    "start_time": "2024-09-05T18:13:04.459Z"
   },
   {
    "duration": 16,
    "start_time": "2024-09-05T18:13:04.499Z"
   },
   {
    "duration": 210,
    "start_time": "2024-09-05T18:13:46.244Z"
   },
   {
    "duration": 184,
    "start_time": "2024-09-05T18:13:57.051Z"
   },
   {
    "duration": 214,
    "start_time": "2024-09-05T18:14:17.631Z"
   },
   {
    "duration": 1400,
    "start_time": "2024-09-05T18:15:00.740Z"
   },
   {
    "duration": 58,
    "start_time": "2024-09-05T18:15:02.142Z"
   },
   {
    "duration": 67,
    "start_time": "2024-09-05T18:15:02.202Z"
   },
   {
    "duration": 165,
    "start_time": "2024-09-05T18:15:02.271Z"
   },
   {
    "duration": 70,
    "start_time": "2024-09-05T18:15:02.438Z"
   },
   {
    "duration": 125,
    "start_time": "2024-09-05T18:15:02.510Z"
   },
   {
    "duration": 850,
    "start_time": "2024-09-05T18:15:02.637Z"
   },
   {
    "duration": 4,
    "start_time": "2024-09-05T18:15:03.488Z"
   },
   {
    "duration": 59,
    "start_time": "2024-09-05T18:15:03.494Z"
   },
   {
    "duration": 38,
    "start_time": "2024-09-05T18:15:03.555Z"
   },
   {
    "duration": 37,
    "start_time": "2024-09-05T18:15:03.595Z"
   },
   {
    "duration": 12,
    "start_time": "2024-09-05T18:15:03.633Z"
   },
   {
    "duration": 22,
    "start_time": "2024-09-05T18:15:03.650Z"
   },
   {
    "duration": 41,
    "start_time": "2024-09-05T18:15:03.675Z"
   },
   {
    "duration": 23,
    "start_time": "2024-09-05T18:15:03.718Z"
   },
   {
    "duration": 40,
    "start_time": "2024-09-05T18:15:03.742Z"
   },
   {
    "duration": 23,
    "start_time": "2024-09-05T18:15:03.784Z"
   },
   {
    "duration": 24,
    "start_time": "2024-09-05T18:15:03.809Z"
   },
   {
    "duration": 39,
    "start_time": "2024-09-05T18:15:03.834Z"
   },
   {
    "duration": 36,
    "start_time": "2024-09-05T18:15:03.875Z"
   },
   {
    "duration": 26,
    "start_time": "2024-09-05T18:15:03.913Z"
   },
   {
    "duration": 27,
    "start_time": "2024-09-05T18:15:03.940Z"
   },
   {
    "duration": 10,
    "start_time": "2024-09-05T18:15:03.968Z"
   },
   {
    "duration": 34,
    "start_time": "2024-09-05T18:15:03.979Z"
   },
   {
    "duration": 20,
    "start_time": "2024-09-05T18:15:04.015Z"
   },
   {
    "duration": 79,
    "start_time": "2024-09-05T18:15:04.037Z"
   },
   {
    "duration": 38,
    "start_time": "2024-09-05T18:15:04.117Z"
   },
   {
    "duration": 44,
    "start_time": "2024-09-05T18:15:04.157Z"
   },
   {
    "duration": 254,
    "start_time": "2024-09-05T18:15:04.203Z"
   },
   {
    "duration": 405,
    "start_time": "2024-09-05T18:15:04.459Z"
   },
   {
    "duration": 8,
    "start_time": "2024-09-05T18:15:04.866Z"
   },
   {
    "duration": 670,
    "start_time": "2024-09-05T18:15:04.876Z"
   },
   {
    "duration": 15,
    "start_time": "2024-09-05T18:15:05.548Z"
   },
   {
    "duration": 51,
    "start_time": "2024-09-05T18:15:05.564Z"
   },
   {
    "duration": 331,
    "start_time": "2024-09-05T18:15:05.616Z"
   },
   {
    "duration": 328,
    "start_time": "2024-09-05T18:15:05.949Z"
   },
   {
    "duration": 237,
    "start_time": "2024-09-05T18:15:06.278Z"
   },
   {
    "duration": 41,
    "start_time": "2024-09-05T18:15:06.517Z"
   },
   {
    "duration": 200,
    "start_time": "2024-09-05T18:15:06.560Z"
   },
   {
    "duration": 195,
    "start_time": "2024-09-05T18:15:06.762Z"
   },
   {
    "duration": 6,
    "start_time": "2024-09-05T18:15:06.961Z"
   },
   {
    "duration": 1084,
    "start_time": "2024-09-05T18:15:06.969Z"
   },
   {
    "duration": 430,
    "start_time": "2024-09-05T18:15:08.055Z"
   },
   {
    "duration": 451,
    "start_time": "2024-09-05T18:15:08.487Z"
   },
   {
    "duration": 497,
    "start_time": "2024-09-05T18:15:08.939Z"
   },
   {
    "duration": 459,
    "start_time": "2024-09-05T18:15:09.438Z"
   },
   {
    "duration": 547,
    "start_time": "2024-09-05T18:15:09.899Z"
   },
   {
    "duration": 6,
    "start_time": "2024-09-05T18:15:10.447Z"
   },
   {
    "duration": 37,
    "start_time": "2024-09-05T18:15:10.454Z"
   },
   {
    "duration": 17,
    "start_time": "2024-09-05T18:15:10.493Z"
   },
   {
    "duration": 25,
    "start_time": "2024-09-05T18:15:10.512Z"
   },
   {
    "duration": 8,
    "start_time": "2024-09-05T18:15:10.539Z"
   },
   {
    "duration": 1261,
    "start_time": "2024-09-05T18:15:39.237Z"
   },
   {
    "duration": 69,
    "start_time": "2024-09-05T18:15:40.500Z"
   },
   {
    "duration": 21,
    "start_time": "2024-09-05T18:15:40.570Z"
   },
   {
    "duration": 15,
    "start_time": "2024-09-05T18:15:40.594Z"
   },
   {
    "duration": 56,
    "start_time": "2024-09-05T18:15:40.611Z"
   },
   {
    "duration": 80,
    "start_time": "2024-09-05T18:15:40.669Z"
   },
   {
    "duration": 725,
    "start_time": "2024-09-05T18:15:40.751Z"
   },
   {
    "duration": 3,
    "start_time": "2024-09-05T18:15:41.478Z"
   },
   {
    "duration": 14,
    "start_time": "2024-09-05T18:15:41.482Z"
   },
   {
    "duration": 28,
    "start_time": "2024-09-05T18:15:41.499Z"
   },
   {
    "duration": 15,
    "start_time": "2024-09-05T18:15:41.529Z"
   },
   {
    "duration": 6,
    "start_time": "2024-09-05T18:15:41.545Z"
   },
   {
    "duration": 19,
    "start_time": "2024-09-05T18:15:41.552Z"
   },
   {
    "duration": 12,
    "start_time": "2024-09-05T18:15:41.573Z"
   },
   {
    "duration": 17,
    "start_time": "2024-09-05T18:15:41.587Z"
   },
   {
    "duration": 133,
    "start_time": "2024-09-05T18:15:41.605Z"
   },
   {
    "duration": 46,
    "start_time": "2024-09-05T18:15:41.739Z"
   },
   {
    "duration": 17,
    "start_time": "2024-09-05T18:15:41.787Z"
   },
   {
    "duration": 57,
    "start_time": "2024-09-05T18:15:41.806Z"
   },
   {
    "duration": 21,
    "start_time": "2024-09-05T18:15:41.866Z"
   },
   {
    "duration": 11,
    "start_time": "2024-09-05T18:15:41.889Z"
   },
   {
    "duration": 26,
    "start_time": "2024-09-05T18:15:41.902Z"
   },
   {
    "duration": 15,
    "start_time": "2024-09-05T18:15:41.930Z"
   },
   {
    "duration": 21,
    "start_time": "2024-09-05T18:15:41.946Z"
   },
   {
    "duration": 23,
    "start_time": "2024-09-05T18:15:41.968Z"
   },
   {
    "duration": 8,
    "start_time": "2024-09-05T18:15:41.994Z"
   },
   {
    "duration": 108,
    "start_time": "2024-09-05T18:15:42.005Z"
   },
   {
    "duration": 39,
    "start_time": "2024-09-05T18:15:42.117Z"
   },
   {
    "duration": 232,
    "start_time": "2024-09-05T18:15:42.158Z"
   },
   {
    "duration": 400,
    "start_time": "2024-09-05T18:15:42.392Z"
   },
   {
    "duration": 8,
    "start_time": "2024-09-05T18:15:42.794Z"
   },
   {
    "duration": 680,
    "start_time": "2024-09-05T18:15:42.803Z"
   },
   {
    "duration": 16,
    "start_time": "2024-09-05T18:15:43.485Z"
   },
   {
    "duration": 43,
    "start_time": "2024-09-05T18:15:43.503Z"
   },
   {
    "duration": 356,
    "start_time": "2024-09-05T18:15:43.548Z"
   },
   {
    "duration": 325,
    "start_time": "2024-09-05T18:15:43.905Z"
   },
   {
    "duration": 231,
    "start_time": "2024-09-05T18:15:44.235Z"
   },
   {
    "duration": 25,
    "start_time": "2024-09-05T18:15:44.467Z"
   },
   {
    "duration": 198,
    "start_time": "2024-09-05T18:15:44.494Z"
   },
   {
    "duration": 194,
    "start_time": "2024-09-05T18:15:44.693Z"
   },
   {
    "duration": 6,
    "start_time": "2024-09-05T18:15:44.889Z"
   },
   {
    "duration": 1143,
    "start_time": "2024-09-05T18:15:44.896Z"
   },
   {
    "duration": 371,
    "start_time": "2024-09-05T18:15:46.041Z"
   },
   {
    "duration": 379,
    "start_time": "2024-09-05T18:15:46.413Z"
   },
   {
    "duration": 453,
    "start_time": "2024-09-05T18:15:46.794Z"
   },
   {
    "duration": 451,
    "start_time": "2024-09-05T18:15:47.248Z"
   },
   {
    "duration": 490,
    "start_time": "2024-09-05T18:15:47.700Z"
   },
   {
    "duration": 6,
    "start_time": "2024-09-05T18:15:48.191Z"
   },
   {
    "duration": 31,
    "start_time": "2024-09-05T18:15:48.199Z"
   },
   {
    "duration": 10,
    "start_time": "2024-09-05T18:15:48.231Z"
   },
   {
    "duration": 7,
    "start_time": "2024-09-05T18:15:48.242Z"
   },
   {
    "duration": 31,
    "start_time": "2024-09-05T18:15:48.251Z"
   },
   {
    "duration": 1289,
    "start_time": "2024-09-05T18:16:49.692Z"
   },
   {
    "duration": 61,
    "start_time": "2024-09-05T18:16:50.983Z"
   },
   {
    "duration": 20,
    "start_time": "2024-09-05T18:16:51.046Z"
   },
   {
    "duration": 16,
    "start_time": "2024-09-05T18:16:51.068Z"
   },
   {
    "duration": 6,
    "start_time": "2024-09-05T18:16:51.086Z"
   },
   {
    "duration": 61,
    "start_time": "2024-09-05T18:16:51.094Z"
   },
   {
    "duration": 732,
    "start_time": "2024-09-05T18:16:51.157Z"
   },
   {
    "duration": 4,
    "start_time": "2024-09-05T18:16:51.891Z"
   },
   {
    "duration": 32,
    "start_time": "2024-09-05T18:16:51.896Z"
   },
   {
    "duration": 17,
    "start_time": "2024-09-05T18:16:51.935Z"
   },
   {
    "duration": 78,
    "start_time": "2024-09-05T18:16:51.954Z"
   },
   {
    "duration": 97,
    "start_time": "2024-09-05T18:16:52.034Z"
   },
   {
    "duration": 20,
    "start_time": "2024-09-05T18:16:52.133Z"
   },
   {
    "duration": 16,
    "start_time": "2024-09-05T18:16:52.155Z"
   },
   {
    "duration": 13,
    "start_time": "2024-09-05T18:16:52.173Z"
   },
   {
    "duration": 24,
    "start_time": "2024-09-05T18:16:52.187Z"
   },
   {
    "duration": 7,
    "start_time": "2024-09-05T18:16:52.212Z"
   },
   {
    "duration": 8,
    "start_time": "2024-09-05T18:16:52.230Z"
   },
   {
    "duration": 35,
    "start_time": "2024-09-05T18:16:52.240Z"
   },
   {
    "duration": 28,
    "start_time": "2024-09-05T18:16:52.277Z"
   },
   {
    "duration": 12,
    "start_time": "2024-09-05T18:16:52.307Z"
   },
   {
    "duration": 18,
    "start_time": "2024-09-05T18:16:52.335Z"
   },
   {
    "duration": 18,
    "start_time": "2024-09-05T18:16:52.355Z"
   },
   {
    "duration": 19,
    "start_time": "2024-09-05T18:16:52.375Z"
   },
   {
    "duration": 20,
    "start_time": "2024-09-05T18:16:52.396Z"
   },
   {
    "duration": 30,
    "start_time": "2024-09-05T18:16:52.417Z"
   },
   {
    "duration": 40,
    "start_time": "2024-09-05T18:16:52.449Z"
   },
   {
    "duration": 25,
    "start_time": "2024-09-05T18:16:52.492Z"
   },
   {
    "duration": 238,
    "start_time": "2024-09-05T18:16:52.519Z"
   },
   {
    "duration": 377,
    "start_time": "2024-09-05T18:16:52.759Z"
   },
   {
    "duration": 7,
    "start_time": "2024-09-05T18:16:53.137Z"
   },
   {
    "duration": 659,
    "start_time": "2024-09-05T18:16:53.146Z"
   },
   {
    "duration": 22,
    "start_time": "2024-09-05T18:16:53.806Z"
   },
   {
    "duration": 25,
    "start_time": "2024-09-05T18:16:53.829Z"
   },
   {
    "duration": 331,
    "start_time": "2024-09-05T18:16:53.856Z"
   },
   {
    "duration": 298,
    "start_time": "2024-09-05T18:16:54.189Z"
   },
   {
    "duration": 252,
    "start_time": "2024-09-05T18:16:54.489Z"
   },
   {
    "duration": 27,
    "start_time": "2024-09-05T18:16:54.743Z"
   },
   {
    "duration": 219,
    "start_time": "2024-09-05T18:16:54.772Z"
   },
   {
    "duration": 213,
    "start_time": "2024-09-05T18:16:54.993Z"
   },
   {
    "duration": 16,
    "start_time": "2024-09-05T18:16:55.208Z"
   },
   {
    "duration": 870,
    "start_time": "2024-09-05T18:16:55.235Z"
   },
   {
    "duration": 395,
    "start_time": "2024-09-05T18:16:56.107Z"
   },
   {
    "duration": 373,
    "start_time": "2024-09-05T18:16:56.504Z"
   },
   {
    "duration": 457,
    "start_time": "2024-09-05T18:16:56.878Z"
   },
   {
    "duration": 474,
    "start_time": "2024-09-05T18:16:57.337Z"
   },
   {
    "duration": 472,
    "start_time": "2024-09-05T18:16:57.813Z"
   },
   {
    "duration": 6,
    "start_time": "2024-09-05T18:16:58.287Z"
   },
   {
    "duration": 21,
    "start_time": "2024-09-05T18:16:58.294Z"
   },
   {
    "duration": 17,
    "start_time": "2024-09-05T18:16:58.317Z"
   },
   {
    "duration": 12,
    "start_time": "2024-09-05T18:16:58.336Z"
   },
   {
    "duration": 53,
    "start_time": "2024-09-05T18:16:58.350Z"
   },
   {
    "duration": 1215,
    "start_time": "2024-09-05T18:17:14.267Z"
   },
   {
    "duration": 63,
    "start_time": "2024-09-05T18:17:15.484Z"
   },
   {
    "duration": 20,
    "start_time": "2024-09-05T18:17:15.549Z"
   },
   {
    "duration": 16,
    "start_time": "2024-09-05T18:17:15.571Z"
   },
   {
    "duration": 23,
    "start_time": "2024-09-05T18:17:15.588Z"
   },
   {
    "duration": 48,
    "start_time": "2024-09-05T18:17:15.613Z"
   },
   {
    "duration": 771,
    "start_time": "2024-09-05T18:17:15.663Z"
   },
   {
    "duration": 3,
    "start_time": "2024-09-05T18:17:16.436Z"
   },
   {
    "duration": 22,
    "start_time": "2024-09-05T18:17:16.440Z"
   },
   {
    "duration": 11,
    "start_time": "2024-09-05T18:17:16.465Z"
   },
   {
    "duration": 12,
    "start_time": "2024-09-05T18:17:16.477Z"
   },
   {
    "duration": 9,
    "start_time": "2024-09-05T18:17:16.490Z"
   },
   {
    "duration": 27,
    "start_time": "2024-09-05T18:17:16.500Z"
   },
   {
    "duration": 7,
    "start_time": "2024-09-05T18:17:16.529Z"
   },
   {
    "duration": 55,
    "start_time": "2024-09-05T18:17:16.538Z"
   },
   {
    "duration": 10,
    "start_time": "2024-09-05T18:17:16.594Z"
   },
   {
    "duration": 6,
    "start_time": "2024-09-05T18:17:16.605Z"
   },
   {
    "duration": 14,
    "start_time": "2024-09-05T18:17:16.612Z"
   },
   {
    "duration": 98,
    "start_time": "2024-09-05T18:17:16.634Z"
   },
   {
    "duration": 34,
    "start_time": "2024-09-05T18:17:16.734Z"
   },
   {
    "duration": 11,
    "start_time": "2024-09-05T18:17:16.769Z"
   },
   {
    "duration": 17,
    "start_time": "2024-09-05T18:17:16.782Z"
   },
   {
    "duration": 23,
    "start_time": "2024-09-05T18:17:16.801Z"
   },
   {
    "duration": 19,
    "start_time": "2024-09-05T18:17:16.826Z"
   },
   {
    "duration": 14,
    "start_time": "2024-09-05T18:17:16.846Z"
   },
   {
    "duration": 11,
    "start_time": "2024-09-05T18:17:16.861Z"
   },
   {
    "duration": 27,
    "start_time": "2024-09-05T18:17:16.873Z"
   },
   {
    "duration": 21,
    "start_time": "2024-09-05T18:17:16.926Z"
   },
   {
    "duration": 239,
    "start_time": "2024-09-05T18:17:16.949Z"
   },
   {
    "duration": 408,
    "start_time": "2024-09-05T18:17:17.190Z"
   },
   {
    "duration": 7,
    "start_time": "2024-09-05T18:17:17.599Z"
   },
   {
    "duration": 653,
    "start_time": "2024-09-05T18:17:17.608Z"
   },
   {
    "duration": 16,
    "start_time": "2024-09-05T18:17:18.263Z"
   },
   {
    "duration": 22,
    "start_time": "2024-09-05T18:17:18.281Z"
   },
   {
    "duration": 367,
    "start_time": "2024-09-05T18:17:18.305Z"
   },
   {
    "duration": 315,
    "start_time": "2024-09-05T18:17:18.674Z"
   },
   {
    "duration": 248,
    "start_time": "2024-09-05T18:17:18.990Z"
   },
   {
    "duration": 24,
    "start_time": "2024-09-05T18:17:19.240Z"
   },
   {
    "duration": 197,
    "start_time": "2024-09-05T18:17:19.265Z"
   },
   {
    "duration": 189,
    "start_time": "2024-09-05T18:17:19.464Z"
   },
   {
    "duration": 5,
    "start_time": "2024-09-05T18:17:19.655Z"
   },
   {
    "duration": 918,
    "start_time": "2024-09-05T18:17:19.662Z"
   },
   {
    "duration": 389,
    "start_time": "2024-09-05T18:17:20.582Z"
   },
   {
    "duration": 368,
    "start_time": "2024-09-05T18:17:20.973Z"
   },
   {
    "duration": 437,
    "start_time": "2024-09-05T18:17:21.343Z"
   },
   {
    "duration": 462,
    "start_time": "2024-09-05T18:17:21.781Z"
   },
   {
    "duration": 490,
    "start_time": "2024-09-05T18:17:22.244Z"
   },
   {
    "duration": 6,
    "start_time": "2024-09-05T18:17:22.736Z"
   },
   {
    "duration": 22,
    "start_time": "2024-09-05T18:17:22.744Z"
   },
   {
    "duration": 20,
    "start_time": "2024-09-05T18:17:22.768Z"
   },
   {
    "duration": 9,
    "start_time": "2024-09-05T18:17:22.790Z"
   },
   {
    "duration": 18,
    "start_time": "2024-09-05T18:17:22.801Z"
   },
   {
    "duration": 1300,
    "start_time": "2024-09-05T18:18:41.517Z"
   },
   {
    "duration": 58,
    "start_time": "2024-09-05T18:18:42.821Z"
   },
   {
    "duration": 20,
    "start_time": "2024-09-05T18:18:42.881Z"
   },
   {
    "duration": 102,
    "start_time": "2024-09-05T18:18:42.903Z"
   },
   {
    "duration": 35,
    "start_time": "2024-09-05T18:18:43.006Z"
   },
   {
    "duration": 42,
    "start_time": "2024-09-05T18:18:43.043Z"
   },
   {
    "duration": 851,
    "start_time": "2024-09-05T18:18:43.087Z"
   },
   {
    "duration": 5,
    "start_time": "2024-09-05T18:18:43.940Z"
   },
   {
    "duration": 19,
    "start_time": "2024-09-05T18:18:43.946Z"
   },
   {
    "duration": 12,
    "start_time": "2024-09-05T18:18:43.968Z"
   },
   {
    "duration": 28,
    "start_time": "2024-09-05T18:18:43.982Z"
   },
   {
    "duration": 11,
    "start_time": "2024-09-05T18:18:44.012Z"
   },
   {
    "duration": 18,
    "start_time": "2024-09-05T18:18:44.026Z"
   },
   {
    "duration": 73,
    "start_time": "2024-09-05T18:18:44.046Z"
   },
   {
    "duration": 31,
    "start_time": "2024-09-05T18:18:44.121Z"
   },
   {
    "duration": 30,
    "start_time": "2024-09-05T18:18:44.153Z"
   },
   {
    "duration": 11,
    "start_time": "2024-09-05T18:18:44.184Z"
   },
   {
    "duration": 15,
    "start_time": "2024-09-05T18:18:44.197Z"
   },
   {
    "duration": 62,
    "start_time": "2024-09-05T18:18:44.214Z"
   },
   {
    "duration": 60,
    "start_time": "2024-09-05T18:18:44.279Z"
   },
   {
    "duration": 19,
    "start_time": "2024-09-05T18:18:44.341Z"
   },
   {
    "duration": 18,
    "start_time": "2024-09-05T18:18:44.361Z"
   },
   {
    "duration": 9,
    "start_time": "2024-09-05T18:18:44.380Z"
   },
   {
    "duration": 46,
    "start_time": "2024-09-05T18:18:44.391Z"
   },
   {
    "duration": 23,
    "start_time": "2024-09-05T18:18:44.439Z"
   },
   {
    "duration": 14,
    "start_time": "2024-09-05T18:18:44.464Z"
   },
   {
    "duration": 17,
    "start_time": "2024-09-05T18:18:44.480Z"
   },
   {
    "duration": 36,
    "start_time": "2024-09-05T18:18:44.500Z"
   },
   {
    "duration": 267,
    "start_time": "2024-09-05T18:18:44.538Z"
   },
   {
    "duration": 462,
    "start_time": "2024-09-05T18:18:44.807Z"
   },
   {
    "duration": 8,
    "start_time": "2024-09-05T18:18:45.271Z"
   },
   {
    "duration": 796,
    "start_time": "2024-09-05T18:18:45.282Z"
   },
   {
    "duration": 15,
    "start_time": "2024-09-05T18:18:46.080Z"
   },
   {
    "duration": 52,
    "start_time": "2024-09-05T18:18:46.096Z"
   },
   {
    "duration": 346,
    "start_time": "2024-09-05T18:18:46.153Z"
   },
   {
    "duration": 369,
    "start_time": "2024-09-05T18:18:46.502Z"
   },
   {
    "duration": 260,
    "start_time": "2024-09-05T18:18:46.873Z"
   },
   {
    "duration": 34,
    "start_time": "2024-09-05T18:18:47.135Z"
   },
   {
    "duration": 213,
    "start_time": "2024-09-05T18:18:47.170Z"
   },
   {
    "duration": 215,
    "start_time": "2024-09-05T18:18:47.386Z"
   },
   {
    "duration": 6,
    "start_time": "2024-09-05T18:18:47.603Z"
   },
   {
    "duration": 1062,
    "start_time": "2024-09-05T18:18:47.610Z"
   },
   {
    "duration": 406,
    "start_time": "2024-09-05T18:18:48.674Z"
   },
   {
    "duration": 403,
    "start_time": "2024-09-05T18:18:49.082Z"
   },
   {
    "duration": 481,
    "start_time": "2024-09-05T18:18:49.487Z"
   },
   {
    "duration": 526,
    "start_time": "2024-09-05T18:18:49.969Z"
   },
   {
    "duration": 512,
    "start_time": "2024-09-05T18:18:50.496Z"
   },
   {
    "duration": 14,
    "start_time": "2024-09-05T18:18:51.010Z"
   },
   {
    "duration": 22,
    "start_time": "2024-09-05T18:18:51.028Z"
   },
   {
    "duration": 44,
    "start_time": "2024-09-05T18:18:51.052Z"
   },
   {
    "duration": 9,
    "start_time": "2024-09-05T18:18:51.098Z"
   },
   {
    "duration": 96,
    "start_time": "2024-09-05T18:18:51.109Z"
   },
   {
    "duration": 1042,
    "start_time": "2024-09-05T18:19:58.368Z"
   },
   {
    "duration": 962,
    "start_time": "2024-09-05T18:20:09.660Z"
   },
   {
    "duration": 1054,
    "start_time": "2024-09-05T18:20:21.054Z"
   },
   {
    "duration": 1199,
    "start_time": "2024-09-05T18:24:41.542Z"
   },
   {
    "duration": 56,
    "start_time": "2024-09-05T18:24:42.743Z"
   },
   {
    "duration": 19,
    "start_time": "2024-09-05T18:24:42.800Z"
   },
   {
    "duration": 24,
    "start_time": "2024-09-05T18:24:42.821Z"
   },
   {
    "duration": 6,
    "start_time": "2024-09-05T18:24:42.847Z"
   },
   {
    "duration": 38,
    "start_time": "2024-09-05T18:24:42.855Z"
   },
   {
    "duration": 752,
    "start_time": "2024-09-05T18:24:42.894Z"
   },
   {
    "duration": 4,
    "start_time": "2024-09-05T18:24:43.648Z"
   },
   {
    "duration": 34,
    "start_time": "2024-09-05T18:24:43.654Z"
   },
   {
    "duration": 27,
    "start_time": "2024-09-05T18:24:43.692Z"
   },
   {
    "duration": 15,
    "start_time": "2024-09-05T18:24:43.725Z"
   },
   {
    "duration": 7,
    "start_time": "2024-09-05T18:24:43.742Z"
   },
   {
    "duration": 15,
    "start_time": "2024-09-05T18:24:43.752Z"
   },
   {
    "duration": 11,
    "start_time": "2024-09-05T18:24:43.769Z"
   },
   {
    "duration": 9,
    "start_time": "2024-09-05T18:24:43.783Z"
   },
   {
    "duration": 39,
    "start_time": "2024-09-05T18:24:43.794Z"
   },
   {
    "duration": 5,
    "start_time": "2024-09-05T18:24:43.835Z"
   },
   {
    "duration": 10,
    "start_time": "2024-09-05T18:24:43.842Z"
   },
   {
    "duration": 46,
    "start_time": "2024-09-05T18:24:43.853Z"
   },
   {
    "duration": 27,
    "start_time": "2024-09-05T18:24:43.901Z"
   },
   {
    "duration": 16,
    "start_time": "2024-09-05T18:24:43.930Z"
   },
   {
    "duration": 16,
    "start_time": "2024-09-05T18:24:43.948Z"
   },
   {
    "duration": 9,
    "start_time": "2024-09-05T18:24:43.966Z"
   },
   {
    "duration": 10,
    "start_time": "2024-09-05T18:24:43.977Z"
   },
   {
    "duration": 47,
    "start_time": "2024-09-05T18:24:43.989Z"
   },
   {
    "duration": 10,
    "start_time": "2024-09-05T18:24:44.037Z"
   },
   {
    "duration": 83,
    "start_time": "2024-09-05T18:24:44.048Z"
   },
   {
    "duration": 22,
    "start_time": "2024-09-05T18:24:44.137Z"
   },
   {
    "duration": 244,
    "start_time": "2024-09-05T18:24:44.162Z"
   },
   {
    "duration": 386,
    "start_time": "2024-09-05T18:24:44.407Z"
   },
   {
    "duration": 8,
    "start_time": "2024-09-05T18:24:44.794Z"
   },
   {
    "duration": 738,
    "start_time": "2024-09-05T18:24:44.804Z"
   },
   {
    "duration": 13,
    "start_time": "2024-09-05T18:24:45.544Z"
   },
   {
    "duration": 19,
    "start_time": "2024-09-05T18:24:45.559Z"
   },
   {
    "duration": 393,
    "start_time": "2024-09-05T18:24:45.579Z"
   },
   {
    "duration": 304,
    "start_time": "2024-09-05T18:24:45.973Z"
   },
   {
    "duration": 237,
    "start_time": "2024-09-05T18:24:46.279Z"
   },
   {
    "duration": 35,
    "start_time": "2024-09-05T18:24:46.518Z"
   },
   {
    "duration": 196,
    "start_time": "2024-09-05T18:24:46.555Z"
   },
   {
    "duration": 191,
    "start_time": "2024-09-05T18:24:46.753Z"
   },
   {
    "duration": 5,
    "start_time": "2024-09-05T18:24:46.946Z"
   },
   {
    "duration": 952,
    "start_time": "2024-09-05T18:24:46.953Z"
   },
   {
    "duration": 376,
    "start_time": "2024-09-05T18:24:47.906Z"
   },
   {
    "duration": 356,
    "start_time": "2024-09-05T18:24:48.283Z"
   },
   {
    "duration": 436,
    "start_time": "2024-09-05T18:24:48.640Z"
   },
   {
    "duration": 461,
    "start_time": "2024-09-05T18:24:49.077Z"
   },
   {
    "duration": 469,
    "start_time": "2024-09-05T18:24:49.540Z"
   },
   {
    "duration": 20,
    "start_time": "2024-09-05T18:24:50.010Z"
   },
   {
    "duration": 73,
    "start_time": "2024-09-05T18:24:50.035Z"
   },
   {
    "duration": 39,
    "start_time": "2024-09-05T18:24:50.110Z"
   },
   {
    "duration": 20,
    "start_time": "2024-09-05T18:24:50.151Z"
   },
   {
    "duration": 10,
    "start_time": "2024-09-05T18:24:50.172Z"
   },
   {
    "duration": 1269,
    "start_time": "2024-09-05T18:40:33.805Z"
   },
   {
    "duration": 67,
    "start_time": "2024-09-05T18:40:35.076Z"
   },
   {
    "duration": 26,
    "start_time": "2024-09-05T18:40:35.147Z"
   },
   {
    "duration": 24,
    "start_time": "2024-09-05T18:40:35.176Z"
   },
   {
    "duration": 7,
    "start_time": "2024-09-05T18:40:35.202Z"
   },
   {
    "duration": 41,
    "start_time": "2024-09-05T18:40:35.211Z"
   },
   {
    "duration": 740,
    "start_time": "2024-09-05T18:40:35.254Z"
   },
   {
    "duration": 3,
    "start_time": "2024-09-05T18:40:35.996Z"
   },
   {
    "duration": 23,
    "start_time": "2024-09-05T18:40:36.001Z"
   },
   {
    "duration": 12,
    "start_time": "2024-09-05T18:40:36.029Z"
   },
   {
    "duration": 205,
    "start_time": "2024-09-05T18:40:36.043Z"
   },
   {
    "duration": 10,
    "start_time": "2024-09-05T18:40:36.250Z"
   },
   {
    "duration": 23,
    "start_time": "2024-09-05T18:40:36.262Z"
   },
   {
    "duration": 16,
    "start_time": "2024-09-05T18:40:36.287Z"
   },
   {
    "duration": 9,
    "start_time": "2024-09-05T18:40:36.305Z"
   },
   {
    "duration": 23,
    "start_time": "2024-09-05T18:40:36.316Z"
   },
   {
    "duration": 22,
    "start_time": "2024-09-05T18:40:36.341Z"
   },
   {
    "duration": 11,
    "start_time": "2024-09-05T18:40:36.365Z"
   },
   {
    "duration": 20,
    "start_time": "2024-09-05T18:40:36.378Z"
   },
   {
    "duration": 12,
    "start_time": "2024-09-05T18:40:36.400Z"
   },
   {
    "duration": 39,
    "start_time": "2024-09-05T18:40:36.414Z"
   },
   {
    "duration": 21,
    "start_time": "2024-09-05T18:40:36.455Z"
   },
   {
    "duration": 13,
    "start_time": "2024-09-05T18:40:36.479Z"
   },
   {
    "duration": 39,
    "start_time": "2024-09-05T18:40:36.494Z"
   },
   {
    "duration": 14,
    "start_time": "2024-09-05T18:40:36.535Z"
   },
   {
    "duration": 33,
    "start_time": "2024-09-05T18:40:36.551Z"
   },
   {
    "duration": 17,
    "start_time": "2024-09-05T18:40:36.586Z"
   },
   {
    "duration": 28,
    "start_time": "2024-09-05T18:40:36.606Z"
   },
   {
    "duration": 14,
    "start_time": "2024-09-05T18:40:36.637Z"
   },
   {
    "duration": 26,
    "start_time": "2024-09-05T18:40:36.653Z"
   },
   {
    "duration": 228,
    "start_time": "2024-09-05T18:40:36.681Z"
   },
   {
    "duration": 381,
    "start_time": "2024-09-05T18:40:36.920Z"
   },
   {
    "duration": 8,
    "start_time": "2024-09-05T18:40:37.303Z"
   },
   {
    "duration": 678,
    "start_time": "2024-09-05T18:40:37.325Z"
   },
   {
    "duration": 29,
    "start_time": "2024-09-05T18:40:38.005Z"
   },
   {
    "duration": 16,
    "start_time": "2024-09-05T18:40:38.037Z"
   },
   {
    "duration": 321,
    "start_time": "2024-09-05T18:40:38.055Z"
   },
   {
    "duration": 338,
    "start_time": "2024-09-05T18:40:38.377Z"
   },
   {
    "duration": 243,
    "start_time": "2024-09-05T18:40:38.717Z"
   },
   {
    "duration": 28,
    "start_time": "2024-09-05T18:40:38.962Z"
   },
   {
    "duration": 211,
    "start_time": "2024-09-05T18:40:38.992Z"
   },
   {
    "duration": 188,
    "start_time": "2024-09-05T18:40:39.205Z"
   },
   {
    "duration": 6,
    "start_time": "2024-09-05T18:40:39.395Z"
   },
   {
    "duration": 1113,
    "start_time": "2024-09-05T18:40:39.403Z"
   },
   {
    "duration": 289,
    "start_time": "2024-09-05T18:40:40.517Z"
   },
   {
    "duration": 361,
    "start_time": "2024-09-05T18:40:40.807Z"
   },
   {
    "duration": 476,
    "start_time": "2024-09-05T18:40:41.169Z"
   },
   {
    "duration": 464,
    "start_time": "2024-09-05T18:40:41.647Z"
   },
   {
    "duration": 462,
    "start_time": "2024-09-05T18:40:42.113Z"
   },
   {
    "duration": 5,
    "start_time": "2024-09-05T18:40:42.577Z"
   },
   {
    "duration": 51,
    "start_time": "2024-09-05T18:40:42.584Z"
   },
   {
    "duration": 5,
    "start_time": "2024-09-05T18:40:42.636Z"
   },
   {
    "duration": 7,
    "start_time": "2024-09-05T18:40:42.643Z"
   },
   {
    "duration": 18,
    "start_time": "2024-09-05T18:40:42.652Z"
   },
   {
    "duration": 47,
    "start_time": "2024-09-06T02:52:13.356Z"
   },
   {
    "duration": 1376,
    "start_time": "2024-09-06T02:52:20.143Z"
   },
   {
    "duration": 179,
    "start_time": "2024-09-06T02:52:21.521Z"
   },
   {
    "duration": 19,
    "start_time": "2024-09-06T02:52:21.701Z"
   },
   {
    "duration": 38,
    "start_time": "2024-09-06T02:52:21.722Z"
   },
   {
    "duration": 22,
    "start_time": "2024-09-06T02:52:21.763Z"
   },
   {
    "duration": 36,
    "start_time": "2024-09-06T02:52:21.787Z"
   },
   {
    "duration": 745,
    "start_time": "2024-09-06T02:52:21.824Z"
   },
   {
    "duration": 3,
    "start_time": "2024-09-06T02:52:22.571Z"
   },
   {
    "duration": 15,
    "start_time": "2024-09-06T02:52:22.576Z"
   },
   {
    "duration": 5,
    "start_time": "2024-09-06T02:52:22.592Z"
   },
   {
    "duration": 258,
    "start_time": "2024-09-06T02:52:22.599Z"
   },
   {
    "duration": 9,
    "start_time": "2024-09-06T02:52:22.859Z"
   },
   {
    "duration": 33,
    "start_time": "2024-09-06T02:52:22.869Z"
   },
   {
    "duration": 11,
    "start_time": "2024-09-06T02:52:22.906Z"
   },
   {
    "duration": 26,
    "start_time": "2024-09-06T02:52:22.919Z"
   },
   {
    "duration": 13,
    "start_time": "2024-09-06T02:52:22.947Z"
   },
   {
    "duration": 21,
    "start_time": "2024-09-06T02:52:22.961Z"
   },
   {
    "duration": 9,
    "start_time": "2024-09-06T02:52:22.984Z"
   },
   {
    "duration": 16,
    "start_time": "2024-09-06T02:52:22.995Z"
   },
   {
    "duration": 22,
    "start_time": "2024-09-06T02:52:23.013Z"
   },
   {
    "duration": 10,
    "start_time": "2024-09-06T02:52:23.036Z"
   },
   {
    "duration": 34,
    "start_time": "2024-09-06T02:52:23.047Z"
   },
   {
    "duration": 20,
    "start_time": "2024-09-06T02:52:23.082Z"
   },
   {
    "duration": 11,
    "start_time": "2024-09-06T02:52:23.103Z"
   },
   {
    "duration": 37,
    "start_time": "2024-09-06T02:52:23.116Z"
   },
   {
    "duration": 9,
    "start_time": "2024-09-06T02:52:23.154Z"
   },
   {
    "duration": 21,
    "start_time": "2024-09-06T02:52:23.164Z"
   },
   {
    "duration": 17,
    "start_time": "2024-09-06T02:52:23.187Z"
   },
   {
    "duration": 6,
    "start_time": "2024-09-06T02:52:23.206Z"
   },
   {
    "duration": 22,
    "start_time": "2024-09-06T02:52:23.213Z"
   },
   {
    "duration": 26,
    "start_time": "2024-09-06T02:52:23.236Z"
   },
   {
    "duration": 239,
    "start_time": "2024-09-06T02:52:23.264Z"
   },
   {
    "duration": 349,
    "start_time": "2024-09-06T02:52:23.504Z"
   },
   {
    "duration": 7,
    "start_time": "2024-09-06T02:52:23.855Z"
   },
   {
    "duration": 602,
    "start_time": "2024-09-06T02:52:23.863Z"
   },
   {
    "duration": 14,
    "start_time": "2024-09-06T02:52:24.466Z"
   },
   {
    "duration": 22,
    "start_time": "2024-09-06T02:52:24.482Z"
   },
   {
    "duration": 315,
    "start_time": "2024-09-06T02:52:24.505Z"
   },
   {
    "duration": 280,
    "start_time": "2024-09-06T02:52:24.821Z"
   },
   {
    "duration": 218,
    "start_time": "2024-09-06T02:52:25.103Z"
   },
   {
    "duration": 37,
    "start_time": "2024-09-06T02:52:25.324Z"
   },
   {
    "duration": 179,
    "start_time": "2024-09-06T02:52:25.363Z"
   },
   {
    "duration": 172,
    "start_time": "2024-09-06T02:52:25.543Z"
   },
   {
    "duration": 6,
    "start_time": "2024-09-06T02:52:25.717Z"
   },
   {
    "duration": 955,
    "start_time": "2024-09-06T02:52:25.724Z"
   },
   {
    "duration": 256,
    "start_time": "2024-09-06T02:52:26.681Z"
   },
   {
    "duration": 350,
    "start_time": "2024-09-06T02:52:26.939Z"
   },
   {
    "duration": 406,
    "start_time": "2024-09-06T02:52:27.291Z"
   },
   {
    "duration": 421,
    "start_time": "2024-09-06T02:52:27.699Z"
   },
   {
    "duration": 416,
    "start_time": "2024-09-06T02:52:28.121Z"
   },
   {
    "duration": 15,
    "start_time": "2024-09-06T02:52:28.539Z"
   },
   {
    "duration": 6,
    "start_time": "2024-09-06T02:52:28.556Z"
   },
   {
    "duration": 5,
    "start_time": "2024-09-06T02:52:28.564Z"
   },
   {
    "duration": 7,
    "start_time": "2024-09-06T02:52:28.570Z"
   },
   {
    "duration": 7,
    "start_time": "2024-09-06T02:52:28.579Z"
   },
   {
    "duration": 11,
    "start_time": "2024-09-06T02:52:42.665Z"
   },
   {
    "duration": 1211,
    "start_time": "2024-09-06T02:52:50.358Z"
   },
   {
    "duration": 54,
    "start_time": "2024-09-06T02:52:51.571Z"
   },
   {
    "duration": 17,
    "start_time": "2024-09-06T02:52:51.627Z"
   },
   {
    "duration": 63,
    "start_time": "2024-09-06T02:52:51.646Z"
   },
   {
    "duration": 18,
    "start_time": "2024-09-06T02:52:51.711Z"
   },
   {
    "duration": 32,
    "start_time": "2024-09-06T02:52:51.730Z"
   },
   {
    "duration": 660,
    "start_time": "2024-09-06T02:52:51.763Z"
   },
   {
    "duration": 3,
    "start_time": "2024-09-06T02:52:52.425Z"
   },
   {
    "duration": 15,
    "start_time": "2024-09-06T02:52:52.429Z"
   },
   {
    "duration": 4,
    "start_time": "2024-09-06T02:52:52.452Z"
   },
   {
    "duration": 199,
    "start_time": "2024-09-06T02:52:52.458Z"
   },
   {
    "duration": 12,
    "start_time": "2024-09-06T02:52:52.658Z"
   },
   {
    "duration": 13,
    "start_time": "2024-09-06T02:52:52.671Z"
   },
   {
    "duration": 22,
    "start_time": "2024-09-06T02:52:52.685Z"
   },
   {
    "duration": 5,
    "start_time": "2024-09-06T02:52:52.709Z"
   },
   {
    "duration": 8,
    "start_time": "2024-09-06T02:52:52.715Z"
   },
   {
    "duration": 9,
    "start_time": "2024-09-06T02:52:52.725Z"
   },
   {
    "duration": 19,
    "start_time": "2024-09-06T02:52:52.735Z"
   },
   {
    "duration": 14,
    "start_time": "2024-09-06T02:52:52.755Z"
   },
   {
    "duration": 10,
    "start_time": "2024-09-06T02:52:52.771Z"
   },
   {
    "duration": 8,
    "start_time": "2024-09-06T02:52:52.783Z"
   },
   {
    "duration": 28,
    "start_time": "2024-09-06T02:52:52.792Z"
   },
   {
    "duration": 19,
    "start_time": "2024-09-06T02:52:52.821Z"
   },
   {
    "duration": 12,
    "start_time": "2024-09-06T02:52:52.852Z"
   },
   {
    "duration": 22,
    "start_time": "2024-09-06T02:52:52.865Z"
   },
   {
    "duration": 9,
    "start_time": "2024-09-06T02:52:52.888Z"
   },
   {
    "duration": 11,
    "start_time": "2024-09-06T02:52:52.898Z"
   },
   {
    "duration": 41,
    "start_time": "2024-09-06T02:52:52.912Z"
   },
   {
    "duration": 22,
    "start_time": "2024-09-06T02:52:52.955Z"
   },
   {
    "duration": 28,
    "start_time": "2024-09-06T02:52:52.979Z"
   },
   {
    "duration": 16,
    "start_time": "2024-09-06T02:52:53.009Z"
   },
   {
    "duration": 219,
    "start_time": "2024-09-06T02:52:53.026Z"
   },
   {
    "duration": 355,
    "start_time": "2024-09-06T02:52:53.246Z"
   },
   {
    "duration": 9,
    "start_time": "2024-09-06T02:52:53.603Z"
   },
   {
    "duration": 591,
    "start_time": "2024-09-06T02:52:53.614Z"
   },
   {
    "duration": 14,
    "start_time": "2024-09-06T02:52:54.207Z"
   },
   {
    "duration": 31,
    "start_time": "2024-09-06T02:52:54.223Z"
   },
   {
    "duration": 308,
    "start_time": "2024-09-06T02:52:54.256Z"
   },
   {
    "duration": 296,
    "start_time": "2024-09-06T02:52:54.565Z"
   },
   {
    "duration": 217,
    "start_time": "2024-09-06T02:52:54.863Z"
   },
   {
    "duration": 27,
    "start_time": "2024-09-06T02:52:55.081Z"
   },
   {
    "duration": 191,
    "start_time": "2024-09-06T02:52:55.109Z"
   },
   {
    "duration": 168,
    "start_time": "2024-09-06T02:52:55.302Z"
   },
   {
    "duration": 6,
    "start_time": "2024-09-06T02:52:55.472Z"
   },
   {
    "duration": 1022,
    "start_time": "2024-09-06T02:52:55.479Z"
   },
   {
    "duration": 242,
    "start_time": "2024-09-06T02:52:56.503Z"
   },
   {
    "duration": 307,
    "start_time": "2024-09-06T02:52:56.747Z"
   },
   {
    "duration": 424,
    "start_time": "2024-09-06T02:52:57.056Z"
   },
   {
    "duration": 409,
    "start_time": "2024-09-06T02:52:57.482Z"
   },
   {
    "duration": 436,
    "start_time": "2024-09-06T02:52:57.892Z"
   },
   {
    "duration": 6,
    "start_time": "2024-09-06T02:52:58.329Z"
   },
   {
    "duration": 18,
    "start_time": "2024-09-06T02:52:58.336Z"
   },
   {
    "duration": 6,
    "start_time": "2024-09-06T02:52:58.356Z"
   },
   {
    "duration": 9,
    "start_time": "2024-09-06T02:52:58.363Z"
   },
   {
    "duration": 12,
    "start_time": "2024-09-06T02:52:58.374Z"
   },
   {
    "duration": 95,
    "start_time": "2024-09-06T02:54:59.314Z"
   },
   {
    "duration": 14,
    "start_time": "2024-09-06T02:55:07.265Z"
   },
   {
    "duration": 1187,
    "start_time": "2024-09-06T02:55:14.083Z"
   },
   {
    "duration": 56,
    "start_time": "2024-09-06T02:55:15.272Z"
   },
   {
    "duration": 20,
    "start_time": "2024-09-06T02:55:15.330Z"
   },
   {
    "duration": 95,
    "start_time": "2024-09-06T02:55:15.352Z"
   },
   {
    "duration": 125,
    "start_time": "2024-09-06T02:55:15.449Z"
   },
   {
    "duration": 70,
    "start_time": "2024-09-06T02:55:15.575Z"
   },
   {
    "duration": 699,
    "start_time": "2024-09-06T02:55:15.647Z"
   },
   {
    "duration": 3,
    "start_time": "2024-09-06T02:55:16.348Z"
   },
   {
    "duration": 16,
    "start_time": "2024-09-06T02:55:16.352Z"
   },
   {
    "duration": 10,
    "start_time": "2024-09-06T02:55:16.371Z"
   },
   {
    "duration": 190,
    "start_time": "2024-09-06T02:55:16.382Z"
   },
   {
    "duration": 24,
    "start_time": "2024-09-06T02:55:16.574Z"
   },
   {
    "duration": 107,
    "start_time": "2024-09-06T02:55:16.599Z"
   },
   {
    "duration": 31,
    "start_time": "2024-09-06T02:55:16.707Z"
   },
   {
    "duration": 22,
    "start_time": "2024-09-06T02:55:16.739Z"
   },
   {
    "duration": 14,
    "start_time": "2024-09-06T02:55:16.762Z"
   },
   {
    "duration": 22,
    "start_time": "2024-09-06T02:55:16.777Z"
   },
   {
    "duration": 19,
    "start_time": "2024-09-06T02:55:16.801Z"
   },
   {
    "duration": 23,
    "start_time": "2024-09-06T02:55:16.822Z"
   },
   {
    "duration": 20,
    "start_time": "2024-09-06T02:55:16.847Z"
   },
   {
    "duration": 23,
    "start_time": "2024-09-06T02:55:16.868Z"
   },
   {
    "duration": 32,
    "start_time": "2024-09-06T02:55:16.893Z"
   },
   {
    "duration": 19,
    "start_time": "2024-09-06T02:55:16.927Z"
   },
   {
    "duration": 11,
    "start_time": "2024-09-06T02:55:16.948Z"
   },
   {
    "duration": 20,
    "start_time": "2024-09-06T02:55:16.960Z"
   },
   {
    "duration": 14,
    "start_time": "2024-09-06T02:55:16.982Z"
   },
   {
    "duration": 11,
    "start_time": "2024-09-06T02:55:16.997Z"
   },
   {
    "duration": 14,
    "start_time": "2024-09-06T02:55:17.012Z"
   },
   {
    "duration": 27,
    "start_time": "2024-09-06T02:55:17.028Z"
   },
   {
    "duration": 56,
    "start_time": "2024-09-06T02:55:17.057Z"
   },
   {
    "duration": 24,
    "start_time": "2024-09-06T02:55:17.115Z"
   },
   {
    "duration": 251,
    "start_time": "2024-09-06T02:55:17.141Z"
   },
   {
    "duration": 337,
    "start_time": "2024-09-06T02:55:17.393Z"
   },
   {
    "duration": 7,
    "start_time": "2024-09-06T02:55:17.732Z"
   },
   {
    "duration": 594,
    "start_time": "2024-09-06T02:55:17.740Z"
   },
   {
    "duration": 23,
    "start_time": "2024-09-06T02:55:18.336Z"
   },
   {
    "duration": 18,
    "start_time": "2024-09-06T02:55:18.361Z"
   },
   {
    "duration": 307,
    "start_time": "2024-09-06T02:55:18.381Z"
   },
   {
    "duration": 270,
    "start_time": "2024-09-06T02:55:18.689Z"
   },
   {
    "duration": 218,
    "start_time": "2024-09-06T02:55:18.961Z"
   },
   {
    "duration": 26,
    "start_time": "2024-09-06T02:55:19.181Z"
   },
   {
    "duration": 186,
    "start_time": "2024-09-06T02:55:19.209Z"
   },
   {
    "duration": 179,
    "start_time": "2024-09-06T02:55:19.396Z"
   },
   {
    "duration": 6,
    "start_time": "2024-09-06T02:55:19.576Z"
   },
   {
    "duration": 1014,
    "start_time": "2024-09-06T02:55:19.583Z"
   },
   {
    "duration": 591,
    "start_time": "2024-09-06T02:55:20.598Z"
   },
   {
    "duration": 672,
    "start_time": "2024-09-06T02:55:21.190Z"
   },
   {
    "duration": 415,
    "start_time": "2024-09-06T02:55:21.864Z"
   },
   {
    "duration": 416,
    "start_time": "2024-09-06T02:55:22.280Z"
   },
   {
    "duration": 446,
    "start_time": "2024-09-06T02:55:22.698Z"
   },
   {
    "duration": 7,
    "start_time": "2024-09-06T02:55:23.152Z"
   },
   {
    "duration": 11,
    "start_time": "2024-09-06T02:55:23.160Z"
   },
   {
    "duration": 14,
    "start_time": "2024-09-06T02:55:23.173Z"
   },
   {
    "duration": 25,
    "start_time": "2024-09-06T02:55:23.189Z"
   },
   {
    "duration": 36,
    "start_time": "2024-09-06T02:55:23.215Z"
   },
   {
    "duration": 1114,
    "start_time": "2024-09-06T02:58:36.461Z"
   },
   {
    "duration": 56,
    "start_time": "2024-09-06T02:58:37.577Z"
   },
   {
    "duration": 19,
    "start_time": "2024-09-06T02:58:37.635Z"
   },
   {
    "duration": 28,
    "start_time": "2024-09-06T02:58:37.656Z"
   },
   {
    "duration": 7,
    "start_time": "2024-09-06T02:58:37.686Z"
   },
   {
    "duration": 40,
    "start_time": "2024-09-06T02:58:37.695Z"
   },
   {
    "duration": 651,
    "start_time": "2024-09-06T02:58:37.737Z"
   },
   {
    "duration": 3,
    "start_time": "2024-09-06T02:58:38.390Z"
   },
   {
    "duration": 34,
    "start_time": "2024-09-06T02:58:38.394Z"
   },
   {
    "duration": 5,
    "start_time": "2024-09-06T02:58:38.430Z"
   },
   {
    "duration": 176,
    "start_time": "2024-09-06T02:58:38.436Z"
   },
   {
    "duration": 26,
    "start_time": "2024-09-06T02:58:38.613Z"
   },
   {
    "duration": 71,
    "start_time": "2024-09-06T02:58:38.641Z"
   },
   {
    "duration": 33,
    "start_time": "2024-09-06T02:58:38.713Z"
   },
   {
    "duration": 6,
    "start_time": "2024-09-06T02:58:38.748Z"
   },
   {
    "duration": 10,
    "start_time": "2024-09-06T02:58:38.755Z"
   },
   {
    "duration": 6,
    "start_time": "2024-09-06T02:58:38.766Z"
   },
   {
    "duration": 12,
    "start_time": "2024-09-06T02:58:38.773Z"
   },
   {
    "duration": 11,
    "start_time": "2024-09-06T02:58:38.786Z"
   },
   {
    "duration": 12,
    "start_time": "2024-09-06T02:58:38.798Z"
   },
   {
    "duration": 23,
    "start_time": "2024-09-06T02:58:38.811Z"
   },
   {
    "duration": 43,
    "start_time": "2024-09-06T02:58:38.836Z"
   },
   {
    "duration": 20,
    "start_time": "2024-09-06T02:58:38.880Z"
   },
   {
    "duration": 10,
    "start_time": "2024-09-06T02:58:38.901Z"
   },
   {
    "duration": 28,
    "start_time": "2024-09-06T02:58:38.913Z"
   },
   {
    "duration": 16,
    "start_time": "2024-09-06T02:58:38.943Z"
   },
   {
    "duration": 13,
    "start_time": "2024-09-06T02:58:38.960Z"
   },
   {
    "duration": 18,
    "start_time": "2024-09-06T02:58:38.976Z"
   },
   {
    "duration": 116,
    "start_time": "2024-09-06T02:58:38.995Z"
   },
   {
    "duration": 0,
    "start_time": "2024-09-06T02:58:39.112Z"
   },
   {
    "duration": 0,
    "start_time": "2024-09-06T02:58:39.113Z"
   },
   {
    "duration": 0,
    "start_time": "2024-09-06T02:58:39.114Z"
   },
   {
    "duration": 0,
    "start_time": "2024-09-06T02:58:39.115Z"
   },
   {
    "duration": 0,
    "start_time": "2024-09-06T02:58:39.116Z"
   },
   {
    "duration": 0,
    "start_time": "2024-09-06T02:58:39.117Z"
   },
   {
    "duration": 0,
    "start_time": "2024-09-06T02:58:39.118Z"
   },
   {
    "duration": 0,
    "start_time": "2024-09-06T02:58:39.119Z"
   },
   {
    "duration": 0,
    "start_time": "2024-09-06T02:58:39.120Z"
   },
   {
    "duration": 0,
    "start_time": "2024-09-06T02:58:39.121Z"
   },
   {
    "duration": 0,
    "start_time": "2024-09-06T02:58:39.122Z"
   },
   {
    "duration": 0,
    "start_time": "2024-09-06T02:58:39.123Z"
   },
   {
    "duration": 0,
    "start_time": "2024-09-06T02:58:39.123Z"
   },
   {
    "duration": 0,
    "start_time": "2024-09-06T02:58:39.124Z"
   },
   {
    "duration": 0,
    "start_time": "2024-09-06T02:58:39.125Z"
   },
   {
    "duration": 0,
    "start_time": "2024-09-06T02:58:39.126Z"
   },
   {
    "duration": 0,
    "start_time": "2024-09-06T02:58:39.153Z"
   },
   {
    "duration": 0,
    "start_time": "2024-09-06T02:58:39.154Z"
   },
   {
    "duration": 0,
    "start_time": "2024-09-06T02:58:39.155Z"
   },
   {
    "duration": 0,
    "start_time": "2024-09-06T02:58:39.156Z"
   },
   {
    "duration": 0,
    "start_time": "2024-09-06T02:58:39.157Z"
   },
   {
    "duration": 0,
    "start_time": "2024-09-06T02:58:39.157Z"
   },
   {
    "duration": 0,
    "start_time": "2024-09-06T02:58:39.158Z"
   },
   {
    "duration": 0,
    "start_time": "2024-09-06T02:58:39.159Z"
   },
   {
    "duration": 0,
    "start_time": "2024-09-06T02:58:39.160Z"
   },
   {
    "duration": 0,
    "start_time": "2024-09-06T02:58:39.162Z"
   },
   {
    "duration": 12,
    "start_time": "2024-09-06T03:03:41.040Z"
   },
   {
    "duration": 26,
    "start_time": "2024-09-06T03:03:57.820Z"
   },
   {
    "duration": 12,
    "start_time": "2024-09-06T03:04:04.718Z"
   },
   {
    "duration": 1130,
    "start_time": "2024-09-06T03:07:22.362Z"
   },
   {
    "duration": 59,
    "start_time": "2024-09-06T03:07:23.494Z"
   },
   {
    "duration": 38,
    "start_time": "2024-09-06T03:07:23.555Z"
   },
   {
    "duration": 14,
    "start_time": "2024-09-06T03:07:23.595Z"
   },
   {
    "duration": 22,
    "start_time": "2024-09-06T03:07:23.611Z"
   },
   {
    "duration": 45,
    "start_time": "2024-09-06T03:07:23.634Z"
   },
   {
    "duration": 647,
    "start_time": "2024-09-06T03:07:23.681Z"
   },
   {
    "duration": 4,
    "start_time": "2024-09-06T03:07:24.329Z"
   },
   {
    "duration": 36,
    "start_time": "2024-09-06T03:07:24.334Z"
   },
   {
    "duration": 18,
    "start_time": "2024-09-06T03:07:24.372Z"
   },
   {
    "duration": 183,
    "start_time": "2024-09-06T03:07:24.392Z"
   },
   {
    "duration": 13,
    "start_time": "2024-09-06T03:07:24.576Z"
   },
   {
    "duration": 7,
    "start_time": "2024-09-06T03:07:24.591Z"
   },
   {
    "duration": 27,
    "start_time": "2024-09-06T03:07:24.599Z"
   },
   {
    "duration": 18,
    "start_time": "2024-09-06T03:07:24.627Z"
   },
   {
    "duration": 15,
    "start_time": "2024-09-06T03:07:24.647Z"
   },
   {
    "duration": 5,
    "start_time": "2024-09-06T03:07:24.663Z"
   },
   {
    "duration": 23,
    "start_time": "2024-09-06T03:07:24.670Z"
   },
   {
    "duration": 79,
    "start_time": "2024-09-06T03:07:24.694Z"
   },
   {
    "duration": 5,
    "start_time": "2024-09-06T03:07:24.775Z"
   },
   {
    "duration": 14,
    "start_time": "2024-09-06T03:07:24.781Z"
   },
   {
    "duration": 36,
    "start_time": "2024-09-06T03:07:24.796Z"
   },
   {
    "duration": 19,
    "start_time": "2024-09-06T03:07:24.834Z"
   },
   {
    "duration": 10,
    "start_time": "2024-09-06T03:07:24.854Z"
   },
   {
    "duration": 34,
    "start_time": "2024-09-06T03:07:24.865Z"
   },
   {
    "duration": 9,
    "start_time": "2024-09-06T03:07:24.900Z"
   },
   {
    "duration": 11,
    "start_time": "2024-09-06T03:07:24.910Z"
   },
   {
    "duration": 13,
    "start_time": "2024-09-06T03:07:24.924Z"
   },
   {
    "duration": 116,
    "start_time": "2024-09-06T03:07:24.939Z"
   },
   {
    "duration": 0,
    "start_time": "2024-09-06T03:07:25.057Z"
   },
   {
    "duration": 0,
    "start_time": "2024-09-06T03:07:25.058Z"
   },
   {
    "duration": 0,
    "start_time": "2024-09-06T03:07:25.059Z"
   },
   {
    "duration": 0,
    "start_time": "2024-09-06T03:07:25.060Z"
   },
   {
    "duration": 0,
    "start_time": "2024-09-06T03:07:25.062Z"
   },
   {
    "duration": 0,
    "start_time": "2024-09-06T03:07:25.062Z"
   },
   {
    "duration": 0,
    "start_time": "2024-09-06T03:07:25.063Z"
   },
   {
    "duration": 0,
    "start_time": "2024-09-06T03:07:25.064Z"
   },
   {
    "duration": 0,
    "start_time": "2024-09-06T03:07:25.065Z"
   },
   {
    "duration": 0,
    "start_time": "2024-09-06T03:07:25.066Z"
   },
   {
    "duration": 0,
    "start_time": "2024-09-06T03:07:25.067Z"
   },
   {
    "duration": 0,
    "start_time": "2024-09-06T03:07:25.068Z"
   },
   {
    "duration": 0,
    "start_time": "2024-09-06T03:07:25.069Z"
   },
   {
    "duration": 0,
    "start_time": "2024-09-06T03:07:25.070Z"
   },
   {
    "duration": 0,
    "start_time": "2024-09-06T03:07:25.071Z"
   },
   {
    "duration": 0,
    "start_time": "2024-09-06T03:07:25.072Z"
   },
   {
    "duration": 0,
    "start_time": "2024-09-06T03:07:25.073Z"
   },
   {
    "duration": 0,
    "start_time": "2024-09-06T03:07:25.074Z"
   },
   {
    "duration": 0,
    "start_time": "2024-09-06T03:07:25.075Z"
   },
   {
    "duration": 0,
    "start_time": "2024-09-06T03:07:25.076Z"
   },
   {
    "duration": 0,
    "start_time": "2024-09-06T03:07:25.077Z"
   },
   {
    "duration": 0,
    "start_time": "2024-09-06T03:07:25.077Z"
   },
   {
    "duration": 0,
    "start_time": "2024-09-06T03:07:25.078Z"
   },
   {
    "duration": 0,
    "start_time": "2024-09-06T03:07:25.079Z"
   },
   {
    "duration": 0,
    "start_time": "2024-09-06T03:07:25.080Z"
   },
   {
    "duration": 0,
    "start_time": "2024-09-06T03:07:25.082Z"
   },
   {
    "duration": 1427,
    "start_time": "2024-09-06T05:45:02.142Z"
   },
   {
    "duration": 215,
    "start_time": "2024-09-06T05:45:03.571Z"
   },
   {
    "duration": 20,
    "start_time": "2024-09-06T05:45:03.788Z"
   },
   {
    "duration": 25,
    "start_time": "2024-09-06T05:45:03.810Z"
   },
   {
    "duration": 25,
    "start_time": "2024-09-06T05:45:03.837Z"
   },
   {
    "duration": 62,
    "start_time": "2024-09-06T05:45:03.863Z"
   },
   {
    "duration": 668,
    "start_time": "2024-09-06T05:45:03.927Z"
   },
   {
    "duration": 4,
    "start_time": "2024-09-06T05:45:04.597Z"
   },
   {
    "duration": 23,
    "start_time": "2024-09-06T05:45:04.602Z"
   },
   {
    "duration": 10,
    "start_time": "2024-09-06T05:45:04.626Z"
   },
   {
    "duration": 183,
    "start_time": "2024-09-06T05:45:04.637Z"
   },
   {
    "duration": 12,
    "start_time": "2024-09-06T05:45:04.822Z"
   },
   {
    "duration": 24,
    "start_time": "2024-09-06T05:45:04.835Z"
   },
   {
    "duration": 31,
    "start_time": "2024-09-06T05:45:04.862Z"
   },
   {
    "duration": 22,
    "start_time": "2024-09-06T05:45:04.895Z"
   },
   {
    "duration": 74,
    "start_time": "2024-09-06T05:45:04.919Z"
   },
   {
    "duration": 0,
    "start_time": "2024-09-06T05:45:04.995Z"
   },
   {
    "duration": 0,
    "start_time": "2024-09-06T05:45:04.996Z"
   },
   {
    "duration": 0,
    "start_time": "2024-09-06T05:45:04.998Z"
   },
   {
    "duration": 0,
    "start_time": "2024-09-06T05:45:04.999Z"
   },
   {
    "duration": 0,
    "start_time": "2024-09-06T05:45:05.001Z"
   },
   {
    "duration": 0,
    "start_time": "2024-09-06T05:45:05.002Z"
   },
   {
    "duration": 0,
    "start_time": "2024-09-06T05:45:05.004Z"
   },
   {
    "duration": 0,
    "start_time": "2024-09-06T05:45:05.005Z"
   },
   {
    "duration": 0,
    "start_time": "2024-09-06T05:45:05.007Z"
   },
   {
    "duration": 0,
    "start_time": "2024-09-06T05:45:05.008Z"
   },
   {
    "duration": 1,
    "start_time": "2024-09-06T05:45:05.009Z"
   },
   {
    "duration": 0,
    "start_time": "2024-09-06T05:45:05.011Z"
   },
   {
    "duration": 0,
    "start_time": "2024-09-06T05:45:05.012Z"
   },
   {
    "duration": 0,
    "start_time": "2024-09-06T05:45:05.014Z"
   },
   {
    "duration": 0,
    "start_time": "2024-09-06T05:45:05.015Z"
   },
   {
    "duration": 0,
    "start_time": "2024-09-06T05:45:05.017Z"
   },
   {
    "duration": 0,
    "start_time": "2024-09-06T05:45:05.018Z"
   },
   {
    "duration": 0,
    "start_time": "2024-09-06T05:45:05.020Z"
   },
   {
    "duration": 0,
    "start_time": "2024-09-06T05:45:05.022Z"
   },
   {
    "duration": 0,
    "start_time": "2024-09-06T05:45:05.024Z"
   },
   {
    "duration": 0,
    "start_time": "2024-09-06T05:45:05.026Z"
   },
   {
    "duration": 0,
    "start_time": "2024-09-06T05:45:05.028Z"
   },
   {
    "duration": 0,
    "start_time": "2024-09-06T05:45:05.029Z"
   },
   {
    "duration": 0,
    "start_time": "2024-09-06T05:45:05.031Z"
   },
   {
    "duration": 0,
    "start_time": "2024-09-06T05:45:05.032Z"
   },
   {
    "duration": 0,
    "start_time": "2024-09-06T05:45:05.034Z"
   },
   {
    "duration": 0,
    "start_time": "2024-09-06T05:45:05.036Z"
   },
   {
    "duration": 0,
    "start_time": "2024-09-06T05:45:05.037Z"
   },
   {
    "duration": 0,
    "start_time": "2024-09-06T05:45:05.039Z"
   },
   {
    "duration": 0,
    "start_time": "2024-09-06T05:45:05.040Z"
   },
   {
    "duration": 0,
    "start_time": "2024-09-06T05:45:05.041Z"
   },
   {
    "duration": 0,
    "start_time": "2024-09-06T05:45:05.043Z"
   },
   {
    "duration": 0,
    "start_time": "2024-09-06T05:45:05.044Z"
   },
   {
    "duration": 0,
    "start_time": "2024-09-06T05:45:05.046Z"
   },
   {
    "duration": 0,
    "start_time": "2024-09-06T05:45:05.047Z"
   },
   {
    "duration": 0,
    "start_time": "2024-09-06T05:45:05.048Z"
   },
   {
    "duration": 0,
    "start_time": "2024-09-06T05:45:05.050Z"
   },
   {
    "duration": 0,
    "start_time": "2024-09-06T05:45:05.051Z"
   },
   {
    "duration": 0,
    "start_time": "2024-09-06T05:45:05.052Z"
   },
   {
    "duration": 0,
    "start_time": "2024-09-06T05:45:05.054Z"
   },
   {
    "duration": 1213,
    "start_time": "2024-09-06T05:59:07.521Z"
   },
   {
    "duration": 59,
    "start_time": "2024-09-06T05:59:08.737Z"
   },
   {
    "duration": 18,
    "start_time": "2024-09-06T05:59:08.797Z"
   },
   {
    "duration": 28,
    "start_time": "2024-09-06T05:59:08.818Z"
   },
   {
    "duration": 7,
    "start_time": "2024-09-06T05:59:08.847Z"
   },
   {
    "duration": 30,
    "start_time": "2024-09-06T05:59:08.856Z"
   },
   {
    "duration": 690,
    "start_time": "2024-09-06T05:59:08.888Z"
   },
   {
    "duration": 4,
    "start_time": "2024-09-06T05:59:09.579Z"
   },
   {
    "duration": 24,
    "start_time": "2024-09-06T05:59:09.585Z"
   },
   {
    "duration": 8,
    "start_time": "2024-09-06T05:59:09.612Z"
   },
   {
    "duration": 197,
    "start_time": "2024-09-06T05:59:09.622Z"
   },
   {
    "duration": 11,
    "start_time": "2024-09-06T05:59:09.821Z"
   },
   {
    "duration": 8,
    "start_time": "2024-09-06T05:59:09.833Z"
   },
   {
    "duration": 12,
    "start_time": "2024-09-06T05:59:09.842Z"
   },
   {
    "duration": 11,
    "start_time": "2024-09-06T05:59:09.855Z"
   },
   {
    "duration": 25,
    "start_time": "2024-09-06T05:59:09.868Z"
   },
   {
    "duration": 9,
    "start_time": "2024-09-06T05:59:09.894Z"
   },
   {
    "duration": 17,
    "start_time": "2024-09-06T05:59:09.904Z"
   },
   {
    "duration": 5,
    "start_time": "2024-09-06T05:59:09.923Z"
   },
   {
    "duration": 5,
    "start_time": "2024-09-06T05:59:09.930Z"
   },
   {
    "duration": 7,
    "start_time": "2024-09-06T05:59:09.937Z"
   },
   {
    "duration": 27,
    "start_time": "2024-09-06T05:59:09.946Z"
   },
   {
    "duration": 50,
    "start_time": "2024-09-06T05:59:09.975Z"
   },
   {
    "duration": 11,
    "start_time": "2024-09-06T05:59:10.026Z"
   },
   {
    "duration": 16,
    "start_time": "2024-09-06T05:59:10.038Z"
   },
   {
    "duration": 8,
    "start_time": "2024-09-06T05:59:10.056Z"
   },
   {
    "duration": 11,
    "start_time": "2024-09-06T05:59:10.065Z"
   },
   {
    "duration": 41,
    "start_time": "2024-09-06T05:59:10.080Z"
   },
   {
    "duration": 7,
    "start_time": "2024-09-06T05:59:10.122Z"
   },
   {
    "duration": 21,
    "start_time": "2024-09-06T05:59:10.131Z"
   },
   {
    "duration": 16,
    "start_time": "2024-09-06T05:59:10.153Z"
   },
   {
    "duration": 241,
    "start_time": "2024-09-06T05:59:10.171Z"
   },
   {
    "duration": 372,
    "start_time": "2024-09-06T05:59:10.414Z"
   },
   {
    "duration": 8,
    "start_time": "2024-09-06T05:59:10.788Z"
   },
   {
    "duration": 620,
    "start_time": "2024-09-06T05:59:10.797Z"
   },
   {
    "duration": 19,
    "start_time": "2024-09-06T05:59:11.420Z"
   },
   {
    "duration": 18,
    "start_time": "2024-09-06T05:59:11.441Z"
   },
   {
    "duration": 338,
    "start_time": "2024-09-06T05:59:11.461Z"
   },
   {
    "duration": 292,
    "start_time": "2024-09-06T05:59:11.801Z"
   },
   {
    "duration": 228,
    "start_time": "2024-09-06T05:59:12.095Z"
   },
   {
    "duration": 28,
    "start_time": "2024-09-06T05:59:12.324Z"
   },
   {
    "duration": 191,
    "start_time": "2024-09-06T05:59:12.353Z"
   },
   {
    "duration": 179,
    "start_time": "2024-09-06T05:59:12.546Z"
   },
   {
    "duration": 5,
    "start_time": "2024-09-06T05:59:12.727Z"
   },
   {
    "duration": 1013,
    "start_time": "2024-09-06T05:59:12.734Z"
   },
   {
    "duration": 280,
    "start_time": "2024-09-06T05:59:13.749Z"
   },
   {
    "duration": 349,
    "start_time": "2024-09-06T05:59:14.030Z"
   },
   {
    "duration": 402,
    "start_time": "2024-09-06T05:59:14.381Z"
   },
   {
    "duration": 452,
    "start_time": "2024-09-06T05:59:14.785Z"
   },
   {
    "duration": 463,
    "start_time": "2024-09-06T05:59:15.239Z"
   },
   {
    "duration": 5,
    "start_time": "2024-09-06T05:59:15.704Z"
   },
   {
    "duration": 6,
    "start_time": "2024-09-06T05:59:15.720Z"
   },
   {
    "duration": 7,
    "start_time": "2024-09-06T05:59:15.728Z"
   },
   {
    "duration": 17,
    "start_time": "2024-09-06T05:59:15.737Z"
   },
   {
    "duration": 59,
    "start_time": "2024-09-06T05:59:15.756Z"
   },
   {
    "duration": 114,
    "start_time": "2024-09-06T06:02:00.620Z"
   },
   {
    "duration": 16,
    "start_time": "2024-09-06T06:02:23.792Z"
   },
   {
    "duration": 16,
    "start_time": "2024-09-06T06:02:46.766Z"
   },
   {
    "duration": 8,
    "start_time": "2024-09-06T08:50:19.064Z"
   },
   {
    "duration": 1230,
    "start_time": "2024-09-06T08:50:23.515Z"
   },
   {
    "duration": 60,
    "start_time": "2024-09-06T08:50:24.747Z"
   },
   {
    "duration": 18,
    "start_time": "2024-09-06T08:50:24.808Z"
   },
   {
    "duration": 21,
    "start_time": "2024-09-06T08:50:24.828Z"
   },
   {
    "duration": 7,
    "start_time": "2024-09-06T08:50:24.851Z"
   },
   {
    "duration": 31,
    "start_time": "2024-09-06T08:50:24.859Z"
   },
   {
    "duration": 718,
    "start_time": "2024-09-06T08:50:24.892Z"
   },
   {
    "duration": 8,
    "start_time": "2024-09-06T08:50:25.612Z"
   },
   {
    "duration": 42,
    "start_time": "2024-09-06T08:50:25.622Z"
   },
   {
    "duration": 22,
    "start_time": "2024-09-06T08:50:25.666Z"
   },
   {
    "duration": 220,
    "start_time": "2024-09-06T08:50:25.689Z"
   },
   {
    "duration": 12,
    "start_time": "2024-09-06T08:50:25.911Z"
   },
   {
    "duration": 38,
    "start_time": "2024-09-06T08:50:25.925Z"
   },
   {
    "duration": 81,
    "start_time": "2024-09-06T08:50:25.965Z"
   },
   {
    "duration": 7,
    "start_time": "2024-09-06T08:50:26.048Z"
   },
   {
    "duration": 13,
    "start_time": "2024-09-06T08:50:26.057Z"
   },
   {
    "duration": 9,
    "start_time": "2024-09-06T08:50:26.072Z"
   },
   {
    "duration": 12,
    "start_time": "2024-09-06T08:50:26.083Z"
   },
   {
    "duration": 40,
    "start_time": "2024-09-06T08:50:26.096Z"
   },
   {
    "duration": 14,
    "start_time": "2024-09-06T08:50:26.138Z"
   },
   {
    "duration": 20,
    "start_time": "2024-09-06T08:50:26.153Z"
   },
   {
    "duration": 39,
    "start_time": "2024-09-06T08:50:26.175Z"
   },
   {
    "duration": 38,
    "start_time": "2024-09-06T08:50:26.216Z"
   },
   {
    "duration": 11,
    "start_time": "2024-09-06T08:50:26.256Z"
   },
   {
    "duration": 17,
    "start_time": "2024-09-06T08:50:26.269Z"
   },
   {
    "duration": 10,
    "start_time": "2024-09-06T08:50:26.288Z"
   },
   {
    "duration": 20,
    "start_time": "2024-09-06T08:50:26.299Z"
   },
   {
    "duration": 41,
    "start_time": "2024-09-06T08:50:26.323Z"
   },
   {
    "duration": 7,
    "start_time": "2024-09-06T08:50:26.366Z"
   },
   {
    "duration": 14,
    "start_time": "2024-09-06T08:50:26.374Z"
   },
   {
    "duration": 16,
    "start_time": "2024-09-06T08:50:26.390Z"
   },
   {
    "duration": 254,
    "start_time": "2024-09-06T08:50:26.408Z"
   },
   {
    "duration": 364,
    "start_time": "2024-09-06T08:50:26.664Z"
   },
   {
    "duration": 7,
    "start_time": "2024-09-06T08:50:27.030Z"
   },
   {
    "duration": 609,
    "start_time": "2024-09-06T08:50:27.039Z"
   },
   {
    "duration": 17,
    "start_time": "2024-09-06T08:50:27.650Z"
   },
   {
    "duration": 40,
    "start_time": "2024-09-06T08:50:27.668Z"
   },
   {
    "duration": 16,
    "start_time": "2024-09-06T08:50:27.710Z"
   },
   {
    "duration": 36,
    "start_time": "2024-09-06T08:50:27.728Z"
   },
   {
    "duration": 312,
    "start_time": "2024-09-06T08:50:27.767Z"
   },
   {
    "duration": 282,
    "start_time": "2024-09-06T08:50:28.081Z"
   },
   {
    "duration": 214,
    "start_time": "2024-09-06T08:50:28.365Z"
   },
   {
    "duration": 25,
    "start_time": "2024-09-06T08:50:28.581Z"
   },
   {
    "duration": 188,
    "start_time": "2024-09-06T08:50:28.608Z"
   },
   {
    "duration": 182,
    "start_time": "2024-09-06T08:50:28.798Z"
   },
   {
    "duration": 6,
    "start_time": "2024-09-06T08:50:28.981Z"
   },
   {
    "duration": 1436,
    "start_time": "2024-09-06T08:50:28.989Z"
   },
   {
    "duration": 515,
    "start_time": "2024-09-06T08:50:30.426Z"
   },
   {
    "duration": 415,
    "start_time": "2024-09-06T08:50:30.942Z"
   },
   {
    "duration": 414,
    "start_time": "2024-09-06T08:50:31.359Z"
   },
   {
    "duration": 425,
    "start_time": "2024-09-06T08:50:31.775Z"
   },
   {
    "duration": 431,
    "start_time": "2024-09-06T08:50:32.202Z"
   },
   {
    "duration": 5,
    "start_time": "2024-09-06T08:50:32.635Z"
   },
   {
    "duration": 30,
    "start_time": "2024-09-06T08:50:32.642Z"
   },
   {
    "duration": 9,
    "start_time": "2024-09-06T08:50:32.673Z"
   },
   {
    "duration": 26,
    "start_time": "2024-09-06T08:50:32.684Z"
   },
   {
    "duration": 71,
    "start_time": "2024-09-06T08:50:32.712Z"
   },
   {
    "duration": 511,
    "start_time": "2024-09-06T08:51:33.444Z"
   },
   {
    "duration": 484,
    "start_time": "2024-09-06T08:52:02.706Z"
   },
   {
    "duration": 1220,
    "start_time": "2024-09-06T08:52:25.620Z"
   },
   {
    "duration": 74,
    "start_time": "2024-09-06T08:52:26.842Z"
   },
   {
    "duration": 19,
    "start_time": "2024-09-06T08:52:26.918Z"
   },
   {
    "duration": 27,
    "start_time": "2024-09-06T08:52:26.939Z"
   },
   {
    "duration": 28,
    "start_time": "2024-09-06T08:52:26.967Z"
   },
   {
    "duration": 41,
    "start_time": "2024-09-06T08:52:26.997Z"
   },
   {
    "duration": 693,
    "start_time": "2024-09-06T08:52:27.040Z"
   },
   {
    "duration": 3,
    "start_time": "2024-09-06T08:52:27.734Z"
   },
   {
    "duration": 31,
    "start_time": "2024-09-06T08:52:27.739Z"
   },
   {
    "duration": 11,
    "start_time": "2024-09-06T08:52:27.773Z"
   },
   {
    "duration": 181,
    "start_time": "2024-09-06T08:52:27.786Z"
   },
   {
    "duration": 11,
    "start_time": "2024-09-06T08:52:27.968Z"
   },
   {
    "duration": 80,
    "start_time": "2024-09-06T08:52:27.980Z"
   },
   {
    "duration": 36,
    "start_time": "2024-09-06T08:52:28.061Z"
   },
   {
    "duration": 8,
    "start_time": "2024-09-06T08:52:28.098Z"
   },
   {
    "duration": 13,
    "start_time": "2024-09-06T08:52:28.109Z"
   },
   {
    "duration": 20,
    "start_time": "2024-09-06T08:52:28.123Z"
   },
   {
    "duration": 8,
    "start_time": "2024-09-06T08:52:28.145Z"
   },
   {
    "duration": 22,
    "start_time": "2024-09-06T08:52:28.154Z"
   },
   {
    "duration": 17,
    "start_time": "2024-09-06T08:52:28.178Z"
   },
   {
    "duration": 17,
    "start_time": "2024-09-06T08:52:28.197Z"
   },
   {
    "duration": 64,
    "start_time": "2024-09-06T08:52:28.215Z"
   },
   {
    "duration": 40,
    "start_time": "2024-09-06T08:52:28.281Z"
   },
   {
    "duration": 19,
    "start_time": "2024-09-06T08:52:28.323Z"
   },
   {
    "duration": 27,
    "start_time": "2024-09-06T08:52:28.344Z"
   },
   {
    "duration": 8,
    "start_time": "2024-09-06T08:52:28.373Z"
   },
   {
    "duration": 29,
    "start_time": "2024-09-06T08:52:28.383Z"
   },
   {
    "duration": 14,
    "start_time": "2024-09-06T08:52:28.416Z"
   },
   {
    "duration": 11,
    "start_time": "2024-09-06T08:52:28.431Z"
   },
   {
    "duration": 15,
    "start_time": "2024-09-06T08:52:28.443Z"
   },
   {
    "duration": 15,
    "start_time": "2024-09-06T08:52:28.460Z"
   },
   {
    "duration": 233,
    "start_time": "2024-09-06T08:52:28.477Z"
   },
   {
    "duration": 355,
    "start_time": "2024-09-06T08:52:28.712Z"
   },
   {
    "duration": 8,
    "start_time": "2024-09-06T08:52:29.069Z"
   },
   {
    "duration": 635,
    "start_time": "2024-09-06T08:52:29.078Z"
   },
   {
    "duration": 15,
    "start_time": "2024-09-06T08:52:29.720Z"
   },
   {
    "duration": 520,
    "start_time": "2024-09-06T08:52:29.736Z"
   },
   {
    "duration": 15,
    "start_time": "2024-09-06T08:52:30.257Z"
   },
   {
    "duration": 23,
    "start_time": "2024-09-06T08:52:30.273Z"
   },
   {
    "duration": 370,
    "start_time": "2024-09-06T08:52:30.298Z"
   },
   {
    "duration": 300,
    "start_time": "2024-09-06T08:52:30.670Z"
   },
   {
    "duration": 223,
    "start_time": "2024-09-06T08:52:30.972Z"
   },
   {
    "duration": 33,
    "start_time": "2024-09-06T08:52:31.197Z"
   },
   {
    "duration": 278,
    "start_time": "2024-09-06T08:52:31.231Z"
   },
   {
    "duration": 316,
    "start_time": "2024-09-06T08:52:31.511Z"
   },
   {
    "duration": 6,
    "start_time": "2024-09-06T08:52:31.829Z"
   },
   {
    "duration": 953,
    "start_time": "2024-09-06T08:52:31.837Z"
   },
   {
    "duration": 262,
    "start_time": "2024-09-06T08:52:32.792Z"
   },
   {
    "duration": 347,
    "start_time": "2024-09-06T08:52:33.056Z"
   },
   {
    "duration": 408,
    "start_time": "2024-09-06T08:52:33.404Z"
   },
   {
    "duration": 515,
    "start_time": "2024-09-06T08:52:33.814Z"
   },
   {
    "duration": 370,
    "start_time": "2024-09-06T08:52:34.330Z"
   },
   {
    "duration": 6,
    "start_time": "2024-09-06T08:52:34.702Z"
   },
   {
    "duration": 16,
    "start_time": "2024-09-06T08:52:34.710Z"
   },
   {
    "duration": 12,
    "start_time": "2024-09-06T08:52:34.728Z"
   },
   {
    "duration": 13,
    "start_time": "2024-09-06T08:52:34.742Z"
   },
   {
    "duration": 44,
    "start_time": "2024-09-06T08:52:34.757Z"
   },
   {
    "duration": 11,
    "start_time": "2024-09-06T09:00:30.683Z"
   },
   {
    "duration": 9,
    "start_time": "2024-09-06T09:01:07.827Z"
   },
   {
    "duration": 25,
    "start_time": "2024-09-06T09:02:21.512Z"
   },
   {
    "duration": 10,
    "start_time": "2024-09-06T09:02:46.279Z"
   },
   {
    "duration": 75,
    "start_time": "2024-09-06T09:03:18.076Z"
   },
   {
    "duration": 9,
    "start_time": "2024-09-06T09:04:34.731Z"
   },
   {
    "duration": 27,
    "start_time": "2024-09-06T09:05:44.878Z"
   },
   {
    "duration": 1276,
    "start_time": "2024-09-06T09:05:51.502Z"
   },
   {
    "duration": 64,
    "start_time": "2024-09-06T09:05:52.780Z"
   },
   {
    "duration": 18,
    "start_time": "2024-09-06T09:05:52.845Z"
   },
   {
    "duration": 35,
    "start_time": "2024-09-06T09:05:52.865Z"
   },
   {
    "duration": 9,
    "start_time": "2024-09-06T09:05:52.902Z"
   },
   {
    "duration": 44,
    "start_time": "2024-09-06T09:05:52.912Z"
   },
   {
    "duration": 727,
    "start_time": "2024-09-06T09:05:52.958Z"
   },
   {
    "duration": 3,
    "start_time": "2024-09-06T09:05:53.687Z"
   },
   {
    "duration": 13,
    "start_time": "2024-09-06T09:05:53.691Z"
   },
   {
    "duration": 4,
    "start_time": "2024-09-06T09:05:53.708Z"
   },
   {
    "duration": 196,
    "start_time": "2024-09-06T09:05:53.714Z"
   },
   {
    "duration": 21,
    "start_time": "2024-09-06T09:05:53.912Z"
   },
   {
    "duration": 40,
    "start_time": "2024-09-06T09:05:53.935Z"
   },
   {
    "duration": 12,
    "start_time": "2024-09-06T09:05:53.977Z"
   },
   {
    "duration": 73,
    "start_time": "2024-09-06T09:05:53.991Z"
   },
   {
    "duration": 15,
    "start_time": "2024-09-06T09:05:54.065Z"
   },
   {
    "duration": 5,
    "start_time": "2024-09-06T09:05:54.081Z"
   },
   {
    "duration": 11,
    "start_time": "2024-09-06T09:05:54.087Z"
   },
   {
    "duration": 20,
    "start_time": "2024-09-06T09:05:54.099Z"
   },
   {
    "duration": 6,
    "start_time": "2024-09-06T09:05:54.129Z"
   },
   {
    "duration": 9,
    "start_time": "2024-09-06T09:05:54.136Z"
   },
   {
    "duration": 26,
    "start_time": "2024-09-06T09:05:54.146Z"
   },
   {
    "duration": 18,
    "start_time": "2024-09-06T09:05:54.174Z"
   },
   {
    "duration": 41,
    "start_time": "2024-09-06T09:05:54.194Z"
   },
   {
    "duration": 16,
    "start_time": "2024-09-06T09:05:54.237Z"
   },
   {
    "duration": 8,
    "start_time": "2024-09-06T09:05:54.255Z"
   },
   {
    "duration": 10,
    "start_time": "2024-09-06T09:05:54.265Z"
   },
   {
    "duration": 17,
    "start_time": "2024-09-06T09:05:54.278Z"
   },
   {
    "duration": 35,
    "start_time": "2024-09-06T09:05:54.296Z"
   },
   {
    "duration": 14,
    "start_time": "2024-09-06T09:05:54.333Z"
   },
   {
    "duration": 17,
    "start_time": "2024-09-06T09:05:54.348Z"
   },
   {
    "duration": 241,
    "start_time": "2024-09-06T09:05:54.367Z"
   },
   {
    "duration": 401,
    "start_time": "2024-09-06T09:05:54.610Z"
   },
   {
    "duration": 14,
    "start_time": "2024-09-06T09:05:55.012Z"
   },
   {
    "duration": 659,
    "start_time": "2024-09-06T09:05:55.034Z"
   },
   {
    "duration": 15,
    "start_time": "2024-09-06T09:05:55.694Z"
   },
   {
    "duration": 630,
    "start_time": "2024-09-06T09:05:55.711Z"
   },
   {
    "duration": 13,
    "start_time": "2024-09-06T09:05:56.343Z"
   },
   {
    "duration": 18,
    "start_time": "2024-09-06T09:05:56.358Z"
   },
   {
    "duration": 333,
    "start_time": "2024-09-06T09:05:56.378Z"
   },
   {
    "duration": 308,
    "start_time": "2024-09-06T09:05:56.713Z"
   },
   {
    "duration": 247,
    "start_time": "2024-09-06T09:05:57.028Z"
   },
   {
    "duration": 11,
    "start_time": "2024-09-06T09:05:57.276Z"
   },
   {
    "duration": 70,
    "start_time": "2024-09-06T09:05:57.289Z"
   },
   {
    "duration": 0,
    "start_time": "2024-09-06T09:05:57.360Z"
   },
   {
    "duration": 0,
    "start_time": "2024-09-06T09:05:57.362Z"
   },
   {
    "duration": 0,
    "start_time": "2024-09-06T09:05:57.363Z"
   },
   {
    "duration": 0,
    "start_time": "2024-09-06T09:05:57.365Z"
   },
   {
    "duration": 0,
    "start_time": "2024-09-06T09:05:57.366Z"
   },
   {
    "duration": 0,
    "start_time": "2024-09-06T09:05:57.367Z"
   },
   {
    "duration": 0,
    "start_time": "2024-09-06T09:05:57.368Z"
   },
   {
    "duration": 0,
    "start_time": "2024-09-06T09:05:57.369Z"
   },
   {
    "duration": 0,
    "start_time": "2024-09-06T09:05:57.370Z"
   },
   {
    "duration": 0,
    "start_time": "2024-09-06T09:05:57.371Z"
   },
   {
    "duration": 0,
    "start_time": "2024-09-06T09:05:57.372Z"
   },
   {
    "duration": 0,
    "start_time": "2024-09-06T09:05:57.374Z"
   },
   {
    "duration": 0,
    "start_time": "2024-09-06T09:05:57.375Z"
   },
   {
    "duration": 0,
    "start_time": "2024-09-06T09:05:57.376Z"
   },
   {
    "duration": 0,
    "start_time": "2024-09-06T09:05:57.376Z"
   },
   {
    "duration": 33,
    "start_time": "2024-09-06T09:06:25.819Z"
   },
   {
    "duration": 25,
    "start_time": "2024-09-06T09:06:53.709Z"
   },
   {
    "duration": 1251,
    "start_time": "2024-09-06T09:12:05.894Z"
   },
   {
    "duration": 57,
    "start_time": "2024-09-06T09:12:07.147Z"
   },
   {
    "duration": 21,
    "start_time": "2024-09-06T09:12:07.206Z"
   },
   {
    "duration": 40,
    "start_time": "2024-09-06T09:12:07.229Z"
   },
   {
    "duration": 73,
    "start_time": "2024-09-06T09:12:07.271Z"
   },
   {
    "duration": 36,
    "start_time": "2024-09-06T09:12:07.345Z"
   },
   {
    "duration": 704,
    "start_time": "2024-09-06T09:12:07.383Z"
   },
   {
    "duration": 3,
    "start_time": "2024-09-06T09:12:08.089Z"
   },
   {
    "duration": 24,
    "start_time": "2024-09-06T09:12:08.093Z"
   },
   {
    "duration": 14,
    "start_time": "2024-09-06T09:12:08.121Z"
   },
   {
    "duration": 202,
    "start_time": "2024-09-06T09:12:08.137Z"
   },
   {
    "duration": 13,
    "start_time": "2024-09-06T09:12:08.341Z"
   },
   {
    "duration": 29,
    "start_time": "2024-09-06T09:12:08.355Z"
   },
   {
    "duration": 14,
    "start_time": "2024-09-06T09:12:08.385Z"
   },
   {
    "duration": 11,
    "start_time": "2024-09-06T09:12:08.400Z"
   },
   {
    "duration": 36,
    "start_time": "2024-09-06T09:12:08.413Z"
   },
   {
    "duration": 5,
    "start_time": "2024-09-06T09:12:08.451Z"
   },
   {
    "duration": 23,
    "start_time": "2024-09-06T09:12:08.457Z"
   },
   {
    "duration": 7,
    "start_time": "2024-09-06T09:12:08.481Z"
   },
   {
    "duration": 12,
    "start_time": "2024-09-06T09:12:08.489Z"
   },
   {
    "duration": 12,
    "start_time": "2024-09-06T09:12:08.503Z"
   },
   {
    "duration": 33,
    "start_time": "2024-09-06T09:12:08.516Z"
   },
   {
    "duration": 30,
    "start_time": "2024-09-06T09:12:08.551Z"
   },
   {
    "duration": 59,
    "start_time": "2024-09-06T09:12:08.583Z"
   },
   {
    "duration": 54,
    "start_time": "2024-09-06T09:12:08.644Z"
   },
   {
    "duration": 13,
    "start_time": "2024-09-06T09:12:08.699Z"
   },
   {
    "duration": 38,
    "start_time": "2024-09-06T09:12:08.713Z"
   },
   {
    "duration": 22,
    "start_time": "2024-09-06T09:12:08.755Z"
   },
   {
    "duration": 7,
    "start_time": "2024-09-06T09:12:08.778Z"
   },
   {
    "duration": 33,
    "start_time": "2024-09-06T09:12:08.786Z"
   },
   {
    "duration": 25,
    "start_time": "2024-09-06T09:12:08.824Z"
   },
   {
    "duration": 233,
    "start_time": "2024-09-06T09:12:08.850Z"
   },
   {
    "duration": 396,
    "start_time": "2024-09-06T09:12:09.084Z"
   },
   {
    "duration": 7,
    "start_time": "2024-09-06T09:12:09.482Z"
   },
   {
    "duration": 690,
    "start_time": "2024-09-06T09:12:09.490Z"
   },
   {
    "duration": 15,
    "start_time": "2024-09-06T09:12:10.182Z"
   },
   {
    "duration": 584,
    "start_time": "2024-09-06T09:12:10.199Z"
   },
   {
    "duration": 15,
    "start_time": "2024-09-06T09:12:10.785Z"
   },
   {
    "duration": 47,
    "start_time": "2024-09-06T09:12:10.801Z"
   },
   {
    "duration": 357,
    "start_time": "2024-09-06T09:12:10.850Z"
   },
   {
    "duration": 296,
    "start_time": "2024-09-06T09:12:11.209Z"
   },
   {
    "duration": 234,
    "start_time": "2024-09-06T09:12:11.507Z"
   },
   {
    "duration": 11,
    "start_time": "2024-09-06T09:12:11.742Z"
   },
   {
    "duration": 82,
    "start_time": "2024-09-06T09:12:11.755Z"
   },
   {
    "duration": 183,
    "start_time": "2024-09-06T09:12:11.839Z"
   },
   {
    "duration": 247,
    "start_time": "2024-09-06T09:12:12.029Z"
   },
   {
    "duration": 5,
    "start_time": "2024-09-06T09:12:12.279Z"
   },
   {
    "duration": 988,
    "start_time": "2024-09-06T09:12:12.286Z"
   },
   {
    "duration": 307,
    "start_time": "2024-09-06T09:12:13.276Z"
   },
   {
    "duration": 363,
    "start_time": "2024-09-06T09:12:13.585Z"
   },
   {
    "duration": 783,
    "start_time": "2024-09-06T09:12:13.949Z"
   },
   {
    "duration": 1147,
    "start_time": "2024-09-06T09:12:14.735Z"
   },
   {
    "duration": 368,
    "start_time": "2024-09-06T09:12:15.884Z"
   },
   {
    "duration": 5,
    "start_time": "2024-09-06T09:12:16.253Z"
   },
   {
    "duration": 48,
    "start_time": "2024-09-06T09:12:16.260Z"
   },
   {
    "duration": 32,
    "start_time": "2024-09-06T09:12:16.309Z"
   },
   {
    "duration": 34,
    "start_time": "2024-09-06T09:12:16.343Z"
   },
   {
    "duration": 55,
    "start_time": "2024-09-06T09:12:16.379Z"
   },
   {
    "duration": 66,
    "start_time": "2024-09-06T09:15:19.262Z"
   },
   {
    "duration": 305,
    "start_time": "2024-09-06T09:16:14.846Z"
   },
   {
    "duration": 12,
    "start_time": "2024-09-06T09:17:57.344Z"
   },
   {
    "duration": 10,
    "start_time": "2024-09-06T09:18:15.678Z"
   },
   {
    "duration": 1260,
    "start_time": "2024-09-06T09:18:22.993Z"
   },
   {
    "duration": 57,
    "start_time": "2024-09-06T09:18:24.255Z"
   },
   {
    "duration": 23,
    "start_time": "2024-09-06T09:18:24.313Z"
   },
   {
    "duration": 15,
    "start_time": "2024-09-06T09:18:24.339Z"
   },
   {
    "duration": 21,
    "start_time": "2024-09-06T09:18:24.356Z"
   },
   {
    "duration": 49,
    "start_time": "2024-09-06T09:18:24.378Z"
   },
   {
    "duration": 713,
    "start_time": "2024-09-06T09:18:24.428Z"
   },
   {
    "duration": 6,
    "start_time": "2024-09-06T09:18:25.143Z"
   },
   {
    "duration": 23,
    "start_time": "2024-09-06T09:18:25.151Z"
   },
   {
    "duration": 5,
    "start_time": "2024-09-06T09:18:25.177Z"
   },
   {
    "duration": 201,
    "start_time": "2024-09-06T09:18:25.184Z"
   },
   {
    "duration": 11,
    "start_time": "2024-09-06T09:18:25.387Z"
   },
   {
    "duration": 32,
    "start_time": "2024-09-06T09:18:25.400Z"
   },
   {
    "duration": 11,
    "start_time": "2024-09-06T09:18:25.434Z"
   },
   {
    "duration": 12,
    "start_time": "2024-09-06T09:18:25.447Z"
   },
   {
    "duration": 28,
    "start_time": "2024-09-06T09:18:25.461Z"
   },
   {
    "duration": 14,
    "start_time": "2024-09-06T09:18:25.491Z"
   },
   {
    "duration": 33,
    "start_time": "2024-09-06T09:18:25.507Z"
   },
   {
    "duration": 40,
    "start_time": "2024-09-06T09:18:25.543Z"
   },
   {
    "duration": 22,
    "start_time": "2024-09-06T09:18:25.584Z"
   },
   {
    "duration": 23,
    "start_time": "2024-09-06T09:18:25.608Z"
   },
   {
    "duration": 27,
    "start_time": "2024-09-06T09:18:25.632Z"
   },
   {
    "duration": 19,
    "start_time": "2024-09-06T09:18:25.660Z"
   },
   {
    "duration": 23,
    "start_time": "2024-09-06T09:18:25.681Z"
   },
   {
    "duration": 30,
    "start_time": "2024-09-06T09:18:25.706Z"
   },
   {
    "duration": 9,
    "start_time": "2024-09-06T09:18:25.738Z"
   },
   {
    "duration": 29,
    "start_time": "2024-09-06T09:18:25.748Z"
   },
   {
    "duration": 15,
    "start_time": "2024-09-06T09:18:25.781Z"
   },
   {
    "duration": 6,
    "start_time": "2024-09-06T09:18:25.798Z"
   },
   {
    "duration": 32,
    "start_time": "2024-09-06T09:18:25.806Z"
   },
   {
    "duration": 16,
    "start_time": "2024-09-06T09:18:25.840Z"
   },
   {
    "duration": 244,
    "start_time": "2024-09-06T09:18:25.858Z"
   },
   {
    "duration": 390,
    "start_time": "2024-09-06T09:18:26.104Z"
   },
   {
    "duration": 7,
    "start_time": "2024-09-06T09:18:26.496Z"
   },
   {
    "duration": 689,
    "start_time": "2024-09-06T09:18:26.504Z"
   },
   {
    "duration": 15,
    "start_time": "2024-09-06T09:18:27.195Z"
   },
   {
    "duration": 543,
    "start_time": "2024-09-06T09:18:27.225Z"
   },
   {
    "duration": 16,
    "start_time": "2024-09-06T09:18:27.770Z"
   },
   {
    "duration": 37,
    "start_time": "2024-09-06T09:18:27.788Z"
   },
   {
    "duration": 329,
    "start_time": "2024-09-06T09:18:27.830Z"
   },
   {
    "duration": 307,
    "start_time": "2024-09-06T09:18:28.161Z"
   },
   {
    "duration": 233,
    "start_time": "2024-09-06T09:18:28.470Z"
   },
   {
    "duration": 25,
    "start_time": "2024-09-06T09:18:28.705Z"
   },
   {
    "duration": 28,
    "start_time": "2024-09-06T09:18:28.733Z"
   },
   {
    "duration": 189,
    "start_time": "2024-09-06T09:18:28.762Z"
   },
   {
    "duration": 253,
    "start_time": "2024-09-06T09:18:28.952Z"
   },
   {
    "duration": 5,
    "start_time": "2024-09-06T09:18:29.207Z"
   },
   {
    "duration": 952,
    "start_time": "2024-09-06T09:18:29.213Z"
   },
   {
    "duration": 287,
    "start_time": "2024-09-06T09:18:30.167Z"
   },
   {
    "duration": 353,
    "start_time": "2024-09-06T09:18:30.456Z"
   },
   {
    "duration": 440,
    "start_time": "2024-09-06T09:18:30.812Z"
   },
   {
    "duration": 540,
    "start_time": "2024-09-06T09:18:31.253Z"
   },
   {
    "duration": 387,
    "start_time": "2024-09-06T09:18:31.795Z"
   },
   {
    "duration": 6,
    "start_time": "2024-09-06T09:18:32.184Z"
   },
   {
    "duration": 21,
    "start_time": "2024-09-06T09:18:32.191Z"
   },
   {
    "duration": 17,
    "start_time": "2024-09-06T09:18:32.215Z"
   },
   {
    "duration": 9,
    "start_time": "2024-09-06T09:18:32.235Z"
   },
   {
    "duration": 44,
    "start_time": "2024-09-06T09:18:32.245Z"
   },
   {
    "duration": 341,
    "start_time": "2024-09-06T09:27:19.967Z"
   },
   {
    "duration": 1235,
    "start_time": "2024-09-06T09:48:13.306Z"
   },
   {
    "duration": 58,
    "start_time": "2024-09-06T09:48:14.543Z"
   },
   {
    "duration": 19,
    "start_time": "2024-09-06T09:48:14.603Z"
   },
   {
    "duration": 27,
    "start_time": "2024-09-06T09:48:14.624Z"
   },
   {
    "duration": 30,
    "start_time": "2024-09-06T09:48:14.652Z"
   },
   {
    "duration": 35,
    "start_time": "2024-09-06T09:48:14.683Z"
   },
   {
    "duration": 724,
    "start_time": "2024-09-06T09:48:14.720Z"
   },
   {
    "duration": 3,
    "start_time": "2024-09-06T09:48:15.446Z"
   },
   {
    "duration": 66,
    "start_time": "2024-09-06T09:48:15.451Z"
   },
   {
    "duration": 24,
    "start_time": "2024-09-06T09:48:15.520Z"
   },
   {
    "duration": 247,
    "start_time": "2024-09-06T09:48:15.546Z"
   },
   {
    "duration": 12,
    "start_time": "2024-09-06T09:48:15.795Z"
   },
   {
    "duration": 19,
    "start_time": "2024-09-06T09:48:15.808Z"
   },
   {
    "duration": 33,
    "start_time": "2024-09-06T09:48:15.828Z"
   },
   {
    "duration": 7,
    "start_time": "2024-09-06T09:48:15.862Z"
   },
   {
    "duration": 27,
    "start_time": "2024-09-06T09:48:15.871Z"
   },
   {
    "duration": 10,
    "start_time": "2024-09-06T09:48:15.899Z"
   },
   {
    "duration": 10,
    "start_time": "2024-09-06T09:48:15.911Z"
   },
   {
    "duration": 27,
    "start_time": "2024-09-06T09:48:15.923Z"
   },
   {
    "duration": 10,
    "start_time": "2024-09-06T09:48:15.952Z"
   },
   {
    "duration": 26,
    "start_time": "2024-09-06T09:48:15.964Z"
   },
   {
    "duration": 37,
    "start_time": "2024-09-06T09:48:15.992Z"
   },
   {
    "duration": 92,
    "start_time": "2024-09-06T09:48:16.030Z"
   },
   {
    "duration": 12,
    "start_time": "2024-09-06T09:48:16.124Z"
   },
   {
    "duration": 81,
    "start_time": "2024-09-06T09:48:16.137Z"
   },
   {
    "duration": 8,
    "start_time": "2024-09-06T09:48:16.220Z"
   },
   {
    "duration": 20,
    "start_time": "2024-09-06T09:48:16.230Z"
   },
   {
    "duration": 14,
    "start_time": "2024-09-06T09:48:16.255Z"
   },
   {
    "duration": 8,
    "start_time": "2024-09-06T09:48:16.271Z"
   },
   {
    "duration": 35,
    "start_time": "2024-09-06T09:48:16.280Z"
   },
   {
    "duration": 28,
    "start_time": "2024-09-06T09:48:16.317Z"
   },
   {
    "duration": 221,
    "start_time": "2024-09-06T09:48:16.348Z"
   },
   {
    "duration": 372,
    "start_time": "2024-09-06T09:48:16.571Z"
   },
   {
    "duration": 8,
    "start_time": "2024-09-06T09:48:16.945Z"
   },
   {
    "duration": 645,
    "start_time": "2024-09-06T09:48:16.955Z"
   },
   {
    "duration": 19,
    "start_time": "2024-09-06T09:48:17.602Z"
   },
   {
    "duration": 535,
    "start_time": "2024-09-06T09:48:17.623Z"
   },
   {
    "duration": 14,
    "start_time": "2024-09-06T09:48:18.160Z"
   },
   {
    "duration": 76,
    "start_time": "2024-09-06T09:48:18.176Z"
   },
   {
    "duration": 330,
    "start_time": "2024-09-06T09:48:18.254Z"
   },
   {
    "duration": 290,
    "start_time": "2024-09-06T09:48:18.585Z"
   },
   {
    "duration": 226,
    "start_time": "2024-09-06T09:48:18.876Z"
   },
   {
    "duration": 17,
    "start_time": "2024-09-06T09:48:19.103Z"
   },
   {
    "duration": 39,
    "start_time": "2024-09-06T09:48:19.122Z"
   },
   {
    "duration": 168,
    "start_time": "2024-09-06T09:48:19.163Z"
   },
   {
    "duration": 268,
    "start_time": "2024-09-06T09:48:19.332Z"
   },
   {
    "duration": 6,
    "start_time": "2024-09-06T09:48:19.602Z"
   },
   {
    "duration": 928,
    "start_time": "2024-09-06T09:48:19.609Z"
   },
   {
    "duration": 269,
    "start_time": "2024-09-06T09:48:20.538Z"
   },
   {
    "duration": 348,
    "start_time": "2024-09-06T09:48:20.809Z"
   },
   {
    "duration": 413,
    "start_time": "2024-09-06T09:48:21.159Z"
   },
   {
    "duration": 521,
    "start_time": "2024-09-06T09:48:21.574Z"
   },
   {
    "duration": 357,
    "start_time": "2024-09-06T09:48:22.096Z"
   },
   {
    "duration": 5,
    "start_time": "2024-09-06T09:48:22.455Z"
   },
   {
    "duration": 13,
    "start_time": "2024-09-06T09:48:22.462Z"
   },
   {
    "duration": 4,
    "start_time": "2024-09-06T09:48:22.477Z"
   },
   {
    "duration": 21,
    "start_time": "2024-09-06T09:48:22.483Z"
   },
   {
    "duration": 50,
    "start_time": "2024-09-06T09:48:22.506Z"
   },
   {
    "duration": 305,
    "start_time": "2024-09-06T09:49:34.919Z"
   },
   {
    "duration": 246,
    "start_time": "2024-09-06T09:50:04.171Z"
   },
   {
    "duration": 240,
    "start_time": "2024-09-06T09:50:42.455Z"
   },
   {
    "duration": 246,
    "start_time": "2024-09-06T09:50:48.642Z"
   },
   {
    "duration": 74,
    "start_time": "2024-09-06T09:51:05.506Z"
   },
   {
    "duration": 447,
    "start_time": "2024-09-06T10:09:14.102Z"
   },
   {
    "duration": 318,
    "start_time": "2024-09-06T10:09:35.933Z"
   },
   {
    "duration": 322,
    "start_time": "2024-09-06T10:09:50.774Z"
   },
   {
    "duration": 327,
    "start_time": "2024-09-06T10:10:06.314Z"
   },
   {
    "duration": 68,
    "start_time": "2024-09-06T10:11:57.636Z"
   },
   {
    "duration": 405,
    "start_time": "2024-09-06T10:12:46.577Z"
   },
   {
    "duration": 475,
    "start_time": "2024-09-06T10:12:52.566Z"
   },
   {
    "duration": 71,
    "start_time": "2024-09-06T10:15:20.601Z"
   },
   {
    "duration": 104,
    "start_time": "2024-09-06T10:17:40.051Z"
   },
   {
    "duration": 47,
    "start_time": "2024-09-06T10:17:58.774Z"
   },
   {
    "duration": 370,
    "start_time": "2024-09-06T11:40:41.001Z"
   },
   {
    "duration": 1222,
    "start_time": "2024-09-06T12:16:31.050Z"
   },
   {
    "duration": 58,
    "start_time": "2024-09-06T12:16:32.274Z"
   },
   {
    "duration": 19,
    "start_time": "2024-09-06T12:16:32.334Z"
   },
   {
    "duration": 16,
    "start_time": "2024-09-06T12:16:32.354Z"
   },
   {
    "duration": 7,
    "start_time": "2024-09-06T12:16:32.372Z"
   },
   {
    "duration": 52,
    "start_time": "2024-09-06T12:16:32.380Z"
   },
   {
    "duration": 644,
    "start_time": "2024-09-06T12:16:32.434Z"
   },
   {
    "duration": 3,
    "start_time": "2024-09-06T12:16:33.079Z"
   },
   {
    "duration": 30,
    "start_time": "2024-09-06T12:16:33.083Z"
   },
   {
    "duration": 20,
    "start_time": "2024-09-06T12:16:33.115Z"
   },
   {
    "duration": 171,
    "start_time": "2024-09-06T12:16:33.137Z"
   },
   {
    "duration": 12,
    "start_time": "2024-09-06T12:16:33.310Z"
   },
   {
    "duration": 23,
    "start_time": "2024-09-06T12:16:33.324Z"
   },
   {
    "duration": 12,
    "start_time": "2024-09-06T12:16:33.350Z"
   },
   {
    "duration": 21,
    "start_time": "2024-09-06T12:16:33.364Z"
   },
   {
    "duration": 15,
    "start_time": "2024-09-06T12:16:33.387Z"
   },
   {
    "duration": 6,
    "start_time": "2024-09-06T12:16:33.404Z"
   },
   {
    "duration": 19,
    "start_time": "2024-09-06T12:16:33.412Z"
   },
   {
    "duration": 9,
    "start_time": "2024-09-06T12:16:33.432Z"
   },
   {
    "duration": 11,
    "start_time": "2024-09-06T12:16:33.443Z"
   },
   {
    "duration": 13,
    "start_time": "2024-09-06T12:16:33.455Z"
   },
   {
    "duration": 35,
    "start_time": "2024-09-06T12:16:33.470Z"
   },
   {
    "duration": 28,
    "start_time": "2024-09-06T12:16:33.506Z"
   },
   {
    "duration": 11,
    "start_time": "2024-09-06T12:16:33.536Z"
   },
   {
    "duration": 22,
    "start_time": "2024-09-06T12:16:33.549Z"
   },
   {
    "duration": 9,
    "start_time": "2024-09-06T12:16:33.573Z"
   },
   {
    "duration": 13,
    "start_time": "2024-09-06T12:16:33.584Z"
   },
   {
    "duration": 34,
    "start_time": "2024-09-06T12:16:33.599Z"
   },
   {
    "duration": 13,
    "start_time": "2024-09-06T12:16:33.635Z"
   },
   {
    "duration": 19,
    "start_time": "2024-09-06T12:16:33.651Z"
   },
   {
    "duration": 28,
    "start_time": "2024-09-06T12:16:33.671Z"
   },
   {
    "duration": 231,
    "start_time": "2024-09-06T12:16:33.701Z"
   },
   {
    "duration": 354,
    "start_time": "2024-09-06T12:16:33.933Z"
   },
   {
    "duration": 7,
    "start_time": "2024-09-06T12:16:34.289Z"
   },
   {
    "duration": 618,
    "start_time": "2024-09-06T12:16:34.298Z"
   },
   {
    "duration": 16,
    "start_time": "2024-09-06T12:16:34.918Z"
   },
   {
    "duration": 555,
    "start_time": "2024-09-06T12:16:34.936Z"
   },
   {
    "duration": 15,
    "start_time": "2024-09-06T12:16:35.493Z"
   },
   {
    "duration": 30,
    "start_time": "2024-09-06T12:16:35.520Z"
   },
   {
    "duration": 352,
    "start_time": "2024-09-06T12:16:35.552Z"
   },
   {
    "duration": 304,
    "start_time": "2024-09-06T12:16:35.910Z"
   },
   {
    "duration": 220,
    "start_time": "2024-09-06T12:16:36.221Z"
   },
   {
    "duration": 11,
    "start_time": "2024-09-06T12:16:36.443Z"
   },
   {
    "duration": 50,
    "start_time": "2024-09-06T12:16:36.455Z"
   },
   {
    "duration": 171,
    "start_time": "2024-09-06T12:16:36.506Z"
   },
   {
    "duration": 251,
    "start_time": "2024-09-06T12:16:36.679Z"
   },
   {
    "duration": 5,
    "start_time": "2024-09-06T12:16:36.932Z"
   },
   {
    "duration": 913,
    "start_time": "2024-09-06T12:16:36.939Z"
   },
   {
    "duration": 261,
    "start_time": "2024-09-06T12:16:37.853Z"
   },
   {
    "duration": 336,
    "start_time": "2024-09-06T12:16:38.115Z"
   },
   {
    "duration": 357,
    "start_time": "2024-09-06T12:16:38.452Z"
   },
   {
    "duration": 66,
    "start_time": "2024-09-06T12:16:38.810Z"
   },
   {
    "duration": 0,
    "start_time": "2024-09-06T12:16:38.877Z"
   },
   {
    "duration": 0,
    "start_time": "2024-09-06T12:16:38.879Z"
   },
   {
    "duration": 0,
    "start_time": "2024-09-06T12:16:38.880Z"
   },
   {
    "duration": 0,
    "start_time": "2024-09-06T12:16:38.881Z"
   },
   {
    "duration": 0,
    "start_time": "2024-09-06T12:16:38.882Z"
   },
   {
    "duration": 0,
    "start_time": "2024-09-06T12:16:38.883Z"
   },
   {
    "duration": 0,
    "start_time": "2024-09-06T12:16:38.884Z"
   },
   {
    "duration": 0,
    "start_time": "2024-09-06T12:16:38.885Z"
   },
   {
    "duration": 1185,
    "start_time": "2024-09-06T12:34:02.879Z"
   },
   {
    "duration": 58,
    "start_time": "2024-09-06T12:34:04.066Z"
   },
   {
    "duration": 20,
    "start_time": "2024-09-06T12:34:04.126Z"
   },
   {
    "duration": 40,
    "start_time": "2024-09-06T12:34:04.148Z"
   },
   {
    "duration": 6,
    "start_time": "2024-09-06T12:34:04.190Z"
   },
   {
    "duration": 40,
    "start_time": "2024-09-06T12:34:04.197Z"
   },
   {
    "duration": 675,
    "start_time": "2024-09-06T12:34:04.239Z"
   },
   {
    "duration": 7,
    "start_time": "2024-09-06T12:34:04.916Z"
   },
   {
    "duration": 14,
    "start_time": "2024-09-06T12:34:04.924Z"
   },
   {
    "duration": 4,
    "start_time": "2024-09-06T12:34:04.941Z"
   },
   {
    "duration": 235,
    "start_time": "2024-09-06T12:34:04.946Z"
   },
   {
    "duration": 11,
    "start_time": "2024-09-06T12:34:05.182Z"
   },
   {
    "duration": 54,
    "start_time": "2024-09-06T12:34:05.195Z"
   },
   {
    "duration": 19,
    "start_time": "2024-09-06T12:34:05.251Z"
   },
   {
    "duration": 5,
    "start_time": "2024-09-06T12:34:05.272Z"
   },
   {
    "duration": 12,
    "start_time": "2024-09-06T12:34:05.278Z"
   },
   {
    "duration": 25,
    "start_time": "2024-09-06T12:34:05.292Z"
   },
   {
    "duration": 15,
    "start_time": "2024-09-06T12:34:05.318Z"
   },
   {
    "duration": 10,
    "start_time": "2024-09-06T12:34:05.335Z"
   },
   {
    "duration": 9,
    "start_time": "2024-09-06T12:34:05.347Z"
   },
   {
    "duration": 18,
    "start_time": "2024-09-06T12:34:05.357Z"
   },
   {
    "duration": 38,
    "start_time": "2024-09-06T12:34:05.377Z"
   },
   {
    "duration": 24,
    "start_time": "2024-09-06T12:34:05.416Z"
   },
   {
    "duration": 10,
    "start_time": "2024-09-06T12:34:05.441Z"
   },
   {
    "duration": 16,
    "start_time": "2024-09-06T12:34:05.453Z"
   },
   {
    "duration": 17,
    "start_time": "2024-09-06T12:34:05.471Z"
   },
   {
    "duration": 47,
    "start_time": "2024-09-06T12:34:05.489Z"
   },
   {
    "duration": 38,
    "start_time": "2024-09-06T12:34:05.540Z"
   },
   {
    "duration": 20,
    "start_time": "2024-09-06T12:34:05.580Z"
   },
   {
    "duration": 25,
    "start_time": "2024-09-06T12:34:05.602Z"
   },
   {
    "duration": 33,
    "start_time": "2024-09-06T12:34:05.629Z"
   },
   {
    "duration": 219,
    "start_time": "2024-09-06T12:34:05.663Z"
   },
   {
    "duration": 354,
    "start_time": "2024-09-06T12:34:05.884Z"
   },
   {
    "duration": 7,
    "start_time": "2024-09-06T12:34:06.239Z"
   },
   {
    "duration": 616,
    "start_time": "2024-09-06T12:34:06.248Z"
   },
   {
    "duration": 15,
    "start_time": "2024-09-06T12:34:06.866Z"
   },
   {
    "duration": 519,
    "start_time": "2024-09-06T12:34:06.883Z"
   },
   {
    "duration": 20,
    "start_time": "2024-09-06T12:34:07.404Z"
   },
   {
    "duration": 16,
    "start_time": "2024-09-06T12:34:07.425Z"
   },
   {
    "duration": 301,
    "start_time": "2024-09-06T12:34:07.443Z"
   },
   {
    "duration": 304,
    "start_time": "2024-09-06T12:34:07.746Z"
   },
   {
    "duration": 215,
    "start_time": "2024-09-06T12:34:08.052Z"
   },
   {
    "duration": 10,
    "start_time": "2024-09-06T12:34:08.269Z"
   },
   {
    "duration": 27,
    "start_time": "2024-09-06T12:34:08.280Z"
   },
   {
    "duration": 174,
    "start_time": "2024-09-06T12:34:08.308Z"
   },
   {
    "duration": 258,
    "start_time": "2024-09-06T12:34:08.484Z"
   },
   {
    "duration": 5,
    "start_time": "2024-09-06T12:34:08.744Z"
   },
   {
    "duration": 904,
    "start_time": "2024-09-06T12:34:08.750Z"
   },
   {
    "duration": 266,
    "start_time": "2024-09-06T12:34:09.655Z"
   },
   {
    "duration": 331,
    "start_time": "2024-09-06T12:34:09.924Z"
   },
   {
    "duration": 357,
    "start_time": "2024-09-06T12:34:10.256Z"
   },
   {
    "duration": 506,
    "start_time": "2024-09-06T12:34:10.615Z"
   },
   {
    "duration": 425,
    "start_time": "2024-09-06T12:34:11.122Z"
   },
   {
    "duration": 375,
    "start_time": "2024-09-06T12:34:11.548Z"
   },
   {
    "duration": 5,
    "start_time": "2024-09-06T12:34:11.925Z"
   },
   {
    "duration": 20,
    "start_time": "2024-09-06T12:34:11.931Z"
   },
   {
    "duration": 55,
    "start_time": "2024-09-06T12:34:11.953Z"
   },
   {
    "duration": 69,
    "start_time": "2024-09-06T12:34:12.010Z"
   },
   {
    "duration": 24,
    "start_time": "2024-09-06T12:34:12.081Z"
   },
   {
    "duration": 75,
    "start_time": "2024-09-06T15:15:00.888Z"
   },
   {
    "duration": 127,
    "start_time": "2024-09-06T15:15:17.250Z"
   },
   {
    "duration": 34,
    "start_time": "2024-09-06T15:17:50.049Z"
   },
   {
    "duration": 377,
    "start_time": "2024-09-06T15:21:32.168Z"
   },
   {
    "duration": 392,
    "start_time": "2024-09-06T15:21:39.228Z"
   },
   {
    "duration": 341,
    "start_time": "2024-09-06T15:36:28.743Z"
   },
   {
    "duration": 488,
    "start_time": "2024-09-06T15:36:55.189Z"
   },
   {
    "duration": 388,
    "start_time": "2024-09-06T15:44:34.581Z"
   },
   {
    "duration": 379,
    "start_time": "2024-09-06T15:47:21.628Z"
   },
   {
    "duration": 372,
    "start_time": "2024-09-06T15:47:37.805Z"
   },
   {
    "duration": 351,
    "start_time": "2024-09-06T15:48:00.424Z"
   },
   {
    "duration": 373,
    "start_time": "2024-09-06T15:48:38.331Z"
   },
   {
    "duration": 409,
    "start_time": "2024-09-06T15:49:20.998Z"
   },
   {
    "duration": 302,
    "start_time": "2024-09-06T15:50:43.424Z"
   },
   {
    "duration": 397,
    "start_time": "2024-09-06T15:51:14.698Z"
   },
   {
    "duration": 408,
    "start_time": "2024-09-06T15:52:13.497Z"
   },
   {
    "duration": 372,
    "start_time": "2024-09-06T15:53:47.924Z"
   },
   {
    "duration": 344,
    "start_time": "2024-09-06T15:56:02.192Z"
   },
   {
    "duration": 442,
    "start_time": "2024-09-06T15:56:25.176Z"
   },
   {
    "duration": 77,
    "start_time": "2024-09-06T15:56:43.741Z"
   },
   {
    "duration": 411,
    "start_time": "2024-09-06T16:02:47.640Z"
   },
   {
    "duration": 392,
    "start_time": "2024-09-06T16:02:54.485Z"
   },
   {
    "duration": 410,
    "start_time": "2024-09-06T16:03:02.028Z"
   },
   {
    "duration": 390,
    "start_time": "2024-09-06T16:03:23.058Z"
   },
   {
    "duration": 388,
    "start_time": "2024-09-06T16:03:46.676Z"
   },
   {
    "duration": 471,
    "start_time": "2024-09-06T16:07:52.023Z"
   },
   {
    "duration": 375,
    "start_time": "2024-09-06T16:08:24.507Z"
   },
   {
    "duration": 381,
    "start_time": "2024-09-06T16:11:03.459Z"
   },
   {
    "duration": 385,
    "start_time": "2024-09-06T16:12:41.669Z"
   },
   {
    "duration": 1897,
    "start_time": "2024-09-06T16:41:19.014Z"
   },
   {
    "duration": 1381,
    "start_time": "2024-09-06T16:43:00.431Z"
   },
   {
    "duration": 1181,
    "start_time": "2024-09-06T16:43:27.766Z"
   },
   {
    "duration": 59,
    "start_time": "2024-09-06T16:43:28.949Z"
   },
   {
    "duration": 24,
    "start_time": "2024-09-06T16:43:29.010Z"
   },
   {
    "duration": 25,
    "start_time": "2024-09-06T16:43:29.038Z"
   },
   {
    "duration": 19,
    "start_time": "2024-09-06T16:43:29.064Z"
   },
   {
    "duration": 32,
    "start_time": "2024-09-06T16:43:29.084Z"
   },
   {
    "duration": 680,
    "start_time": "2024-09-06T16:43:29.118Z"
   },
   {
    "duration": 4,
    "start_time": "2024-09-06T16:43:29.800Z"
   },
   {
    "duration": 23,
    "start_time": "2024-09-06T16:43:29.806Z"
   },
   {
    "duration": 4,
    "start_time": "2024-09-06T16:43:29.832Z"
   },
   {
    "duration": 194,
    "start_time": "2024-09-06T16:43:29.838Z"
   },
   {
    "duration": 13,
    "start_time": "2024-09-06T16:43:30.034Z"
   },
   {
    "duration": 40,
    "start_time": "2024-09-06T16:43:30.049Z"
   },
   {
    "duration": 54,
    "start_time": "2024-09-06T16:43:30.091Z"
   },
   {
    "duration": 56,
    "start_time": "2024-09-06T16:43:30.147Z"
   },
   {
    "duration": 42,
    "start_time": "2024-09-06T16:43:30.205Z"
   },
   {
    "duration": 49,
    "start_time": "2024-09-06T16:43:30.249Z"
   },
   {
    "duration": 48,
    "start_time": "2024-09-06T16:43:30.300Z"
   },
   {
    "duration": 25,
    "start_time": "2024-09-06T16:43:30.349Z"
   },
   {
    "duration": 15,
    "start_time": "2024-09-06T16:43:30.375Z"
   },
   {
    "duration": 25,
    "start_time": "2024-09-06T16:43:30.391Z"
   },
   {
    "duration": 26,
    "start_time": "2024-09-06T16:43:30.418Z"
   },
   {
    "duration": 21,
    "start_time": "2024-09-06T16:43:30.446Z"
   },
   {
    "duration": 12,
    "start_time": "2024-09-06T16:43:30.468Z"
   },
   {
    "duration": 42,
    "start_time": "2024-09-06T16:43:30.482Z"
   },
   {
    "duration": 11,
    "start_time": "2024-09-06T16:43:30.526Z"
   },
   {
    "duration": 37,
    "start_time": "2024-09-06T16:43:30.538Z"
   },
   {
    "duration": 36,
    "start_time": "2024-09-06T16:43:30.580Z"
   },
   {
    "duration": 26,
    "start_time": "2024-09-06T16:43:30.618Z"
   },
   {
    "duration": 16,
    "start_time": "2024-09-06T16:43:30.645Z"
   },
   {
    "duration": 50,
    "start_time": "2024-09-06T16:43:30.663Z"
   },
   {
    "duration": 223,
    "start_time": "2024-09-06T16:43:30.715Z"
   },
   {
    "duration": 346,
    "start_time": "2024-09-06T16:43:30.940Z"
   },
   {
    "duration": 7,
    "start_time": "2024-09-06T16:43:31.287Z"
   },
   {
    "duration": 640,
    "start_time": "2024-09-06T16:43:31.296Z"
   },
   {
    "duration": 14,
    "start_time": "2024-09-06T16:43:31.938Z"
   },
   {
    "duration": 534,
    "start_time": "2024-09-06T16:43:31.954Z"
   },
   {
    "duration": 14,
    "start_time": "2024-09-06T16:43:32.490Z"
   },
   {
    "duration": 29,
    "start_time": "2024-09-06T16:43:32.506Z"
   },
   {
    "duration": 339,
    "start_time": "2024-09-06T16:43:32.536Z"
   },
   {
    "duration": 285,
    "start_time": "2024-09-06T16:43:32.877Z"
   },
   {
    "duration": 223,
    "start_time": "2024-09-06T16:43:33.163Z"
   },
   {
    "duration": 11,
    "start_time": "2024-09-06T16:43:33.388Z"
   },
   {
    "duration": 39,
    "start_time": "2024-09-06T16:43:33.400Z"
   },
   {
    "duration": 163,
    "start_time": "2024-09-06T16:43:33.441Z"
   },
   {
    "duration": 285,
    "start_time": "2024-09-06T16:43:33.606Z"
   },
   {
    "duration": 6,
    "start_time": "2024-09-06T16:43:33.893Z"
   },
   {
    "duration": 890,
    "start_time": "2024-09-06T16:43:33.900Z"
   },
   {
    "duration": 270,
    "start_time": "2024-09-06T16:43:34.791Z"
   },
   {
    "duration": 477,
    "start_time": "2024-09-06T16:43:35.063Z"
   },
   {
    "duration": 721,
    "start_time": "2024-09-06T16:43:35.542Z"
   },
   {
    "duration": 700,
    "start_time": "2024-09-06T16:43:36.265Z"
   },
   {
    "duration": 1707,
    "start_time": "2024-09-06T16:43:36.967Z"
   },
   {
    "duration": 0,
    "start_time": "2024-09-06T16:43:38.676Z"
   },
   {
    "duration": 0,
    "start_time": "2024-09-06T16:43:38.679Z"
   },
   {
    "duration": 0,
    "start_time": "2024-09-06T16:43:38.681Z"
   },
   {
    "duration": 0,
    "start_time": "2024-09-06T16:43:38.682Z"
   },
   {
    "duration": 1,
    "start_time": "2024-09-06T16:43:38.683Z"
   },
   {
    "duration": 0,
    "start_time": "2024-09-06T16:43:38.685Z"
   },
   {
    "duration": 1399,
    "start_time": "2024-09-06T16:44:05.326Z"
   },
   {
    "duration": 375,
    "start_time": "2024-09-06T16:50:56.232Z"
   },
   {
    "duration": 1367,
    "start_time": "2024-09-06T16:52:33.435Z"
   },
   {
    "duration": 1514,
    "start_time": "2024-09-06T16:53:40.672Z"
   },
   {
    "duration": 1228,
    "start_time": "2024-09-06T16:53:54.927Z"
   },
   {
    "duration": 58,
    "start_time": "2024-09-06T16:53:56.157Z"
   },
   {
    "duration": 20,
    "start_time": "2024-09-06T16:53:56.217Z"
   },
   {
    "duration": 16,
    "start_time": "2024-09-06T16:53:56.238Z"
   },
   {
    "duration": 7,
    "start_time": "2024-09-06T16:53:56.256Z"
   },
   {
    "duration": 42,
    "start_time": "2024-09-06T16:53:56.264Z"
   },
   {
    "duration": 718,
    "start_time": "2024-09-06T16:53:56.321Z"
   },
   {
    "duration": 4,
    "start_time": "2024-09-06T16:53:57.041Z"
   },
   {
    "duration": 57,
    "start_time": "2024-09-06T16:53:57.047Z"
   },
   {
    "duration": 28,
    "start_time": "2024-09-06T16:53:57.107Z"
   },
   {
    "duration": 186,
    "start_time": "2024-09-06T16:53:57.137Z"
   },
   {
    "duration": 17,
    "start_time": "2024-09-06T16:53:57.326Z"
   },
   {
    "duration": 12,
    "start_time": "2024-09-06T16:53:57.345Z"
   },
   {
    "duration": 10,
    "start_time": "2024-09-06T16:53:57.358Z"
   },
   {
    "duration": 47,
    "start_time": "2024-09-06T16:53:57.369Z"
   },
   {
    "duration": 54,
    "start_time": "2024-09-06T16:53:57.417Z"
   },
   {
    "duration": 6,
    "start_time": "2024-09-06T16:53:57.472Z"
   },
   {
    "duration": 9,
    "start_time": "2024-09-06T16:53:57.479Z"
   },
   {
    "duration": 10,
    "start_time": "2024-09-06T16:53:57.489Z"
   },
   {
    "duration": 10,
    "start_time": "2024-09-06T16:53:57.500Z"
   },
   {
    "duration": 26,
    "start_time": "2024-09-06T16:53:57.512Z"
   },
   {
    "duration": 39,
    "start_time": "2024-09-06T16:53:57.539Z"
   },
   {
    "duration": 22,
    "start_time": "2024-09-06T16:53:57.580Z"
   },
   {
    "duration": 19,
    "start_time": "2024-09-06T16:53:57.604Z"
   },
   {
    "duration": 18,
    "start_time": "2024-09-06T16:53:57.625Z"
   },
   {
    "duration": 9,
    "start_time": "2024-09-06T16:53:57.645Z"
   },
   {
    "duration": 20,
    "start_time": "2024-09-06T16:53:57.656Z"
   },
   {
    "duration": 14,
    "start_time": "2024-09-06T16:53:57.681Z"
   },
   {
    "duration": 9,
    "start_time": "2024-09-06T16:53:57.721Z"
   },
   {
    "duration": 91,
    "start_time": "2024-09-06T16:53:57.731Z"
   },
   {
    "duration": 47,
    "start_time": "2024-09-06T16:53:57.824Z"
   },
   {
    "duration": 220,
    "start_time": "2024-09-06T16:53:57.873Z"
   },
   {
    "duration": 376,
    "start_time": "2024-09-06T16:53:58.095Z"
   },
   {
    "duration": 8,
    "start_time": "2024-09-06T16:53:58.472Z"
   },
   {
    "duration": 610,
    "start_time": "2024-09-06T16:53:58.481Z"
   },
   {
    "duration": 15,
    "start_time": "2024-09-06T16:53:59.092Z"
   },
   {
    "duration": 538,
    "start_time": "2024-09-06T16:53:59.120Z"
   },
   {
    "duration": 15,
    "start_time": "2024-09-06T16:53:59.660Z"
   },
   {
    "duration": 16,
    "start_time": "2024-09-06T16:53:59.676Z"
   },
   {
    "duration": 325,
    "start_time": "2024-09-06T16:53:59.694Z"
   },
   {
    "duration": 314,
    "start_time": "2024-09-06T16:54:00.021Z"
   },
   {
    "duration": 223,
    "start_time": "2024-09-06T16:54:00.337Z"
   },
   {
    "duration": 11,
    "start_time": "2024-09-06T16:54:00.562Z"
   },
   {
    "duration": 55,
    "start_time": "2024-09-06T16:54:00.574Z"
   },
   {
    "duration": 168,
    "start_time": "2024-09-06T16:54:00.631Z"
   },
   {
    "duration": 251,
    "start_time": "2024-09-06T16:54:00.800Z"
   },
   {
    "duration": 5,
    "start_time": "2024-09-06T16:54:01.053Z"
   },
   {
    "duration": 973,
    "start_time": "2024-09-06T16:54:01.059Z"
   },
   {
    "duration": 267,
    "start_time": "2024-09-06T16:54:02.034Z"
   },
   {
    "duration": 349,
    "start_time": "2024-09-06T16:54:02.304Z"
   },
   {
    "duration": 342,
    "start_time": "2024-09-06T16:54:02.655Z"
   },
   {
    "duration": 421,
    "start_time": "2024-09-06T16:54:02.999Z"
   },
   {
    "duration": 1541,
    "start_time": "2024-09-06T16:54:03.422Z"
   },
   {
    "duration": 0,
    "start_time": "2024-09-06T16:54:04.964Z"
   },
   {
    "duration": 0,
    "start_time": "2024-09-06T16:54:04.966Z"
   },
   {
    "duration": 0,
    "start_time": "2024-09-06T16:54:04.967Z"
   },
   {
    "duration": 0,
    "start_time": "2024-09-06T16:54:04.968Z"
   },
   {
    "duration": 0,
    "start_time": "2024-09-06T16:54:04.969Z"
   },
   {
    "duration": 0,
    "start_time": "2024-09-06T16:54:04.970Z"
   },
   {
    "duration": 1417,
    "start_time": "2024-09-06T16:57:03.856Z"
   },
   {
    "duration": 1310,
    "start_time": "2024-09-06T16:57:36.142Z"
   },
   {
    "duration": 1363,
    "start_time": "2024-09-06T17:01:52.251Z"
   },
   {
    "duration": 1407,
    "start_time": "2024-09-06T17:03:58.502Z"
   },
   {
    "duration": 1278,
    "start_time": "2024-09-06T17:04:18.885Z"
   },
   {
    "duration": 236,
    "start_time": "2024-09-06T17:09:43.256Z"
   },
   {
    "duration": 1914,
    "start_time": "2024-09-06T17:09:59.911Z"
   },
   {
    "duration": 26,
    "start_time": "2024-09-06T17:14:02.228Z"
   },
   {
    "duration": 394,
    "start_time": "2024-09-06T17:15:22.480Z"
   },
   {
    "duration": 405,
    "start_time": "2024-09-06T17:18:31.933Z"
   },
   {
    "duration": 25,
    "start_time": "2024-09-06T17:24:07.522Z"
   },
   {
    "duration": 377,
    "start_time": "2024-09-06T17:25:12.804Z"
   },
   {
    "duration": 302,
    "start_time": "2024-09-06T17:28:12.636Z"
   },
   {
    "duration": 278,
    "start_time": "2024-09-06T17:28:38.300Z"
   },
   {
    "duration": 287,
    "start_time": "2024-09-06T17:29:06.219Z"
   },
   {
    "duration": 291,
    "start_time": "2024-09-06T17:29:46.022Z"
   },
   {
    "duration": 314,
    "start_time": "2024-09-06T17:29:56.619Z"
   },
   {
    "duration": 1229,
    "start_time": "2024-09-06T17:30:02.522Z"
   },
   {
    "duration": 65,
    "start_time": "2024-09-06T17:30:03.753Z"
   },
   {
    "duration": 19,
    "start_time": "2024-09-06T17:30:03.820Z"
   },
   {
    "duration": 25,
    "start_time": "2024-09-06T17:30:03.840Z"
   },
   {
    "duration": 55,
    "start_time": "2024-09-06T17:30:03.867Z"
   },
   {
    "duration": 42,
    "start_time": "2024-09-06T17:30:03.924Z"
   },
   {
    "duration": 659,
    "start_time": "2024-09-06T17:30:03.968Z"
   },
   {
    "duration": 3,
    "start_time": "2024-09-06T17:30:04.628Z"
   },
   {
    "duration": 11,
    "start_time": "2024-09-06T17:30:04.633Z"
   },
   {
    "duration": 5,
    "start_time": "2024-09-06T17:30:04.646Z"
   },
   {
    "duration": 188,
    "start_time": "2024-09-06T17:30:04.652Z"
   },
   {
    "duration": 12,
    "start_time": "2024-09-06T17:30:04.842Z"
   },
   {
    "duration": 53,
    "start_time": "2024-09-06T17:30:04.855Z"
   },
   {
    "duration": 26,
    "start_time": "2024-09-06T17:30:04.912Z"
   },
   {
    "duration": 43,
    "start_time": "2024-09-06T17:30:04.940Z"
   },
   {
    "duration": 26,
    "start_time": "2024-09-06T17:30:04.985Z"
   },
   {
    "duration": 7,
    "start_time": "2024-09-06T17:30:05.013Z"
   },
   {
    "duration": 25,
    "start_time": "2024-09-06T17:30:05.024Z"
   },
   {
    "duration": 26,
    "start_time": "2024-09-06T17:30:05.050Z"
   },
   {
    "duration": 7,
    "start_time": "2024-09-06T17:30:05.077Z"
   },
   {
    "duration": 35,
    "start_time": "2024-09-06T17:30:05.086Z"
   },
   {
    "duration": 95,
    "start_time": "2024-09-06T17:30:05.123Z"
   },
   {
    "duration": 39,
    "start_time": "2024-09-06T17:30:05.220Z"
   },
   {
    "duration": 11,
    "start_time": "2024-09-06T17:30:05.261Z"
   },
   {
    "duration": 18,
    "start_time": "2024-09-06T17:30:05.274Z"
   },
   {
    "duration": 22,
    "start_time": "2024-09-06T17:30:05.294Z"
   },
   {
    "duration": 20,
    "start_time": "2024-09-06T17:30:05.318Z"
   },
   {
    "duration": 68,
    "start_time": "2024-09-06T17:30:05.340Z"
   },
   {
    "duration": 38,
    "start_time": "2024-09-06T17:30:05.410Z"
   },
   {
    "duration": 21,
    "start_time": "2024-09-06T17:30:05.450Z"
   },
   {
    "duration": 43,
    "start_time": "2024-09-06T17:30:05.473Z"
   },
   {
    "duration": 237,
    "start_time": "2024-09-06T17:30:05.518Z"
   },
   {
    "duration": 365,
    "start_time": "2024-09-06T17:30:05.756Z"
   },
   {
    "duration": 6,
    "start_time": "2024-09-06T17:30:06.123Z"
   },
   {
    "duration": 621,
    "start_time": "2024-09-06T17:30:06.131Z"
   },
   {
    "duration": 16,
    "start_time": "2024-09-06T17:30:06.753Z"
   },
   {
    "duration": 525,
    "start_time": "2024-09-06T17:30:06.771Z"
   },
   {
    "duration": 25,
    "start_time": "2024-09-06T17:30:07.298Z"
   },
   {
    "duration": 18,
    "start_time": "2024-09-06T17:30:07.325Z"
   },
   {
    "duration": 338,
    "start_time": "2024-09-06T17:30:07.345Z"
   },
   {
    "duration": 293,
    "start_time": "2024-09-06T17:30:07.688Z"
   },
   {
    "duration": 221,
    "start_time": "2024-09-06T17:30:07.983Z"
   },
   {
    "duration": 15,
    "start_time": "2024-09-06T17:30:08.206Z"
   },
   {
    "duration": 28,
    "start_time": "2024-09-06T17:30:08.223Z"
   },
   {
    "duration": 167,
    "start_time": "2024-09-06T17:30:08.253Z"
   },
   {
    "duration": 245,
    "start_time": "2024-09-06T17:30:08.422Z"
   },
   {
    "duration": 5,
    "start_time": "2024-09-06T17:30:08.669Z"
   },
   {
    "duration": 899,
    "start_time": "2024-09-06T17:30:08.676Z"
   },
   {
    "duration": 268,
    "start_time": "2024-09-06T17:30:09.576Z"
   },
   {
    "duration": 343,
    "start_time": "2024-09-06T17:30:09.846Z"
   },
   {
    "duration": 346,
    "start_time": "2024-09-06T17:30:10.191Z"
   },
   {
    "duration": 476,
    "start_time": "2024-09-06T17:30:10.539Z"
   },
   {
    "duration": 423,
    "start_time": "2024-09-06T17:30:11.016Z"
   },
   {
    "duration": 375,
    "start_time": "2024-09-06T17:30:11.440Z"
   },
   {
    "duration": 0,
    "start_time": "2024-09-06T17:30:11.817Z"
   },
   {
    "duration": 0,
    "start_time": "2024-09-06T17:30:11.818Z"
   },
   {
    "duration": 1,
    "start_time": "2024-09-06T17:30:11.819Z"
   },
   {
    "duration": 0,
    "start_time": "2024-09-06T17:30:11.821Z"
   },
   {
    "duration": 0,
    "start_time": "2024-09-06T17:30:11.822Z"
   },
   {
    "duration": 0,
    "start_time": "2024-09-06T17:30:11.823Z"
   },
   {
    "duration": 331,
    "start_time": "2024-09-06T17:36:59.505Z"
   },
   {
    "duration": 316,
    "start_time": "2024-09-06T17:40:24.014Z"
   },
   {
    "duration": 311,
    "start_time": "2024-09-06T17:40:32.235Z"
   },
   {
    "duration": 67,
    "start_time": "2024-09-06T17:41:33.070Z"
   },
   {
    "duration": 1202,
    "start_time": "2024-09-06T17:41:56.456Z"
   },
   {
    "duration": 57,
    "start_time": "2024-09-06T17:41:57.660Z"
   },
   {
    "duration": 18,
    "start_time": "2024-09-06T17:41:57.719Z"
   },
   {
    "duration": 19,
    "start_time": "2024-09-06T17:41:57.739Z"
   },
   {
    "duration": 7,
    "start_time": "2024-09-06T17:41:57.759Z"
   },
   {
    "duration": 57,
    "start_time": "2024-09-06T17:41:57.768Z"
   },
   {
    "duration": 698,
    "start_time": "2024-09-06T17:41:57.827Z"
   },
   {
    "duration": 3,
    "start_time": "2024-09-06T17:41:58.526Z"
   },
   {
    "duration": 11,
    "start_time": "2024-09-06T17:41:58.530Z"
   },
   {
    "duration": 4,
    "start_time": "2024-09-06T17:41:58.544Z"
   },
   {
    "duration": 198,
    "start_time": "2024-09-06T17:41:58.549Z"
   },
   {
    "duration": 12,
    "start_time": "2024-09-06T17:41:58.748Z"
   },
   {
    "duration": 19,
    "start_time": "2024-09-06T17:41:58.761Z"
   },
   {
    "duration": 9,
    "start_time": "2024-09-06T17:41:58.782Z"
   },
   {
    "duration": 8,
    "start_time": "2024-09-06T17:41:58.792Z"
   },
   {
    "duration": 23,
    "start_time": "2024-09-06T17:41:58.802Z"
   },
   {
    "duration": 5,
    "start_time": "2024-09-06T17:41:58.826Z"
   },
   {
    "duration": 23,
    "start_time": "2024-09-06T17:41:58.832Z"
   },
   {
    "duration": 41,
    "start_time": "2024-09-06T17:41:58.856Z"
   },
   {
    "duration": 18,
    "start_time": "2024-09-06T17:41:58.898Z"
   },
   {
    "duration": 13,
    "start_time": "2024-09-06T17:41:58.918Z"
   },
   {
    "duration": 32,
    "start_time": "2024-09-06T17:41:58.932Z"
   },
   {
    "duration": 24,
    "start_time": "2024-09-06T17:41:58.966Z"
   },
   {
    "duration": 10,
    "start_time": "2024-09-06T17:41:58.992Z"
   },
   {
    "duration": 26,
    "start_time": "2024-09-06T17:41:59.004Z"
   },
   {
    "duration": 9,
    "start_time": "2024-09-06T17:41:59.031Z"
   },
   {
    "duration": 10,
    "start_time": "2024-09-06T17:41:59.042Z"
   },
   {
    "duration": 13,
    "start_time": "2024-09-06T17:41:59.055Z"
   },
   {
    "duration": 17,
    "start_time": "2024-09-06T17:41:59.070Z"
   },
   {
    "duration": 34,
    "start_time": "2024-09-06T17:41:59.089Z"
   },
   {
    "duration": 15,
    "start_time": "2024-09-06T17:41:59.125Z"
   },
   {
    "duration": 235,
    "start_time": "2024-09-06T17:41:59.142Z"
   },
   {
    "duration": 374,
    "start_time": "2024-09-06T17:41:59.379Z"
   },
   {
    "duration": 8,
    "start_time": "2024-09-06T17:41:59.755Z"
   },
   {
    "duration": 603,
    "start_time": "2024-09-06T17:41:59.764Z"
   },
   {
    "duration": 15,
    "start_time": "2024-09-06T17:42:00.368Z"
   },
   {
    "duration": 553,
    "start_time": "2024-09-06T17:42:00.385Z"
   },
   {
    "duration": 14,
    "start_time": "2024-09-06T17:42:00.940Z"
   },
   {
    "duration": 15,
    "start_time": "2024-09-06T17:42:00.956Z"
   },
   {
    "duration": 310,
    "start_time": "2024-09-06T17:42:00.973Z"
   },
   {
    "duration": 291,
    "start_time": "2024-09-06T17:42:01.285Z"
   },
   {
    "duration": 246,
    "start_time": "2024-09-06T17:42:01.579Z"
   },
   {
    "duration": 12,
    "start_time": "2024-09-06T17:42:01.826Z"
   },
   {
    "duration": 31,
    "start_time": "2024-09-06T17:42:01.840Z"
   },
   {
    "duration": 186,
    "start_time": "2024-09-06T17:42:01.873Z"
   },
   {
    "duration": 264,
    "start_time": "2024-09-06T17:42:02.060Z"
   },
   {
    "duration": 6,
    "start_time": "2024-09-06T17:42:02.326Z"
   },
   {
    "duration": 901,
    "start_time": "2024-09-06T17:42:02.334Z"
   },
   {
    "duration": 266,
    "start_time": "2024-09-06T17:42:03.237Z"
   },
   {
    "duration": 344,
    "start_time": "2024-09-06T17:42:03.504Z"
   },
   {
    "duration": 331,
    "start_time": "2024-09-06T17:42:03.850Z"
   },
   {
    "duration": 491,
    "start_time": "2024-09-06T17:42:04.182Z"
   },
   {
    "duration": 408,
    "start_time": "2024-09-06T17:42:04.675Z"
   },
   {
    "duration": 344,
    "start_time": "2024-09-06T17:42:05.085Z"
   },
   {
    "duration": 5,
    "start_time": "2024-09-06T17:42:05.431Z"
   },
   {
    "duration": 11,
    "start_time": "2024-09-06T17:42:05.438Z"
   },
   {
    "duration": 39,
    "start_time": "2024-09-06T17:42:05.451Z"
   },
   {
    "duration": 48,
    "start_time": "2024-09-06T17:42:05.491Z"
   },
   {
    "duration": 72,
    "start_time": "2024-09-06T17:42:05.540Z"
   },
   {
    "duration": 402,
    "start_time": "2024-09-06T18:25:31.378Z"
   },
   {
    "duration": 96,
    "start_time": "2024-09-06T18:29:55.904Z"
   },
   {
    "duration": 1175,
    "start_time": "2024-09-06T18:31:04.371Z"
   },
   {
    "duration": 57,
    "start_time": "2024-09-06T18:31:05.548Z"
   },
   {
    "duration": 19,
    "start_time": "2024-09-06T18:31:05.606Z"
   },
   {
    "duration": 90,
    "start_time": "2024-09-06T18:31:05.627Z"
   },
   {
    "duration": 27,
    "start_time": "2024-09-06T18:31:05.719Z"
   },
   {
    "duration": 64,
    "start_time": "2024-09-06T18:31:05.748Z"
   },
   {
    "duration": 668,
    "start_time": "2024-09-06T18:31:05.813Z"
   },
   {
    "duration": 4,
    "start_time": "2024-09-06T18:31:06.482Z"
   },
   {
    "duration": 31,
    "start_time": "2024-09-06T18:31:06.488Z"
   },
   {
    "duration": 9,
    "start_time": "2024-09-06T18:31:06.522Z"
   },
   {
    "duration": 180,
    "start_time": "2024-09-06T18:31:06.533Z"
   },
   {
    "duration": 13,
    "start_time": "2024-09-06T18:31:06.721Z"
   },
   {
    "duration": 9,
    "start_time": "2024-09-06T18:31:06.736Z"
   },
   {
    "duration": 30,
    "start_time": "2024-09-06T18:31:06.747Z"
   },
   {
    "duration": 11,
    "start_time": "2024-09-06T18:31:06.779Z"
   },
   {
    "duration": 17,
    "start_time": "2024-09-06T18:31:06.792Z"
   },
   {
    "duration": 30,
    "start_time": "2024-09-06T18:31:06.811Z"
   },
   {
    "duration": 13,
    "start_time": "2024-09-06T18:31:06.843Z"
   },
   {
    "duration": 22,
    "start_time": "2024-09-06T18:31:06.857Z"
   },
   {
    "duration": 7,
    "start_time": "2024-09-06T18:31:06.880Z"
   },
   {
    "duration": 10,
    "start_time": "2024-09-06T18:31:06.889Z"
   },
   {
    "duration": 38,
    "start_time": "2024-09-06T18:31:06.901Z"
   },
   {
    "duration": 20,
    "start_time": "2024-09-06T18:31:06.941Z"
   },
   {
    "duration": 21,
    "start_time": "2024-09-06T18:31:06.963Z"
   },
   {
    "duration": 17,
    "start_time": "2024-09-06T18:31:06.986Z"
   },
   {
    "duration": 9,
    "start_time": "2024-09-06T18:31:07.020Z"
   },
   {
    "duration": 24,
    "start_time": "2024-09-06T18:31:07.031Z"
   },
   {
    "duration": 16,
    "start_time": "2024-09-06T18:31:07.059Z"
   },
   {
    "duration": 19,
    "start_time": "2024-09-06T18:31:07.076Z"
   },
   {
    "duration": 26,
    "start_time": "2024-09-06T18:31:07.097Z"
   },
   {
    "duration": 30,
    "start_time": "2024-09-06T18:31:07.125Z"
   },
   {
    "duration": 220,
    "start_time": "2024-09-06T18:31:07.157Z"
   },
   {
    "duration": 361,
    "start_time": "2024-09-06T18:31:07.378Z"
   },
   {
    "duration": 8,
    "start_time": "2024-09-06T18:31:07.741Z"
   },
   {
    "duration": 598,
    "start_time": "2024-09-06T18:31:07.751Z"
   },
   {
    "duration": 16,
    "start_time": "2024-09-06T18:31:08.351Z"
   },
   {
    "duration": 515,
    "start_time": "2024-09-06T18:31:08.369Z"
   },
   {
    "duration": 14,
    "start_time": "2024-09-06T18:31:08.885Z"
   },
   {
    "duration": 36,
    "start_time": "2024-09-06T18:31:08.901Z"
   },
   {
    "duration": 300,
    "start_time": "2024-09-06T18:31:08.939Z"
   },
   {
    "duration": 281,
    "start_time": "2024-09-06T18:31:09.241Z"
   },
   {
    "duration": 220,
    "start_time": "2024-09-06T18:31:09.524Z"
   },
   {
    "duration": 11,
    "start_time": "2024-09-06T18:31:09.746Z"
   },
   {
    "duration": 33,
    "start_time": "2024-09-06T18:31:09.759Z"
   },
   {
    "duration": 175,
    "start_time": "2024-09-06T18:31:09.794Z"
   },
   {
    "duration": 267,
    "start_time": "2024-09-06T18:31:09.971Z"
   },
   {
    "duration": 6,
    "start_time": "2024-09-06T18:31:10.240Z"
   },
   {
    "duration": 895,
    "start_time": "2024-09-06T18:31:10.248Z"
   },
   {
    "duration": 256,
    "start_time": "2024-09-06T18:31:11.144Z"
   },
   {
    "duration": 339,
    "start_time": "2024-09-06T18:31:11.401Z"
   },
   {
    "duration": 369,
    "start_time": "2024-09-06T18:31:11.742Z"
   },
   {
    "duration": 389,
    "start_time": "2024-09-06T18:31:12.113Z"
   },
   {
    "duration": 486,
    "start_time": "2024-09-06T18:31:12.504Z"
   },
   {
    "duration": 336,
    "start_time": "2024-09-06T18:31:12.993Z"
   },
   {
    "duration": 6,
    "start_time": "2024-09-06T18:31:13.331Z"
   },
   {
    "duration": 8,
    "start_time": "2024-09-06T18:31:13.339Z"
   },
   {
    "duration": 13,
    "start_time": "2024-09-06T18:31:13.349Z"
   },
   {
    "duration": 12,
    "start_time": "2024-09-06T18:31:13.364Z"
   },
   {
    "duration": 93,
    "start_time": "2024-09-06T18:31:13.378Z"
   },
   {
    "duration": 1260,
    "start_time": "2024-09-06T18:34:58.599Z"
   },
   {
    "duration": 58,
    "start_time": "2024-09-06T18:34:59.862Z"
   },
   {
    "duration": 19,
    "start_time": "2024-09-06T18:34:59.922Z"
   },
   {
    "duration": 23,
    "start_time": "2024-09-06T18:34:59.944Z"
   },
   {
    "duration": 10,
    "start_time": "2024-09-06T18:34:59.969Z"
   },
   {
    "duration": 68,
    "start_time": "2024-09-06T18:34:59.980Z"
   },
   {
    "duration": 683,
    "start_time": "2024-09-06T18:35:00.050Z"
   },
   {
    "duration": 3,
    "start_time": "2024-09-06T18:35:00.735Z"
   },
   {
    "duration": 19,
    "start_time": "2024-09-06T18:35:00.739Z"
   },
   {
    "duration": 14,
    "start_time": "2024-09-06T18:35:00.761Z"
   },
   {
    "duration": 192,
    "start_time": "2024-09-06T18:35:00.777Z"
   },
   {
    "duration": 11,
    "start_time": "2024-09-06T18:35:00.971Z"
   },
   {
    "duration": 34,
    "start_time": "2024-09-06T18:35:00.983Z"
   },
   {
    "duration": 24,
    "start_time": "2024-09-06T18:35:01.019Z"
   },
   {
    "duration": 16,
    "start_time": "2024-09-06T18:35:01.045Z"
   },
   {
    "duration": 9,
    "start_time": "2024-09-06T18:35:01.062Z"
   },
   {
    "duration": 11,
    "start_time": "2024-09-06T18:35:01.072Z"
   },
   {
    "duration": 26,
    "start_time": "2024-09-06T18:35:01.085Z"
   },
   {
    "duration": 18,
    "start_time": "2024-09-06T18:35:01.113Z"
   },
   {
    "duration": 7,
    "start_time": "2024-09-06T18:35:01.132Z"
   },
   {
    "duration": 7,
    "start_time": "2024-09-06T18:35:01.141Z"
   },
   {
    "duration": 27,
    "start_time": "2024-09-06T18:35:01.150Z"
   },
   {
    "duration": 20,
    "start_time": "2024-09-06T18:35:01.179Z"
   },
   {
    "duration": 30,
    "start_time": "2024-09-06T18:35:01.201Z"
   },
   {
    "duration": 36,
    "start_time": "2024-09-06T18:35:01.233Z"
   },
   {
    "duration": 10,
    "start_time": "2024-09-06T18:35:01.271Z"
   },
   {
    "duration": 11,
    "start_time": "2024-09-06T18:35:01.283Z"
   },
   {
    "duration": 31,
    "start_time": "2024-09-06T18:35:01.299Z"
   },
   {
    "duration": 20,
    "start_time": "2024-09-06T18:35:01.332Z"
   },
   {
    "duration": 34,
    "start_time": "2024-09-06T18:35:01.353Z"
   },
   {
    "duration": 17,
    "start_time": "2024-09-06T18:35:01.389Z"
   },
   {
    "duration": 279,
    "start_time": "2024-09-06T18:35:01.408Z"
   },
   {
    "duration": 380,
    "start_time": "2024-09-06T18:35:01.689Z"
   },
   {
    "duration": 8,
    "start_time": "2024-09-06T18:35:02.070Z"
   },
   {
    "duration": 601,
    "start_time": "2024-09-06T18:35:02.080Z"
   },
   {
    "duration": 15,
    "start_time": "2024-09-06T18:35:02.683Z"
   },
   {
    "duration": 563,
    "start_time": "2024-09-06T18:35:02.700Z"
   },
   {
    "duration": 14,
    "start_time": "2024-09-06T18:35:03.265Z"
   },
   {
    "duration": 17,
    "start_time": "2024-09-06T18:35:03.280Z"
   },
   {
    "duration": 320,
    "start_time": "2024-09-06T18:35:03.299Z"
   },
   {
    "duration": 293,
    "start_time": "2024-09-06T18:35:03.621Z"
   },
   {
    "duration": 251,
    "start_time": "2024-09-06T18:35:03.915Z"
   },
   {
    "duration": 12,
    "start_time": "2024-09-06T18:35:04.168Z"
   },
   {
    "duration": 65,
    "start_time": "2024-09-06T18:35:04.182Z"
   },
   {
    "duration": 176,
    "start_time": "2024-09-06T18:35:04.249Z"
   },
   {
    "duration": 255,
    "start_time": "2024-09-06T18:35:04.428Z"
   },
   {
    "duration": 7,
    "start_time": "2024-09-06T18:35:04.685Z"
   },
   {
    "duration": 945,
    "start_time": "2024-09-06T18:35:04.694Z"
   },
   {
    "duration": 264,
    "start_time": "2024-09-06T18:35:05.641Z"
   },
   {
    "duration": 335,
    "start_time": "2024-09-06T18:35:05.907Z"
   },
   {
    "duration": 334,
    "start_time": "2024-09-06T18:35:06.244Z"
   },
   {
    "duration": 480,
    "start_time": "2024-09-06T18:35:06.580Z"
   },
   {
    "duration": 386,
    "start_time": "2024-09-06T18:35:07.062Z"
   },
   {
    "duration": 331,
    "start_time": "2024-09-06T18:35:07.450Z"
   },
   {
    "duration": 6,
    "start_time": "2024-09-06T18:35:07.783Z"
   },
   {
    "duration": 19,
    "start_time": "2024-09-06T18:35:07.790Z"
   },
   {
    "duration": 11,
    "start_time": "2024-09-06T18:35:07.810Z"
   },
   {
    "duration": 7,
    "start_time": "2024-09-06T18:35:07.823Z"
   },
   {
    "duration": 5,
    "start_time": "2024-09-06T18:35:07.831Z"
   },
   {
    "duration": 1219,
    "start_time": "2024-09-06T18:36:20.540Z"
   },
   {
    "duration": 57,
    "start_time": "2024-09-06T18:36:21.760Z"
   },
   {
    "duration": 19,
    "start_time": "2024-09-06T18:36:21.818Z"
   },
   {
    "duration": 27,
    "start_time": "2024-09-06T18:36:21.838Z"
   },
   {
    "duration": 16,
    "start_time": "2024-09-06T18:36:21.868Z"
   },
   {
    "duration": 32,
    "start_time": "2024-09-06T18:36:21.886Z"
   },
   {
    "duration": 682,
    "start_time": "2024-09-06T18:36:21.921Z"
   },
   {
    "duration": 3,
    "start_time": "2024-09-06T18:36:22.605Z"
   },
   {
    "duration": 33,
    "start_time": "2024-09-06T18:36:22.609Z"
   },
   {
    "duration": 18,
    "start_time": "2024-09-06T18:36:22.643Z"
   },
   {
    "duration": 188,
    "start_time": "2024-09-06T18:36:22.662Z"
   },
   {
    "duration": 12,
    "start_time": "2024-09-06T18:36:22.852Z"
   },
   {
    "duration": 10,
    "start_time": "2024-09-06T18:36:22.865Z"
   },
   {
    "duration": 9,
    "start_time": "2024-09-06T18:36:22.878Z"
   },
   {
    "duration": 12,
    "start_time": "2024-09-06T18:36:22.888Z"
   },
   {
    "duration": 6,
    "start_time": "2024-09-06T18:36:22.920Z"
   },
   {
    "duration": 5,
    "start_time": "2024-09-06T18:36:22.927Z"
   },
   {
    "duration": 11,
    "start_time": "2024-09-06T18:36:22.933Z"
   },
   {
    "duration": 5,
    "start_time": "2024-09-06T18:36:22.945Z"
   },
   {
    "duration": 18,
    "start_time": "2024-09-06T18:36:22.951Z"
   },
   {
    "duration": 7,
    "start_time": "2024-09-06T18:36:22.970Z"
   },
   {
    "duration": 46,
    "start_time": "2024-09-06T18:36:22.979Z"
   },
   {
    "duration": 54,
    "start_time": "2024-09-06T18:36:23.026Z"
   },
   {
    "duration": 10,
    "start_time": "2024-09-06T18:36:23.081Z"
   },
   {
    "duration": 15,
    "start_time": "2024-09-06T18:36:23.093Z"
   },
   {
    "duration": 8,
    "start_time": "2024-09-06T18:36:23.110Z"
   },
   {
    "duration": 15,
    "start_time": "2024-09-06T18:36:23.120Z"
   },
   {
    "duration": 14,
    "start_time": "2024-09-06T18:36:23.136Z"
   },
   {
    "duration": 6,
    "start_time": "2024-09-06T18:36:23.152Z"
   },
   {
    "duration": 41,
    "start_time": "2024-09-06T18:36:23.159Z"
   },
   {
    "duration": 28,
    "start_time": "2024-09-06T18:36:23.202Z"
   },
   {
    "duration": 228,
    "start_time": "2024-09-06T18:36:23.232Z"
   },
   {
    "duration": 360,
    "start_time": "2024-09-06T18:36:23.461Z"
   },
   {
    "duration": 8,
    "start_time": "2024-09-06T18:36:23.822Z"
   },
   {
    "duration": 627,
    "start_time": "2024-09-06T18:36:23.831Z"
   },
   {
    "duration": 15,
    "start_time": "2024-09-06T18:36:24.459Z"
   },
   {
    "duration": 513,
    "start_time": "2024-09-06T18:36:24.476Z"
   },
   {
    "duration": 14,
    "start_time": "2024-09-06T18:36:24.990Z"
   },
   {
    "duration": 32,
    "start_time": "2024-09-06T18:36:25.005Z"
   },
   {
    "duration": 352,
    "start_time": "2024-09-06T18:36:25.040Z"
   },
   {
    "duration": 290,
    "start_time": "2024-09-06T18:36:25.396Z"
   },
   {
    "duration": 228,
    "start_time": "2024-09-06T18:36:25.687Z"
   },
   {
    "duration": 12,
    "start_time": "2024-09-06T18:36:25.920Z"
   },
   {
    "duration": 45,
    "start_time": "2024-09-06T18:36:25.933Z"
   },
   {
    "duration": 159,
    "start_time": "2024-09-06T18:36:25.980Z"
   },
   {
    "duration": 246,
    "start_time": "2024-09-06T18:36:26.141Z"
   },
   {
    "duration": 6,
    "start_time": "2024-09-06T18:36:26.390Z"
   },
   {
    "duration": 914,
    "start_time": "2024-09-06T18:36:26.398Z"
   },
   {
    "duration": 258,
    "start_time": "2024-09-06T18:36:27.313Z"
   },
   {
    "duration": 351,
    "start_time": "2024-09-06T18:36:27.572Z"
   },
   {
    "duration": 329,
    "start_time": "2024-09-06T18:36:27.924Z"
   },
   {
    "duration": 383,
    "start_time": "2024-09-06T18:36:28.255Z"
   },
   {
    "duration": 510,
    "start_time": "2024-09-06T18:36:28.640Z"
   },
   {
    "duration": 335,
    "start_time": "2024-09-06T18:36:29.152Z"
   },
   {
    "duration": 7,
    "start_time": "2024-09-06T18:36:29.489Z"
   },
   {
    "duration": 26,
    "start_time": "2024-09-06T18:36:29.498Z"
   },
   {
    "duration": 17,
    "start_time": "2024-09-06T18:36:29.526Z"
   },
   {
    "duration": 17,
    "start_time": "2024-09-06T18:36:29.545Z"
   },
   {
    "duration": 10,
    "start_time": "2024-09-06T18:36:29.564Z"
   },
   {
    "duration": 1508,
    "start_time": "2024-09-07T11:23:17.184Z"
   },
   {
    "duration": 255,
    "start_time": "2024-09-07T11:23:18.694Z"
   },
   {
    "duration": 25,
    "start_time": "2024-09-07T11:23:18.951Z"
   },
   {
    "duration": 82,
    "start_time": "2024-09-07T11:23:18.978Z"
   },
   {
    "duration": 15,
    "start_time": "2024-09-07T11:23:19.063Z"
   },
   {
    "duration": 53,
    "start_time": "2024-09-07T11:23:19.080Z"
   },
   {
    "duration": 800,
    "start_time": "2024-09-07T11:23:19.136Z"
   },
   {
    "duration": 4,
    "start_time": "2024-09-07T11:23:19.942Z"
   },
   {
    "duration": 34,
    "start_time": "2024-09-07T11:23:19.950Z"
   },
   {
    "duration": 5,
    "start_time": "2024-09-07T11:23:19.986Z"
   },
   {
    "duration": 255,
    "start_time": "2024-09-07T11:23:19.992Z"
   },
   {
    "duration": 12,
    "start_time": "2024-09-07T11:23:20.249Z"
   },
   {
    "duration": 13,
    "start_time": "2024-09-07T11:23:20.262Z"
   },
   {
    "duration": 39,
    "start_time": "2024-09-07T11:23:20.279Z"
   },
   {
    "duration": 10,
    "start_time": "2024-09-07T11:23:20.328Z"
   },
   {
    "duration": 32,
    "start_time": "2024-09-07T11:23:20.340Z"
   },
   {
    "duration": 83,
    "start_time": "2024-09-07T11:23:20.373Z"
   },
   {
    "duration": 18,
    "start_time": "2024-09-07T11:23:20.458Z"
   },
   {
    "duration": 8,
    "start_time": "2024-09-07T11:23:20.478Z"
   },
   {
    "duration": 10,
    "start_time": "2024-09-07T11:23:20.487Z"
   },
   {
    "duration": 17,
    "start_time": "2024-09-07T11:23:20.499Z"
   },
   {
    "duration": 60,
    "start_time": "2024-09-07T11:23:20.517Z"
   },
   {
    "duration": 21,
    "start_time": "2024-09-07T11:23:20.578Z"
   },
   {
    "duration": 18,
    "start_time": "2024-09-07T11:23:20.601Z"
   },
   {
    "duration": 23,
    "start_time": "2024-09-07T11:23:20.627Z"
   },
   {
    "duration": 9,
    "start_time": "2024-09-07T11:23:20.651Z"
   },
   {
    "duration": 11,
    "start_time": "2024-09-07T11:23:20.662Z"
   },
   {
    "duration": 33,
    "start_time": "2024-09-07T11:23:20.675Z"
   },
   {
    "duration": 18,
    "start_time": "2024-09-07T11:23:20.717Z"
   },
   {
    "duration": 15,
    "start_time": "2024-09-07T11:23:20.739Z"
   },
   {
    "duration": 18,
    "start_time": "2024-09-07T11:23:20.755Z"
   },
   {
    "duration": 288,
    "start_time": "2024-09-07T11:23:20.774Z"
   },
   {
    "duration": 428,
    "start_time": "2024-09-07T11:23:21.064Z"
   },
   {
    "duration": 30,
    "start_time": "2024-09-07T11:23:21.494Z"
   },
   {
    "duration": 728,
    "start_time": "2024-09-07T11:23:21.532Z"
   },
   {
    "duration": 16,
    "start_time": "2024-09-07T11:23:22.262Z"
   },
   {
    "duration": 610,
    "start_time": "2024-09-07T11:23:22.280Z"
   },
   {
    "duration": 33,
    "start_time": "2024-09-07T11:23:22.892Z"
   },
   {
    "duration": 34,
    "start_time": "2024-09-07T11:23:22.927Z"
   },
   {
    "duration": 470,
    "start_time": "2024-09-07T11:23:22.964Z"
   },
   {
    "duration": 342,
    "start_time": "2024-09-07T11:23:23.439Z"
   },
   {
    "duration": 272,
    "start_time": "2024-09-07T11:23:23.783Z"
   },
   {
    "duration": 11,
    "start_time": "2024-09-07T11:23:24.057Z"
   },
   {
    "duration": 62,
    "start_time": "2024-09-07T11:23:24.070Z"
   },
   {
    "duration": 186,
    "start_time": "2024-09-07T11:23:24.143Z"
   },
   {
    "duration": 282,
    "start_time": "2024-09-07T11:23:24.331Z"
   },
   {
    "duration": 10,
    "start_time": "2024-09-07T11:23:24.615Z"
   },
   {
    "duration": 1130,
    "start_time": "2024-09-07T11:23:24.627Z"
   },
   {
    "duration": 322,
    "start_time": "2024-09-07T11:23:25.759Z"
   },
   {
    "duration": 449,
    "start_time": "2024-09-07T11:23:26.083Z"
   },
   {
    "duration": 402,
    "start_time": "2024-09-07T11:23:26.539Z"
   },
   {
    "duration": 567,
    "start_time": "2024-09-07T11:23:26.942Z"
   },
   {
    "duration": 477,
    "start_time": "2024-09-07T11:23:27.511Z"
   },
   {
    "duration": 400,
    "start_time": "2024-09-07T11:23:27.990Z"
   },
   {
    "duration": 27,
    "start_time": "2024-09-07T11:23:28.392Z"
   },
   {
    "duration": 37,
    "start_time": "2024-09-07T11:23:28.429Z"
   },
   {
    "duration": 25,
    "start_time": "2024-09-07T11:23:28.468Z"
   },
   {
    "duration": 37,
    "start_time": "2024-09-07T11:23:28.495Z"
   },
   {
    "duration": 8,
    "start_time": "2024-09-07T11:23:28.534Z"
   },
   {
    "duration": 25,
    "start_time": "2024-09-07T11:27:00.035Z"
   },
   {
    "duration": 15,
    "start_time": "2024-09-07T11:27:09.468Z"
   },
   {
    "duration": 7,
    "start_time": "2024-09-07T11:32:42.765Z"
   },
   {
    "duration": 1320,
    "start_time": "2024-09-07T11:36:30.904Z"
   },
   {
    "duration": 66,
    "start_time": "2024-09-07T11:36:32.225Z"
   },
   {
    "duration": 37,
    "start_time": "2024-09-07T11:36:32.293Z"
   },
   {
    "duration": 25,
    "start_time": "2024-09-07T11:36:32.332Z"
   },
   {
    "duration": 10,
    "start_time": "2024-09-07T11:36:32.359Z"
   },
   {
    "duration": 62,
    "start_time": "2024-09-07T11:36:32.371Z"
   },
   {
    "duration": 759,
    "start_time": "2024-09-07T11:36:32.435Z"
   },
   {
    "duration": 3,
    "start_time": "2024-09-07T11:36:33.195Z"
   },
   {
    "duration": 57,
    "start_time": "2024-09-07T11:36:33.200Z"
   },
   {
    "duration": 5,
    "start_time": "2024-09-07T11:36:33.261Z"
   },
   {
    "duration": 201,
    "start_time": "2024-09-07T11:36:33.268Z"
   },
   {
    "duration": 14,
    "start_time": "2024-09-07T11:36:33.471Z"
   },
   {
    "duration": 33,
    "start_time": "2024-09-07T11:36:33.487Z"
   },
   {
    "duration": 21,
    "start_time": "2024-09-07T11:36:33.526Z"
   },
   {
    "duration": 6,
    "start_time": "2024-09-07T11:36:33.548Z"
   },
   {
    "duration": 20,
    "start_time": "2024-09-07T11:36:33.556Z"
   },
   {
    "duration": 5,
    "start_time": "2024-09-07T11:36:33.578Z"
   },
   {
    "duration": 10,
    "start_time": "2024-09-07T11:36:33.584Z"
   },
   {
    "duration": 10,
    "start_time": "2024-09-07T11:36:33.596Z"
   },
   {
    "duration": 8,
    "start_time": "2024-09-07T11:36:33.614Z"
   },
   {
    "duration": 15,
    "start_time": "2024-09-07T11:36:33.626Z"
   },
   {
    "duration": 31,
    "start_time": "2024-09-07T11:36:33.643Z"
   },
   {
    "duration": 20,
    "start_time": "2024-09-07T11:36:33.675Z"
   },
   {
    "duration": 22,
    "start_time": "2024-09-07T11:36:33.708Z"
   },
   {
    "duration": 21,
    "start_time": "2024-09-07T11:36:33.732Z"
   },
   {
    "duration": 9,
    "start_time": "2024-09-07T11:36:33.755Z"
   },
   {
    "duration": 11,
    "start_time": "2024-09-07T11:36:33.765Z"
   },
   {
    "duration": 55,
    "start_time": "2024-09-07T11:36:33.780Z"
   },
   {
    "duration": 7,
    "start_time": "2024-09-07T11:36:33.837Z"
   },
   {
    "duration": 16,
    "start_time": "2024-09-07T11:36:33.845Z"
   },
   {
    "duration": 16,
    "start_time": "2024-09-07T11:36:33.863Z"
   },
   {
    "duration": 263,
    "start_time": "2024-09-07T11:36:33.881Z"
   },
   {
    "duration": 407,
    "start_time": "2024-09-07T11:36:34.146Z"
   },
   {
    "duration": 8,
    "start_time": "2024-09-07T11:36:34.555Z"
   },
   {
    "duration": 702,
    "start_time": "2024-09-07T11:36:34.565Z"
   },
   {
    "duration": 17,
    "start_time": "2024-09-07T11:36:35.269Z"
   },
   {
    "duration": 794,
    "start_time": "2024-09-07T11:36:35.288Z"
   },
   {
    "duration": 30,
    "start_time": "2024-09-07T11:36:36.083Z"
   },
   {
    "duration": 32,
    "start_time": "2024-09-07T11:36:36.115Z"
   },
   {
    "duration": 375,
    "start_time": "2024-09-07T11:36:36.149Z"
   },
   {
    "duration": 338,
    "start_time": "2024-09-07T11:36:36.529Z"
   },
   {
    "duration": 277,
    "start_time": "2024-09-07T11:36:36.869Z"
   },
   {
    "duration": 11,
    "start_time": "2024-09-07T11:36:37.147Z"
   },
   {
    "duration": 83,
    "start_time": "2024-09-07T11:36:37.160Z"
   },
   {
    "duration": 15,
    "start_time": "2024-09-07T11:36:37.245Z"
   },
   {
    "duration": 203,
    "start_time": "2024-09-07T11:36:37.261Z"
   },
   {
    "duration": 303,
    "start_time": "2024-09-07T11:36:37.465Z"
   },
   {
    "duration": 6,
    "start_time": "2024-09-07T11:36:37.769Z"
   },
   {
    "duration": 1094,
    "start_time": "2024-09-07T11:36:37.777Z"
   },
   {
    "duration": 371,
    "start_time": "2024-09-07T11:36:38.873Z"
   },
   {
    "duration": 694,
    "start_time": "2024-09-07T11:36:39.246Z"
   },
   {
    "duration": 390,
    "start_time": "2024-09-07T11:36:39.942Z"
   },
   {
    "duration": 434,
    "start_time": "2024-09-07T11:36:40.336Z"
   },
   {
    "duration": 559,
    "start_time": "2024-09-07T11:36:40.772Z"
   },
   {
    "duration": 371,
    "start_time": "2024-09-07T11:36:41.335Z"
   },
   {
    "duration": 15,
    "start_time": "2024-09-07T11:36:41.708Z"
   },
   {
    "duration": 19,
    "start_time": "2024-09-07T11:36:41.726Z"
   },
   {
    "duration": 9,
    "start_time": "2024-09-07T11:36:41.746Z"
   },
   {
    "duration": 7,
    "start_time": "2024-09-07T11:36:41.756Z"
   },
   {
    "duration": 7,
    "start_time": "2024-09-07T11:36:41.765Z"
   },
   {
    "duration": 12,
    "start_time": "2024-09-07T11:36:41.774Z"
   },
   {
    "duration": 9,
    "start_time": "2024-09-07T11:36:41.788Z"
   },
   {
    "duration": 77,
    "start_time": "2024-09-07T11:36:41.807Z"
   },
   {
    "duration": 3,
    "start_time": "2024-09-07T11:36:41.886Z"
   },
   {
    "duration": 39,
    "start_time": "2024-09-07T11:36:41.891Z"
   },
   {
    "duration": 10,
    "start_time": "2024-09-07T11:36:41.942Z"
   },
   {
    "duration": 5,
    "start_time": "2024-09-07T11:36:41.954Z"
   },
   {
    "duration": 6,
    "start_time": "2024-09-07T11:36:41.961Z"
   },
   {
    "duration": 9,
    "start_time": "2024-09-07T11:36:41.968Z"
   },
   {
    "duration": 682,
    "start_time": "2024-09-07T11:36:41.978Z"
   },
   {
    "duration": 703,
    "start_time": "2024-09-07T11:36:42.661Z"
   },
   {
    "duration": 670,
    "start_time": "2024-09-07T11:36:43.366Z"
   },
   {
    "duration": 1294,
    "start_time": "2024-09-07T19:22:54.885Z"
   },
   {
    "duration": 175,
    "start_time": "2024-09-07T19:22:56.180Z"
   },
   {
    "duration": 19,
    "start_time": "2024-09-07T19:22:56.357Z"
   },
   {
    "duration": 15,
    "start_time": "2024-09-07T19:22:56.378Z"
   },
   {
    "duration": 6,
    "start_time": "2024-09-07T19:22:56.395Z"
   },
   {
    "duration": 51,
    "start_time": "2024-09-07T19:22:56.403Z"
   },
   {
    "duration": 613,
    "start_time": "2024-09-07T19:22:56.455Z"
   },
   {
    "duration": 4,
    "start_time": "2024-09-07T19:22:57.070Z"
   },
   {
    "duration": 11,
    "start_time": "2024-09-07T19:22:57.075Z"
   },
   {
    "duration": 8,
    "start_time": "2024-09-07T19:22:57.087Z"
   },
   {
    "duration": 199,
    "start_time": "2024-09-07T19:22:57.096Z"
   },
   {
    "duration": 11,
    "start_time": "2024-09-07T19:22:57.297Z"
   },
   {
    "duration": 35,
    "start_time": "2024-09-07T19:22:57.309Z"
   },
   {
    "duration": 12,
    "start_time": "2024-09-07T19:22:57.347Z"
   },
   {
    "duration": 7,
    "start_time": "2024-09-07T19:22:57.361Z"
   },
   {
    "duration": 5,
    "start_time": "2024-09-07T19:22:57.369Z"
   },
   {
    "duration": 5,
    "start_time": "2024-09-07T19:22:57.376Z"
   },
   {
    "duration": 15,
    "start_time": "2024-09-07T19:22:57.383Z"
   },
   {
    "duration": 6,
    "start_time": "2024-09-07T19:22:57.400Z"
   },
   {
    "duration": 7,
    "start_time": "2024-09-07T19:22:57.408Z"
   },
   {
    "duration": 41,
    "start_time": "2024-09-07T19:22:57.417Z"
   },
   {
    "duration": 33,
    "start_time": "2024-09-07T19:22:57.460Z"
   },
   {
    "duration": 19,
    "start_time": "2024-09-07T19:22:57.494Z"
   },
   {
    "duration": 11,
    "start_time": "2024-09-07T19:22:57.515Z"
   },
   {
    "duration": 18,
    "start_time": "2024-09-07T19:22:57.552Z"
   },
   {
    "duration": 9,
    "start_time": "2024-09-07T19:22:57.572Z"
   },
   {
    "duration": 11,
    "start_time": "2024-09-07T19:22:57.583Z"
   },
   {
    "duration": 14,
    "start_time": "2024-09-07T19:22:57.596Z"
   },
   {
    "duration": 41,
    "start_time": "2024-09-07T19:22:57.612Z"
   },
   {
    "duration": 15,
    "start_time": "2024-09-07T19:22:57.655Z"
   },
   {
    "duration": 15,
    "start_time": "2024-09-07T19:22:57.672Z"
   },
   {
    "duration": 223,
    "start_time": "2024-09-07T19:22:57.689Z"
   },
   {
    "duration": 330,
    "start_time": "2024-09-07T19:22:57.914Z"
   },
   {
    "duration": 10,
    "start_time": "2024-09-07T19:22:58.246Z"
   },
   {
    "duration": 581,
    "start_time": "2024-09-07T19:22:58.257Z"
   },
   {
    "duration": 17,
    "start_time": "2024-09-07T19:22:58.840Z"
   },
   {
    "duration": 477,
    "start_time": "2024-09-07T19:22:58.859Z"
   },
   {
    "duration": 22,
    "start_time": "2024-09-07T19:22:59.338Z"
   },
   {
    "duration": 15,
    "start_time": "2024-09-07T19:22:59.361Z"
   },
   {
    "duration": 285,
    "start_time": "2024-09-07T19:22:59.378Z"
   },
   {
    "duration": 288,
    "start_time": "2024-09-07T19:22:59.669Z"
   },
   {
    "duration": 209,
    "start_time": "2024-09-07T19:22:59.959Z"
   },
   {
    "duration": 10,
    "start_time": "2024-09-07T19:23:00.171Z"
   },
   {
    "duration": 74,
    "start_time": "2024-09-07T19:23:00.183Z"
   },
   {
    "duration": 50,
    "start_time": "2024-09-07T19:23:00.259Z"
   },
   {
    "duration": 179,
    "start_time": "2024-09-07T19:23:00.311Z"
   },
   {
    "duration": 247,
    "start_time": "2024-09-07T19:23:00.492Z"
   },
   {
    "duration": 13,
    "start_time": "2024-09-07T19:23:00.741Z"
   },
   {
    "duration": 827,
    "start_time": "2024-09-07T19:23:00.755Z"
   },
   {
    "duration": 250,
    "start_time": "2024-09-07T19:23:01.584Z"
   },
   {
    "duration": 316,
    "start_time": "2024-09-07T19:23:01.836Z"
   },
   {
    "duration": 345,
    "start_time": "2024-09-07T19:23:02.154Z"
   },
   {
    "duration": 370,
    "start_time": "2024-09-07T19:23:02.501Z"
   },
   {
    "duration": 480,
    "start_time": "2024-09-07T19:23:02.873Z"
   },
   {
    "duration": 324,
    "start_time": "2024-09-07T19:23:03.355Z"
   },
   {
    "duration": 5,
    "start_time": "2024-09-07T19:23:03.681Z"
   },
   {
    "duration": 8,
    "start_time": "2024-09-07T19:23:03.687Z"
   },
   {
    "duration": 9,
    "start_time": "2024-09-07T19:23:03.696Z"
   },
   {
    "duration": 6,
    "start_time": "2024-09-07T19:23:03.707Z"
   },
   {
    "duration": 7,
    "start_time": "2024-09-07T19:23:03.715Z"
   },
   {
    "duration": 31,
    "start_time": "2024-09-07T19:23:03.723Z"
   },
   {
    "duration": 15,
    "start_time": "2024-09-07T19:23:03.756Z"
   },
   {
    "duration": 66,
    "start_time": "2024-09-07T19:23:03.772Z"
   },
   {
    "duration": 3,
    "start_time": "2024-09-07T19:23:03.840Z"
   },
   {
    "duration": 10,
    "start_time": "2024-09-07T19:23:03.844Z"
   },
   {
    "duration": 19,
    "start_time": "2024-09-07T19:23:03.856Z"
   },
   {
    "duration": 12,
    "start_time": "2024-09-07T19:23:03.876Z"
   },
   {
    "duration": 5,
    "start_time": "2024-09-07T19:23:03.890Z"
   },
   {
    "duration": 7,
    "start_time": "2024-09-07T19:23:03.897Z"
   },
   {
    "duration": 637,
    "start_time": "2024-09-07T19:23:03.905Z"
   },
   {
    "duration": 544,
    "start_time": "2024-09-07T19:23:04.544Z"
   },
   {
    "duration": 616,
    "start_time": "2024-09-07T19:23:05.090Z"
   }
  ],
  "kernelspec": {
   "display_name": "Python 3 (ipykernel)",
   "language": "python",
   "name": "python3"
  },
  "language_info": {
   "codemirror_mode": {
    "name": "ipython",
    "version": 3
   },
   "file_extension": ".py",
   "mimetype": "text/x-python",
   "name": "python",
   "nbconvert_exporter": "python",
   "pygments_lexer": "ipython3",
   "version": "3.9.5"
  },
  "toc": {
   "base_numbering": 1,
   "nav_menu": {
    "height": "565px",
    "width": "474px"
   },
   "number_sections": true,
   "sideBar": true,
   "skip_h1_title": true,
   "title_cell": "Table of Contents",
   "title_sidebar": "Contents",
   "toc_cell": false,
   "toc_position": {
    "height": "523px",
    "left": "26px",
    "top": "110.525px",
    "width": "165px"
   },
   "toc_section_display": true,
   "toc_window_display": true
  }
 },
 "nbformat": 4,
 "nbformat_minor": 4
}
